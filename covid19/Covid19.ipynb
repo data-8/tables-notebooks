{
 "cells": [
  {
   "cell_type": "markdown",
   "metadata": {},
   "source": [
    "# COVID-19 report analysis\n",
    "\n",
    "Utilizes the daily data reporting from Johns Hopkins University Center for Systems Science and Engineering (JHU CSSE):\n",
    "https://systems.jhu.edu/\n",
    "\n",
    "Using the introductory Data Science Tables (for reference see http://data8.org/datascience/tables.html) of introductory courses"
   ]
  },
  {
   "cell_type": "code",
   "execution_count": null,
   "metadata": {},
   "outputs": [],
   "source": [
    "# HIDDEN\n",
    "# This useful nonsense should just go at the top of your notebook.\n",
    "from datascience import *\n",
    "%matplotlib inline\n",
    "#%matplotlib notebook\n",
    "import matplotlib.pyplot as plots\n",
    "import numpy as np\n",
    "plots.style.use('fivethirtyeight')\n",
    "plots.rc('lines', linewidth=2, color='r')\n",
    "from ipywidgets import interact\n",
    "import ipywidgets as widgets\n",
    "# datascience version number of last run of this notebook\n",
    "version.__version__"
   ]
  },
  {
   "cell_type": "code",
   "execution_count": null,
   "metadata": {},
   "outputs": [],
   "source": [
    "import sys\n",
    "sys.path.append(\".\")\n",
    "from timetable import TimeTable\n",
    "\n",
    "import locale\n",
    "locale.setlocale( locale.LC_ALL, 'en_US.UTF-8' ) \n",
    "\n",
    "import os\n",
    "import datetime\n",
    "\n",
    "# Parsing and cleaning\n",
    "def denan(v):\n",
    "    return v if v != 'nan' else np.nan\n",
    "\n",
    "def clean(tbl):\n",
    "    for lbl in tbl.labels:\n",
    "        tbl[lbl] = tbl.apply(denan, lbl)\n",
    "\n",
    "def is_state(name):\n",
    "    return not ',' in name\n",
    "def is_county(name):\n",
    "    return ',' in name\n",
    "def getstate(name):\n",
    "    county, state = name.split(', ')\n",
    "    return state\n",
    "def getcounty(name):\n",
    "    county, state = name.split(', ')\n",
    "    return county\n",
    "\n",
    "# Tools for working with timestamps\n",
    "def afterday(refday, day):\n",
    "    return datetime.datetime.strptime(refday, \"%m/%d/%y\") <= datetime.datetime.strptime(day, \"%m/%d/%y\")\n",
    "\n",
    "def after(trend, refday):\n",
    "    return trend.where(trend.apply(lambda day: afterday(refday, day), trend.time_column))"
   ]
  },
  {
   "cell_type": "code",
   "execution_count": null,
   "metadata": {},
   "outputs": [],
   "source": [
    "# Tools for working with content\n",
    "def by_country(raw_world):\n",
    "    res = raw_world.drop(['Province/State', 'Lat', 'Long']).group('Country/Region', sum)\n",
    "    for lbl in res.labels[1:] :\n",
    "        res.relabel(lbl, lbl[:-4])\n",
    "    return res"
   ]
  },
  {
   "cell_type": "code",
   "execution_count": null,
   "metadata": {},
   "outputs": [],
   "source": [
    "# Projecting growth rates\n",
    "\n",
    "def incday(day, ndays=1):\n",
    "    date =  datetime.datetime.strptime(day, \"%m/%d/%y\") + datetime.timedelta(days=ndays)\n",
    "    return datetime.datetime.strftime(date, \"%m/%d/%y\")\n",
    "\n",
    "def ave_growth(trend, window=4):\n",
    "    \"\"\"Average recent growth rate of single trend\"\"\"\n",
    "    return np.mean(trend.take[-window:]['rate'])\n",
    "\n",
    "def project_trend(trend, num_days, rate=None):\n",
    "    if rate :\n",
    "        growth_rate = rate\n",
    "    else :\n",
    "        growth_rate = ave_growth(trend)\n",
    "    day = trend.last('Day')\n",
    "    val = trend.last(1)\n",
    "    growth = trend.last('new')\n",
    "    pnew = trend.last('% new')\n",
    "    proj = trend.copy()\n",
    "    for i in range(num_days):\n",
    "        day = incday(day)\n",
    "        growth = round(growth * growth_rate)\n",
    "        val = val + growth\n",
    "        pnew = growth/val\n",
    "        proj.append((day, val, growth, pnew, growth_rate))\n",
    "    return proj"
   ]
  },
  {
   "cell_type": "code",
   "execution_count": null,
   "metadata": {},
   "outputs": [],
   "source": [
    "# Pull the most recent data\n",
    "if (not os.path.exists('./COVID-19')) :\n",
    "    os.system('git clone https://github.com/CSSEGISandData/COVID-19')\n",
    "else :\n",
    "    os.system('pushd ./COVID19; git pull; popd')"
   ]
  },
  {
   "cell_type": "code",
   "execution_count": null,
   "metadata": {},
   "outputs": [],
   "source": [
    "# Raw data of confirmed cases\n",
    "raw_confirmed = Table.read_table('./COVID-19/csse_covid_19_data/csse_covid_19_time_series/time_series_19-covid-Confirmed.csv')\n",
    "raw_confirmed"
   ]
  },
  {
   "cell_type": "code",
   "execution_count": null,
   "metadata": {},
   "outputs": [],
   "source": [
    "raw_by_country = by_country(raw_confirmed)\n",
    "countries_by_day = TimeTable.transpose(raw_by_country, 'Country/Region')\n",
    "after(countries_by_day, \"3/15/20\")"
   ]
  },
  {
   "cell_type": "code",
   "execution_count": null,
   "metadata": {},
   "outputs": [],
   "source": [
    "# What is the last day reported\n",
    "countries_by_day.last('Day')"
   ]
  },
  {
   "cell_type": "markdown",
   "metadata": {},
   "source": [
    "### How many of the 195 recognized countries in the world have reported cases?\n",
    "\n",
    "This does include some non-countries, like Princess Cruises"
   ]
  },
  {
   "cell_type": "code",
   "execution_count": null,
   "metadata": {},
   "outputs": [],
   "source": [
    "raw_by_country.num_rows"
   ]
  },
  {
   "cell_type": "markdown",
   "metadata": {},
   "source": [
    "### Total confirmed cases worldwide"
   ]
  },
  {
   "cell_type": "code",
   "execution_count": null,
   "metadata": {},
   "outputs": [],
   "source": [
    "total_confirmed = countries_by_day.select('Day')\n",
    "total_confirmed['Worldwide'] = countries_by_day.sum_rows()\n",
    "total_confirmed.obar()"
   ]
  },
  {
   "cell_type": "code",
   "execution_count": null,
   "metadata": {},
   "outputs": [],
   "source": [
    "# Breaking this picture down by largest caseloads\n",
    "\n",
    "countries_by_day.stackbar(10, height=6)"
   ]
  },
  {
   "cell_type": "code",
   "execution_count": null,
   "metadata": {},
   "outputs": [],
   "source": [
    "# Recent picture of countries with most cases\n",
    "countries_by_day.top(15).take[-10:]"
   ]
  },
  {
   "cell_type": "code",
   "execution_count": null,
   "metadata": {},
   "outputs": [],
   "source": [
    "total_confirmed.trend().take[-10:]"
   ]
  },
  {
   "cell_type": "code",
   "execution_count": null,
   "metadata": {},
   "outputs": [],
   "source": [
    "project_trend(total_confirmed.trend().take[-10:], 10).show()"
   ]
  },
  {
   "cell_type": "code",
   "execution_count": null,
   "metadata": {},
   "outputs": [],
   "source": [
    "project_trend(total_confirmed.trend().take[-10:], 10).select(range(3)).bar('Day')"
   ]
  },
  {
   "cell_type": "code",
   "execution_count": null,
   "metadata": {},
   "outputs": [],
   "source": [
    "countries_by_day.top(5).trend().take[-10:]"
   ]
  },
  {
   "cell_type": "markdown",
   "metadata": {},
   "source": [
    "### Confirmed cases in one country"
   ]
  },
  {
   "cell_type": "code",
   "execution_count": null,
   "metadata": {},
   "outputs": [],
   "source": [
    "w = widgets.Dropdown(\n",
    "    options=countries_by_day.categories,\n",
    "    value='US',\n",
    "    # rows=10,\n",
    "    description='Country:',\n",
    "    disabled=False\n",
    ")\n",
    "w"
   ]
  },
  {
   "cell_type": "code",
   "execution_count": null,
   "metadata": {},
   "outputs": [],
   "source": [
    "country = w.value"
   ]
  },
  {
   "cell_type": "code",
   "execution_count": null,
   "metadata": {},
   "outputs": [],
   "source": [
    "country_trend = countries_by_day.extract(country).trend()\n",
    "after(country_trend, '3/5/20').show()"
   ]
  },
  {
   "cell_type": "code",
   "execution_count": null,
   "metadata": {},
   "outputs": [],
   "source": [
    "recent = after(country_trend,'3/11/20')\n",
    "recent.extract([country, 'new']).bar('Day', height=5)"
   ]
  },
  {
   "cell_type": "code",
   "execution_count": null,
   "metadata": {},
   "outputs": [],
   "source": [
    "projection = project_trend(recent, 10)\n",
    "projection.show()"
   ]
  },
  {
   "cell_type": "code",
   "execution_count": null,
   "metadata": {},
   "outputs": [],
   "source": [
    "projection.extract([country, 'new']).bar('Day')"
   ]
  },
  {
   "cell_type": "markdown",
   "metadata": {},
   "source": [
    "### State/Province level"
   ]
  },
  {
   "cell_type": "markdown",
   "metadata": {},
   "source": [
    "What countries are further broken down by state"
   ]
  },
  {
   "cell_type": "code",
   "execution_count": null,
   "metadata": {},
   "outputs": [],
   "source": [
    "countries_with_states = list(np.unique(raw_confirmed.where(raw_confirmed['Province/State'] != 'nan')['Country/Region']))\n",
    "\n",
    "cw = widgets.Dropdown(\n",
    "    options=countries_with_states,\n",
    "    value='US',\n",
    "    # rows=10,\n",
    "    description='Country:',\n",
    "    disabled=False\n",
    ")\n",
    "cw"
   ]
  },
  {
   "cell_type": "code",
   "execution_count": null,
   "metadata": {},
   "outputs": [],
   "source": [
    "sel_country = cw.value\n",
    "sel_country"
   ]
  },
  {
   "cell_type": "code",
   "execution_count": null,
   "metadata": {},
   "outputs": [],
   "source": [
    "raw_sel_confirmed = raw_confirmed.where('Country/Region', sel_country)\n",
    "raw_sel_confirmed"
   ]
  },
  {
   "cell_type": "code",
   "execution_count": null,
   "metadata": {},
   "outputs": [],
   "source": [
    "raw_by_State_confirmed = raw_sel_confirmed.where(raw_sel_confirmed.apply(is_state, 'Province/State'))\n",
    "states_by_day = TimeTable.transpose(raw_by_State_confirmed.drop(['Country/Region', 'Lat', 'Long']), 'Province/State', 'Day')\n",
    "recent_by_State = after(states_by_day,'3/10/20')\n",
    "recent_by_State = recent_by_State.order_cols()\n",
    "recent_by_State.show()"
   ]
  },
  {
   "cell_type": "code",
   "execution_count": null,
   "metadata": {},
   "outputs": [],
   "source": [
    "recent_by_State.stackbar(15, height=6)"
   ]
  },
  {
   "cell_type": "markdown",
   "metadata": {},
   "source": [
    "# State level analysis"
   ]
  },
  {
   "cell_type": "code",
   "execution_count": null,
   "metadata": {},
   "outputs": [],
   "source": [
    "sw = widgets.Dropdown(\n",
    "    options=recent_by_State.categories,\n",
    "    value=recent_by_State.categories[0],\n",
    "    # rows=10,\n",
    "    description='State/Province:',\n",
    "    disabled=False\n",
    ")\n",
    "sw"
   ]
  },
  {
   "cell_type": "code",
   "execution_count": null,
   "metadata": {},
   "outputs": [],
   "source": [
    "state = sw.value"
   ]
  },
  {
   "cell_type": "code",
   "execution_count": null,
   "metadata": {},
   "outputs": [],
   "source": [
    "state_trend = recent_by_State.extract(state).trend()\n",
    "state_trend"
   ]
  },
  {
   "cell_type": "code",
   "execution_count": null,
   "metadata": {},
   "outputs": [],
   "source": [
    "state_trend.extract(['Day', state, 'new']).bar('Day', height=5)"
   ]
  },
  {
   "cell_type": "code",
   "execution_count": null,
   "metadata": {},
   "outputs": [],
   "source": [
    "project_trend(state_trend, 10).show()"
   ]
  },
  {
   "cell_type": "code",
   "execution_count": null,
   "metadata": {},
   "outputs": [],
   "source": [
    "project_trend(state_trend, 10).extract([state, 'new']).bar('Day')"
   ]
  },
  {
   "cell_type": "markdown",
   "metadata": {},
   "source": [
    "### County level reporting - not there recently"
   ]
  },
  {
   "cell_type": "code",
   "execution_count": null,
   "metadata": {},
   "outputs": [],
   "source": [
    "raw_US_confirmed = raw_confirmed.where('Country/Region', 'US')\n",
    "raw_US_by_County_confirmed = raw_US_confirmed.where(raw_US_confirmed.apply(is_county, 'Province/State'))\n",
    "raw_US_by_County_confirmed['State'] = raw_US_by_County_confirmed.apply(getstate, 'Province/State')\n",
    "raw_US_by_County_confirmed['County'] = raw_US_by_County_confirmed.apply(getcounty, 'Province/State')\n",
    "raw_US_by_County_confirmed.move_to_start('County')\n",
    "raw_US_by_County_confirmed.move_to_start('State')\n",
    "raw_US_by_County_confirmed.sort('State')"
   ]
  },
  {
   "cell_type": "code",
   "execution_count": null,
   "metadata": {},
   "outputs": [],
   "source": [
    "raw_US_by_County_confirmed.where('State', 'CA')"
   ]
  },
  {
   "cell_type": "code",
   "execution_count": null,
   "metadata": {},
   "outputs": [],
   "source": [
    "raw_CA_county = raw_US_by_County_confirmed.where('State', 'CA').drop(['State', 'Province/State', 'Country/Region', 'Lat', 'Long'])\n",
    "CA_county_by_day = TimeTable.transpose(raw_CA_county, 'County', 'Day')\n",
    "CA_county_by_day.show()"
   ]
  }
 ],
 "metadata": {
  "kernelspec": {
   "display_name": "Python 3",
   "language": "python",
   "name": "python3"
  },
  "language_info": {
   "codemirror_mode": {
    "name": "ipython",
    "version": 3
   },
   "file_extension": ".py",
   "mimetype": "text/x-python",
   "name": "python",
   "nbconvert_exporter": "python",
   "pygments_lexer": "ipython3",
   "version": "3.6.8"
  }
 },
 "nbformat": 4,
 "nbformat_minor": 2
}
