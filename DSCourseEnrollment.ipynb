{
 "cells": [
  {
   "cell_type": "code",
   "execution_count": 1,
   "metadata": {},
   "outputs": [
    {
     "data": {
      "text/plain": [
       "'0.10.1'"
      ]
     },
     "execution_count": 1,
     "metadata": {},
     "output_type": "execute_result"
    }
   ],
   "source": [
    "# HIDDEN\n",
    "# For Tables reference see http://data8.org/datascience/tables.html\n",
    "# This useful nonsense should just go at the top of your notebook.\n",
    "from datascience import *\n",
    "%matplotlib inline\n",
    "import matplotlib.pyplot as plots\n",
    "import numpy as np\n",
    "plots.style.use('fivethirtyeight')\n",
    "plots.rc('lines', linewidth=2, color='r')\n",
    "from ipywidgets import interact\n",
    "import locale\n",
    "locale.setlocale( locale.LC_ALL, 'en_US.UTF-8' ) \n",
    "# datascience version number of last run of this notebook\n",
    "version.__version__"
   ]
  },
  {
   "cell_type": "code",
   "execution_count": 2,
   "metadata": {
    "collapsed": true
   },
   "outputs": [],
   "source": [
    "import urllib.request as urlreq\n",
    "import re\n",
    "\n",
    "max_enroller = re.compile('\"maxEnroll\":[0123456789]*,')\n",
    "enroller = re.compile('\"enrolledCount\":[0123456789]*,')\n",
    "wait_lister = re.compile('\"waitlistedCount\":[0123456789]*,')\n",
    "def current_enrollment(schedule_url):\n",
    "    rdr = urlreq.urlopen(schedule_url)\n",
    "    page = rdr.read(100000).decode('utf-8')\n",
    "    max_enroll = int(max_enroller.search(page).group()[12:-1])\n",
    "    enrolled = int(enroller.search(page).group()[16:-1])\n",
    "    waitlisted = int(wait_lister.search(page).group()[18:-1])\n",
    "    return max_enroll, enrolled, waitlisted\n",
    "\n",
    "def lookup_row(row):\n",
    "    course, kind, url = row\n",
    "    # print(url)\n",
    "    limit, enroll, wait = current_enrollment(url)\n",
    "    return (course, kind, enroll+wait, limit, enroll, wait)\n",
    "\n",
    "def lookup_courses(watch):\n",
    "    return Table([\"Course\", \"Kind\", \"Registered\", \"Limit\", \"Enrolled\", \"Waitlisted\"]).with_rows(\n",
    "        [lookup_row(row) for row in watch.rows])"
   ]
  },
  {
   "cell_type": "code",
   "execution_count": 3,
   "metadata": {},
   "outputs": [
    {
     "data": {
      "text/html": [
       "<table border=\"1\" class=\"dataframe\">\n",
       "    <thead>\n",
       "        <tr>\n",
       "            <th>Course</th> <th>Kind</th> <th>URL</th>\n",
       "        </tr>\n",
       "    </thead>\n",
       "    <tbody>\n",
       "        <tr>\n",
       "            <td>Data8              </td> <td>Foundation</td> <td>http://classes.berkeley.edu/content/2017-fall-compsci-c8 ...</td>\n",
       "        </tr>\n",
       "    </tbody>\n",
       "        <tr>\n",
       "            <td>DS100              </td> <td>Gateway   </td> <td>http://classes.berkeley.edu/content/2017-fall-stat-c100- ...</td>\n",
       "        </tr>\n",
       "    </tbody>\n",
       "        <tr>\n",
       "            <td>stat88             </td> <td>Connector </td> <td>http://classes.berkeley.edu/content/2017-fall-stat-88-00 ...</td>\n",
       "        </tr>\n",
       "    </tbody>\n",
       "        <tr>\n",
       "            <td>CEE88              </td> <td>Connector </td> <td>http://classes.berkeley.edu/content/2017-fall-civeng-88- ...</td>\n",
       "        </tr>\n",
       "    </tbody>\n",
       "        <tr>\n",
       "            <td>demog88 immigration</td> <td>Connector </td> <td>http://classes.berkeley.edu/content/2017-fall-demog-88-0 ...</td>\n",
       "        </tr>\n",
       "    </tbody>\n",
       "        <tr>\n",
       "            <td>LS88-1 social nets </td> <td>Connector </td> <td>http://classes.berkeley.edu/content/2017-fall-ls-88-001- ...</td>\n",
       "        </tr>\n",
       "    </tbody>\n",
       "        <tr>\n",
       "            <td>LS88-2 web data vis</td> <td>Connector </td> <td>http://classes.berkeley.edu/content/2017-fall-ls-88-002- ...</td>\n",
       "        </tr>\n",
       "    </tbody>\n",
       "        <tr>\n",
       "            <td>LS88-3 cog neuro   </td> <td>Connector </td> <td>http://classes.berkeley.edu/content/2017-fall-ls-88-003- ...</td>\n",
       "        </tr>\n",
       "    </tbody>\n",
       "        <tr>\n",
       "            <td>LS88-4 econ dev    </td> <td>Connector </td> <td>http://classes.berkeley.edu/content/2017-fall-ls-88-004- ...</td>\n",
       "        </tr>\n",
       "    </tbody>\n",
       "        <tr>\n",
       "            <td>LS88-5 text        </td> <td>Connector </td> <td>http://classes.berkeley.edu/content/2017-fall-ls-88-005- ...</td>\n",
       "        </tr>\n",
       "    </tbody>\n",
       "        <tr>\n",
       "            <td>BIOENG 145         </td> <td>Extend    </td> <td>http://classes.berkeley.edu/content/2017-fall-bioeng-145 ...</td>\n",
       "        </tr>\n",
       "    </tbody>\n",
       "        <tr>\n",
       "            <td>COGSCI 190         </td> <td>Extend    </td> <td>http://classes.berkeley.edu/content/2017-fall-cogsci-190 ...</td>\n",
       "        </tr>\n",
       "    </tbody>\n",
       "        <tr>\n",
       "            <td>DEMOG 110          </td> <td>Extend    </td> <td>http://classes.berkeley.edu/content/2017-fall-demog-110- ...</td>\n",
       "        </tr>\n",
       "    </tbody>\n",
       "        <tr>\n",
       "            <td>ESPM 157           </td> <td>Extend    </td> <td>http://classes.berkeley.edu/content/2017-fall-espm-157-0 ...</td>\n",
       "        </tr>\n",
       "    </tbody>\n",
       "        <tr>\n",
       "            <td>INDENG 135         </td> <td>Extend    </td> <td>http://classes.berkeley.edu/content/2017-fall-indeng-135 ...</td>\n",
       "        </tr>\n",
       "    </tbody>\n",
       "        <tr>\n",
       "            <td>INDENG 142         </td> <td>Extend    </td> <td>http://classes.berkeley.edu/content/2017-fall-indeng-142 ...</td>\n",
       "        </tr>\n",
       "    </tbody>\n",
       "        <tr>\n",
       "            <td>INFO 159           </td> <td>Extend    </td> <td>http://classes.berkeley.edu/content/2017-fall-info-159-0 ...</td>\n",
       "        </tr>\n",
       "    </tbody>\n",
       "        <tr>\n",
       "            <td>INFO 190-1         </td> <td>Extend    </td> <td>http://classes.berkeley.edu/content/2017-fall-info-190-0 ...</td>\n",
       "        </tr>\n",
       "    </tbody>\n",
       "        <tr>\n",
       "            <td>STAT 133           </td> <td>Upper     </td> <td>http://classes.berkeley.edu/content/2017-fall-stat-133-0 ...</td>\n",
       "        </tr>\n",
       "    </tbody>\n",
       "        <tr>\n",
       "            <td>STAT 154           </td> <td>Upper     </td> <td>http://classes.berkeley.edu/content/2017-fall-stat-154-0 ...</td>\n",
       "        </tr>\n",
       "    </tbody>\n",
       "        <tr>\n",
       "            <td>COMPSCI 189        </td> <td>Upper     </td> <td>http://classes.berkeley.edu/content/2017-fall-compsci-18 ...</td>\n",
       "        </tr>\n",
       "    </tbody>\n",
       "</table>"
      ],
      "text/plain": [
       "<IPython.core.display.HTML object>"
      ]
     },
     "metadata": {},
     "output_type": "display_data"
    }
   ],
   "source": [
    "url_watch = Table([\"Course\", \"Kind\", \"URL\"]).with_rows([\n",
    "    (\"Data8\",\"Foundation\",\"http://classes.berkeley.edu/content/2017-fall-compsci-c8-001-lec-001\"),\n",
    "    (\"DS100\",\"Gateway\",\"http://classes.berkeley.edu/content/2017-fall-stat-c100-001-lec-001\"),\n",
    "    (\"stat88\",\"Connector\",\"http://classes.berkeley.edu/content/2017-fall-stat-88-001-lec-001\"),\n",
    "    (\"CEE88\",\"Connector\",\"http://classes.berkeley.edu/content/2017-fall-civeng-88-001-lec-001\"),\n",
    "    (\"demog88 immigration\",\"Connector\",\"http://classes.berkeley.edu/content/2017-fall-demog-88-001-lec-001\"),\n",
    "    (\"LS88-1 social nets\",\"Connector\",\"http://classes.berkeley.edu/content/2017-fall-ls-88-001-sem-001\"),\n",
    "    (\"LS88-2 web data vis\",\"Connector\",\"http://classes.berkeley.edu/content/2017-fall-ls-88-002-sem-002\"),\n",
    "    (\"LS88-3 cog neuro\",\"Connector\",\"http://classes.berkeley.edu/content/2017-fall-ls-88-003-sem-003\"),\n",
    "    (\"LS88-4 econ dev\",\"Connector\",\"http://classes.berkeley.edu/content/2017-fall-ls-88-004-sem-004\"),\n",
    "    (\"LS88-5 text\",\"Connector\",\"http://classes.berkeley.edu/content/2017-fall-ls-88-005-sem-005\"),\n",
    "    (\"BIOENG 145\",\"Extend\",\"http://classes.berkeley.edu/content/2017-fall-bioeng-145-001-lec-001\"),\n",
    "    (\"COGSCI 190\",\"Extend\",\"http://classes.berkeley.edu/content/2017-fall-cogsci-190-001-sem-001\"),\n",
    "    (\"DEMOG 110\",\"Extend\",\"http://classes.berkeley.edu/content/2017-fall-demog-110-001-lec-001\"),\n",
    "    (\"ESPM 157\",\"Extend\",\"http://classes.berkeley.edu/content/2017-fall-espm-157-001-lab-001\"),\n",
    "    (\"INDENG 135\",\"Extend\",\"http://classes.berkeley.edu/content/2017-fall-indeng-135-001-lec-001\"),\n",
    "    (\"INDENG 142\",\"Extend\",\"http://classes.berkeley.edu/content/2017-fall-indeng-142-001-lec-001\"),\n",
    "    (\"INFO 159\",\"Extend\",\"http://classes.berkeley.edu/content/2017-fall-info-159-001-lec-001\"),\n",
    "    (\"INFO 190-1\",\"Extend\",\"http://classes.berkeley.edu/content/2017-fall-info-190-001-sem-001\"),\n",
    "    (\"STAT 133\",\"Upper\",\"http://classes.berkeley.edu/content/2017-fall-stat-133-001-lec-001\"),\n",
    "    (\"STAT 154\",\"Upper\",\"http://classes.berkeley.edu/content/2017-fall-stat-154-001-lec-001\"),\n",
    "    (\"COMPSCI 189\",\"Upper\",\"http://classes.berkeley.edu/content/2017-fall-compsci-189-001-lec-001\"),\n",
    "])\n",
    "url_watch.show()"
   ]
  },
  {
   "cell_type": "code",
   "execution_count": 4,
   "metadata": {
    "collapsed": true
   },
   "outputs": [],
   "source": [
    "# Execute this cell to get fetch the current enrollments from schedule\n",
    "current_enrollments = lookup_courses(url_watch)"
   ]
  },
  {
   "cell_type": "code",
   "execution_count": 5,
   "metadata": {},
   "outputs": [
    {
     "data": {
      "text/html": [
       "<table border=\"1\" class=\"dataframe\">\n",
       "    <thead>\n",
       "        <tr>\n",
       "            <th>Course</th> <th>Kind</th> <th>Registered</th> <th>Limit</th> <th>Enrolled</th> <th>Waitlisted</th>\n",
       "        </tr>\n",
       "    </thead>\n",
       "    <tbody>\n",
       "        <tr>\n",
       "            <td>Data8              </td> <td>Foundation</td> <td>1,027     </td> <td>1,190</td> <td>1,027   </td> <td>0         </td>\n",
       "        </tr>\n",
       "    </tbody>\n",
       "        <tr>\n",
       "            <td>DS100              </td> <td>Gateway   </td> <td>264       </td> <td>274  </td> <td>264     </td> <td>0         </td>\n",
       "        </tr>\n",
       "    </tbody>\n",
       "        <tr>\n",
       "            <td>stat88             </td> <td>Connector </td> <td>140       </td> <td>148  </td> <td>140     </td> <td>0         </td>\n",
       "        </tr>\n",
       "    </tbody>\n",
       "        <tr>\n",
       "            <td>CEE88              </td> <td>Connector </td> <td>57        </td> <td>60   </td> <td>57      </td> <td>0         </td>\n",
       "        </tr>\n",
       "    </tbody>\n",
       "        <tr>\n",
       "            <td>demog88 immigration</td> <td>Connector </td> <td>18        </td> <td>30   </td> <td>18      </td> <td>0         </td>\n",
       "        </tr>\n",
       "    </tbody>\n",
       "        <tr>\n",
       "            <td>LS88-1 social nets </td> <td>Connector </td> <td>32        </td> <td>32   </td> <td>32      </td> <td>0         </td>\n",
       "        </tr>\n",
       "    </tbody>\n",
       "        <tr>\n",
       "            <td>LS88-2 web data vis</td> <td>Connector </td> <td>32        </td> <td>32   </td> <td>32      </td> <td>0         </td>\n",
       "        </tr>\n",
       "    </tbody>\n",
       "        <tr>\n",
       "            <td>LS88-3 cog neuro   </td> <td>Connector </td> <td>27        </td> <td>32   </td> <td>27      </td> <td>0         </td>\n",
       "        </tr>\n",
       "    </tbody>\n",
       "        <tr>\n",
       "            <td>LS88-4 econ dev    </td> <td>Connector </td> <td>27        </td> <td>32   </td> <td>27      </td> <td>0         </td>\n",
       "        </tr>\n",
       "    </tbody>\n",
       "        <tr>\n",
       "            <td>LS88-5 text        </td> <td>Connector </td> <td>22        </td> <td>40   </td> <td>22      </td> <td>0         </td>\n",
       "        </tr>\n",
       "    </tbody>\n",
       "        <tr>\n",
       "            <td>BIOENG 145         </td> <td>Extend    </td> <td>4         </td> <td>28   </td> <td>4       </td> <td>0         </td>\n",
       "        </tr>\n",
       "    </tbody>\n",
       "        <tr>\n",
       "            <td>COGSCI 190         </td> <td>Extend    </td> <td>18        </td> <td>32   </td> <td>17      </td> <td>1         </td>\n",
       "        </tr>\n",
       "    </tbody>\n",
       "        <tr>\n",
       "            <td>DEMOG 110          </td> <td>Extend    </td> <td>55        </td> <td>69   </td> <td>55      </td> <td>0         </td>\n",
       "        </tr>\n",
       "    </tbody>\n",
       "        <tr>\n",
       "            <td>ESPM 157           </td> <td>Extend    </td> <td>32        </td> <td>30   </td> <td>30      </td> <td>2         </td>\n",
       "        </tr>\n",
       "    </tbody>\n",
       "        <tr>\n",
       "            <td>INDENG 135         </td> <td>Extend    </td> <td>47        </td> <td>50   </td> <td>46      </td> <td>1         </td>\n",
       "        </tr>\n",
       "    </tbody>\n",
       "        <tr>\n",
       "            <td>INDENG 142         </td> <td>Extend    </td> <td>59        </td> <td>75   </td> <td>59      </td> <td>0         </td>\n",
       "        </tr>\n",
       "    </tbody>\n",
       "        <tr>\n",
       "            <td>INFO 159           </td> <td>Extend    </td> <td>67        </td> <td>83   </td> <td>66      </td> <td>1         </td>\n",
       "        </tr>\n",
       "    </tbody>\n",
       "        <tr>\n",
       "            <td>INFO 190-1         </td> <td>Extend    </td> <td>50        </td> <td>50   </td> <td>50      </td> <td>0         </td>\n",
       "        </tr>\n",
       "    </tbody>\n",
       "        <tr>\n",
       "            <td>STAT 133           </td> <td>Upper     </td> <td>299       </td> <td>304  </td> <td>299     </td> <td>0         </td>\n",
       "        </tr>\n",
       "    </tbody>\n",
       "        <tr>\n",
       "            <td>STAT 154           </td> <td>Upper     </td> <td>76        </td> <td>74   </td> <td>74      </td> <td>2         </td>\n",
       "        </tr>\n",
       "    </tbody>\n",
       "        <tr>\n",
       "            <td>COMPSCI 189        </td> <td>Upper     </td> <td>276       </td> <td>374  </td> <td>276     </td> <td>0         </td>\n",
       "        </tr>\n",
       "    </tbody>\n",
       "</table>"
      ],
      "text/plain": [
       "<IPython.core.display.HTML object>"
      ]
     },
     "metadata": {},
     "output_type": "display_data"
    }
   ],
   "source": [
    "current_enrollments.show()"
   ]
  },
  {
   "cell_type": "code",
   "execution_count": 6,
   "metadata": {},
   "outputs": [
    {
     "data": {
      "text/html": [
       "<table border=\"1\" class=\"dataframe\">\n",
       "    <thead>\n",
       "        <tr>\n",
       "            <th>Kind</th> <th>Course sum</th> <th>Registered sum</th> <th>Limit sum</th> <th>Enrolled sum</th> <th>Waitlisted sum</th>\n",
       "        </tr>\n",
       "    </thead>\n",
       "    <tbody>\n",
       "        <tr>\n",
       "            <td>Connector </td> <td>          </td> <td>355           </td> <td>406      </td> <td>355         </td> <td>0             </td>\n",
       "        </tr>\n",
       "    </tbody>\n",
       "        <tr>\n",
       "            <td>Extend    </td> <td>          </td> <td>332           </td> <td>417      </td> <td>327         </td> <td>5             </td>\n",
       "        </tr>\n",
       "    </tbody>\n",
       "        <tr>\n",
       "            <td>Foundation</td> <td>          </td> <td>1,027         </td> <td>1,190    </td> <td>1,027       </td> <td>0             </td>\n",
       "        </tr>\n",
       "    </tbody>\n",
       "        <tr>\n",
       "            <td>Gateway   </td> <td>          </td> <td>264           </td> <td>274      </td> <td>264         </td> <td>0             </td>\n",
       "        </tr>\n",
       "    </tbody>\n",
       "        <tr>\n",
       "            <td>Upper     </td> <td>          </td> <td>651           </td> <td>752      </td> <td>649         </td> <td>2             </td>\n",
       "        </tr>\n",
       "    </tbody>\n",
       "</table>"
      ],
      "text/plain": [
       "Kind       | Course sum | Registered sum | Limit sum | Enrolled sum | Waitlisted sum\n",
       "Connector  |            | 355            | 406       | 355          | 0\n",
       "Extend     |            | 332            | 417       | 327          | 5\n",
       "Foundation |            | 1,027          | 1,190     | 1,027        | 0\n",
       "Gateway    |            | 264            | 274       | 264          | 0\n",
       "Upper      |            | 651            | 752       | 649          | 2"
      ]
     },
     "execution_count": 6,
     "metadata": {},
     "output_type": "execute_result"
    }
   ],
   "source": [
    "by_group = current_enrollments.group('Kind', collect=sum)\n",
    "by_group"
   ]
  },
  {
   "cell_type": "code",
   "execution_count": 7,
   "metadata": {},
   "outputs": [
    {
     "data": {
      "image/png": "[encoded data removed]",
      "text/plain": [
       "<matplotlib.figure.Figure at 0x7fb4ee339320>"
      ]
     },
     "metadata": {},
     "output_type": "display_data"
    }
   ],
   "source": [
    "by_group.barh('Kind', 'Registered sum')"
   ]
  },
  {
   "cell_type": "code",
   "execution_count": 8,
   "metadata": {},
   "outputs": [
    {
     "data": {
      "text/plain": [
       "2629"
      ]
     },
     "execution_count": 8,
     "metadata": {},
     "output_type": "execute_result"
    }
   ],
   "source": [
    "sum(by_group['Registered sum'])"
   ]
  },
  {
   "cell_type": "code",
   "execution_count": 9,
   "metadata": {},
   "outputs": [
    {
     "data": {
      "text/html": [
       "<table border=\"1\" class=\"dataframe\">\n",
       "    <thead>\n",
       "        <tr>\n",
       "            <th>Course</th> <th>Kind</th> <th>Registered</th> <th>Limit</th> <th>Enrolled</th> <th>Waitlisted</th>\n",
       "        </tr>\n",
       "    </thead>\n",
       "    <tbody>\n",
       "        <tr>\n",
       "            <td>stat88             </td> <td>Connector</td> <td>140       </td> <td>148  </td> <td>140     </td> <td>0         </td>\n",
       "        </tr>\n",
       "    </tbody>\n",
       "        <tr>\n",
       "            <td>CEE88              </td> <td>Connector</td> <td>57        </td> <td>60   </td> <td>57      </td> <td>0         </td>\n",
       "        </tr>\n",
       "    </tbody>\n",
       "        <tr>\n",
       "            <td>demog88 immigration</td> <td>Connector</td> <td>18        </td> <td>30   </td> <td>18      </td> <td>0         </td>\n",
       "        </tr>\n",
       "    </tbody>\n",
       "        <tr>\n",
       "            <td>LS88-1 social nets </td> <td>Connector</td> <td>32        </td> <td>32   </td> <td>32      </td> <td>0         </td>\n",
       "        </tr>\n",
       "    </tbody>\n",
       "        <tr>\n",
       "            <td>LS88-2 web data vis</td> <td>Connector</td> <td>32        </td> <td>32   </td> <td>32      </td> <td>0         </td>\n",
       "        </tr>\n",
       "    </tbody>\n",
       "        <tr>\n",
       "            <td>LS88-3 cog neuro   </td> <td>Connector</td> <td>27        </td> <td>32   </td> <td>27      </td> <td>0         </td>\n",
       "        </tr>\n",
       "    </tbody>\n",
       "        <tr>\n",
       "            <td>LS88-4 econ dev    </td> <td>Connector</td> <td>27        </td> <td>32   </td> <td>27      </td> <td>0         </td>\n",
       "        </tr>\n",
       "    </tbody>\n",
       "        <tr>\n",
       "            <td>LS88-5 text        </td> <td>Connector</td> <td>22        </td> <td>40   </td> <td>22      </td> <td>0         </td>\n",
       "        </tr>\n",
       "    </tbody>\n",
       "</table>"
      ],
      "text/plain": [
       "Course              | Kind      | Registered | Limit | Enrolled | Waitlisted\n",
       "stat88              | Connector | 140        | 148   | 140      | 0\n",
       "CEE88               | Connector | 57         | 60    | 57       | 0\n",
       "demog88 immigration | Connector | 18         | 30    | 18       | 0\n",
       "LS88-1 social nets  | Connector | 32         | 32    | 32       | 0\n",
       "LS88-2 web data vis | Connector | 32         | 32    | 32       | 0\n",
       "LS88-3 cog neuro    | Connector | 27         | 32    | 27       | 0\n",
       "LS88-4 econ dev     | Connector | 27         | 32    | 27       | 0\n",
       "LS88-5 text         | Connector | 22         | 40    | 22       | 0"
      ]
     },
     "execution_count": 9,
     "metadata": {},
     "output_type": "execute_result"
    }
   ],
   "source": [
    "connectors = current_enrollments.where('Kind', 'Connector')\n",
    "connectors"
   ]
  },
  {
   "cell_type": "code",
   "execution_count": 10,
   "metadata": {},
   "outputs": [
    {
     "data": {
      "text/plain": [
       "355"
      ]
     },
     "execution_count": 10,
     "metadata": {},
     "output_type": "execute_result"
    }
   ],
   "source": [
    "sum(connectors['Registered'])"
   ]
  },
  {
   "cell_type": "code",
   "execution_count": 11,
   "metadata": {},
   "outputs": [
    {
     "data": {
      "text/plain": [
       "0.34566699123661149"
      ]
     },
     "execution_count": 11,
     "metadata": {},
     "output_type": "execute_result"
    }
   ],
   "source": [
    "sum(connectors['Registered'])/current_enrollments.where('Course', 'Data8')['Registered'][0]"
   ]
  },
  {
   "cell_type": "code",
   "execution_count": 12,
   "metadata": {},
   "outputs": [
    {
     "data": {
      "text/plain": [
       "332"
      ]
     },
     "execution_count": 12,
     "metadata": {},
     "output_type": "execute_result"
    }
   ],
   "source": [
    "sum(current_enrollments.where('Kind', 'Extend')['Registered'])"
   ]
  },
  {
   "cell_type": "code",
   "execution_count": 13,
   "metadata": {},
   "outputs": [
    {
     "data": {
      "text/html": [
       "<table border=\"1\" class=\"dataframe\">\n",
       "    <thead>\n",
       "        <tr>\n",
       "            <th>Course</th> <th>Kind</th> <th>Registered</th> <th>Limit</th> <th>Enrolled</th> <th>Waitlisted</th>\n",
       "        </tr>\n",
       "    </thead>\n",
       "    <tbody>\n",
       "        <tr>\n",
       "            <td>INDENG 142 </td> <td>Extend</td> <td>59        </td> <td>75   </td> <td>59      </td> <td>0         </td>\n",
       "        </tr>\n",
       "    </tbody>\n",
       "        <tr>\n",
       "            <td>STAT 154   </td> <td>Upper </td> <td>76        </td> <td>74   </td> <td>74      </td> <td>2         </td>\n",
       "        </tr>\n",
       "    </tbody>\n",
       "        <tr>\n",
       "            <td>COMPSCI 189</td> <td>Upper </td> <td>276       </td> <td>374  </td> <td>276     </td> <td>0         </td>\n",
       "        </tr>\n",
       "    </tbody>\n",
       "</table>"
      ],
      "text/plain": [
       "Course      | Kind   | Registered | Limit | Enrolled | Waitlisted\n",
       "INDENG 142  | Extend | 59         | 75    | 59       | 0\n",
       "STAT 154    | Upper  | 76         | 74    | 74       | 2\n",
       "COMPSCI 189 | Upper  | 276        | 374   | 276      | 0"
      ]
     },
     "execution_count": 13,
     "metadata": {},
     "output_type": "execute_result"
    }
   ],
   "source": [
    "current_enrollments.where(np.in1d(current_enrollments['Course'], \n",
    "                                  ['STAT 154', 'COMPSCI 189', 'INDENG 142']))"
   ]
  },
  {
   "cell_type": "code",
   "execution_count": 14,
   "metadata": {},
   "outputs": [
    {
     "data": {
      "text/html": [
       "<table border=\"1\" class=\"dataframe\">\n",
       "    <thead>\n",
       "        <tr>\n",
       "            <th>statistic</th> <th>Course</th> <th>Kind</th> <th>Registered</th> <th>Limit</th> <th>Enrolled</th> <th>Waitlisted</th>\n",
       "        </tr>\n",
       "    </thead>\n",
       "    <tbody>\n",
       "        <tr>\n",
       "            <td>min      </td> <td>COMPSCI 189</td> <td>Extend</td> <td>59        </td> <td>74   </td> <td>59      </td> <td>0         </td>\n",
       "        </tr>\n",
       "    </tbody>\n",
       "        <tr>\n",
       "            <td>max      </td> <td>STAT 154   </td> <td>Upper </td> <td>276       </td> <td>374  </td> <td>276     </td> <td>2         </td>\n",
       "        </tr>\n",
       "    </tbody>\n",
       "        <tr>\n",
       "            <td>median   </td> <td>           </td> <td>      </td> <td>76        </td> <td>75   </td> <td>74      </td> <td>0         </td>\n",
       "        </tr>\n",
       "    </tbody>\n",
       "        <tr>\n",
       "            <td>sum      </td> <td>           </td> <td>      </td> <td>411       </td> <td>523  </td> <td>409     </td> <td>2         </td>\n",
       "        </tr>\n",
       "    </tbody>\n",
       "</table>"
      ],
      "text/plain": [
       "statistic | Course      | Kind   | Registered | Limit | Enrolled | Waitlisted\n",
       "min       | COMPSCI 189 | Extend | 59         | 74    | 59       | 0\n",
       "max       | STAT 154    | Upper  | 276        | 374   | 276      | 2\n",
       "median    |             |        | 76         | 75    | 74       | 0\n",
       "sum       |             |        | 411        | 523   | 409      | 2"
      ]
     },
     "execution_count": 14,
     "metadata": {},
     "output_type": "execute_result"
    }
   ],
   "source": [
    "current_enrollments.where(np.in1d(current_enrollments['Course'], \n",
    "                                  ['STAT 154', 'COMPSCI 189', 'INDENG 142'])).stats()"
   ]
  },
  {
   "cell_type": "code",
   "execution_count": null,
   "metadata": {
    "collapsed": true
   },
   "outputs": [],
   "source": []
  }
 ],
 "metadata": {
  "kernelspec": {
   "display_name": "Python 3",
   "language": "python",
   "name": "python3"
  },
  "language_info": {
   "codemirror_mode": {
    "name": "ipython",
    "version": 3
   },
   "file_extension": ".py",
   "mimetype": "text/x-python",
   "name": "python",
   "nbconvert_exporter": "python",
   "pygments_lexer": "ipython3",
   "version": "3.6.1"
  }
 },
 "nbformat": 4,
 "nbformat_minor": 2
}
