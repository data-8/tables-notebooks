{
 "cells": [
  {
   "cell_type": "code",
   "execution_count": 2,
   "metadata": {
    "collapsed": false
   },
   "outputs": [
    {
     "data": {
      "text/plain": [
       "'0.5.19'"
      ]
     },
     "execution_count": 2,
     "metadata": {},
     "output_type": "execute_result"
    }
   ],
   "source": [
    "# HIDDEN\n",
    "# For Tables reference see http://data8.org/datascience/tables.html\n",
    "# This useful nonsense should just go at the top of your notebook.\n",
    "from datascience import *\n",
    "%matplotlib inline\n",
    "import matplotlib.pyplot as plots\n",
    "import numpy as np\n",
    "plots.style.use('fivethirtyeight')\n",
    "plots.rc('lines', linewidth=2, color='r')\n",
    "from ipywidgets import interact\n",
    "import locale\n",
    "locale.setlocale( locale.LC_ALL, 'en_US.UTF-8' ) \n",
    "# datascience version number of last run of this notebook\n",
    "version.__version__"
   ]
  },
  {
   "cell_type": "code",
   "execution_count": 104,
   "metadata": {
    "collapsed": false
   },
   "outputs": [],
   "source": [
    "import urllib.request as urlreq\n",
    "import re\n",
    "\n",
    "max_enroller = re.compile('\"maxEnroll\":[0123456789]*,')\n",
    "enroller = re.compile('\"enrolledCount\":[0123456789]*,')\n",
    "wait_lister = re.compile('\"waitlistedCount\":[0123456789]*,')\n",
    "def current_enrollment(schedule_url):\n",
    "    rdr = urlreq.urlopen(schedule_url)\n",
    "    page = rdr.read(100000).decode('utf-8')\n",
    "    max_enroll = int(max_enroller.search(page).group()[12:-1])\n",
    "    enrolled = int(enroller.search(page).group()[16:-1])\n",
    "    waitlisted = int(wait_lister.search(page).group()[18:-1])\n",
    "    return max_enroll, enrolled, waitlisted\n",
    "\n",
    "def lookup_row(row):\n",
    "    course, kind, url = row\n",
    "    print(url)\n",
    "    limit, enroll, wait = current_enrollment(url)\n",
    "    return (course, kind, enroll+wait, limit, enroll, wait)\n",
    "\n",
    "def lookup_courses(watch):\n",
    "    return Table([\"Course\", \"Kind\", \"Registered\", \"Limit\", \"Enrolled\", \"Waitlisted\"]).with_rows(\n",
    "        [lookup_row(row) for row in watch.rows])"
   ]
  },
  {
   "cell_type": "code",
   "execution_count": 106,
   "metadata": {
    "collapsed": false
   },
   "outputs": [
    {
     "data": {
      "text/html": [
       "<table border=\"1\" class=\"dataframe\">\n",
       "    <thead>\n",
       "        <tr>\n",
       "            <th>Course</th> <th>Kind</th> <th>URL</th>\n",
       "        </tr>\n",
       "    </thead>\n",
       "    <tbody>\n",
       "        <tr>\n",
       "            <td>Data8              </td> <td>Foundation</td> <td>http://classes.berkeley.edu/content/2017-fall-compsci-c8 ...</td>\n",
       "        </tr>\n",
       "    </tbody>\n",
       "        <tr>\n",
       "            <td>DS100              </td> <td>Gateway   </td> <td>http://classes.berkeley.edu/content/2017-fall-stat-c100- ...</td>\n",
       "        </tr>\n",
       "    </tbody>\n",
       "        <tr>\n",
       "            <td>stat88             </td> <td>Connector </td> <td>http://classes.berkeley.edu/content/2017-fall-stat-88-00 ...</td>\n",
       "        </tr>\n",
       "    </tbody>\n",
       "        <tr>\n",
       "            <td>CEE88              </td> <td>Connector </td> <td>http://classes.berkeley.edu/content/2017-fall-civeng-88- ...</td>\n",
       "        </tr>\n",
       "    </tbody>\n",
       "        <tr>\n",
       "            <td>demog88 immigration</td> <td>Connector </td> <td>http://classes.berkeley.edu/content/2017-fall-demog-88-0 ...</td>\n",
       "        </tr>\n",
       "    </tbody>\n",
       "        <tr>\n",
       "            <td>LS88-1 social nets </td> <td>Connector </td> <td>http://classes.berkeley.edu/content/2017-fall-ls-88-001- ...</td>\n",
       "        </tr>\n",
       "    </tbody>\n",
       "        <tr>\n",
       "            <td>LS88-2 web data vis</td> <td>Connector </td> <td>http://classes.berkeley.edu/content/2017-fall-ls-88-002- ...</td>\n",
       "        </tr>\n",
       "    </tbody>\n",
       "        <tr>\n",
       "            <td>LS88-3 cog neuro   </td> <td>Connector </td> <td>http://classes.berkeley.edu/content/2017-fall-ls-88-003- ...</td>\n",
       "        </tr>\n",
       "    </tbody>\n",
       "        <tr>\n",
       "            <td>LS88-4 econ dev    </td> <td>Connector </td> <td>http://classes.berkeley.edu/content/2017-fall-ls-88-004- ...</td>\n",
       "        </tr>\n",
       "    </tbody>\n",
       "        <tr>\n",
       "            <td>LS88-5 text        </td> <td>Connector </td> <td>http://classes.berkeley.edu/content/2017-fall-ls-88-005- ...</td>\n",
       "        </tr>\n",
       "    </tbody>\n",
       "</table>\n",
       "<p>... (11 rows omitted)</p"
      ],
      "text/plain": [
       "Course              | Kind       | URL\n",
       "Data8               | Foundation | http://classes.berkeley.edu/content/2017-fall-compsci-c8 ...\n",
       "DS100               | Gateway    | http://classes.berkeley.edu/content/2017-fall-stat-c100- ...\n",
       "stat88              | Connector  | http://classes.berkeley.edu/content/2017-fall-stat-88-00 ...\n",
       "CEE88               | Connector  | http://classes.berkeley.edu/content/2017-fall-civeng-88- ...\n",
       "demog88 immigration | Connector  | http://classes.berkeley.edu/content/2017-fall-demog-88-0 ...\n",
       "LS88-1 social nets  | Connector  | http://classes.berkeley.edu/content/2017-fall-ls-88-001- ...\n",
       "LS88-2 web data vis | Connector  | http://classes.berkeley.edu/content/2017-fall-ls-88-002- ...\n",
       "LS88-3 cog neuro    | Connector  | http://classes.berkeley.edu/content/2017-fall-ls-88-003- ...\n",
       "LS88-4 econ dev     | Connector  | http://classes.berkeley.edu/content/2017-fall-ls-88-004- ...\n",
       "LS88-5 text         | Connector  | http://classes.berkeley.edu/content/2017-fall-ls-88-005- ...\n",
       "... (11 rows omitted)"
      ]
     },
     "execution_count": 106,
     "metadata": {},
     "output_type": "execute_result"
    }
   ],
   "source": [
    "url_watch = Table([\"Course\", \"Kind\", \"URL\"]).with_rows([\n",
    "    (\"Data8\",\"Foundation\",\"http://classes.berkeley.edu/content/2017-fall-compsci-c8-001-lec-001\"),\n",
    "    (\"DS100\",\"Gateway\",\"http://classes.berkeley.edu/content/2017-fall-stat-c100-001-lec-001\"),\n",
    "    (\"stat88\",\"Connector\",\"http://classes.berkeley.edu/content/2017-fall-stat-88-001-lec-001\"),\n",
    "    (\"CEE88\",\"Connector\",\"http://classes.berkeley.edu/content/2017-fall-civeng-88-001-lec-001\"),\n",
    "    (\"demog88 immigration\",\"Connector\",\"http://classes.berkeley.edu/content/2017-fall-demog-88-001-lec-001\"),\n",
    "    (\"LS88-1 social nets\",\"Connector\",\"http://classes.berkeley.edu/content/2017-fall-ls-88-001-sem-001\"),\n",
    "    (\"LS88-2 web data vis\",\"Connector\",\"http://classes.berkeley.edu/content/2017-fall-ls-88-002-sem-002\"),\n",
    "    (\"LS88-3 cog neuro\",\"Connector\",\"http://classes.berkeley.edu/content/2017-fall-ls-88-003-sem-003\"),\n",
    "    (\"LS88-4 econ dev\",\"Connector\",\"http://classes.berkeley.edu/content/2017-fall-ls-88-004-sem-004\"),\n",
    "    (\"LS88-5 text\",\"Connector\",\"http://classes.berkeley.edu/content/2017-fall-ls-88-005-sem-005\"),\n",
    "    (\"BIOENG 145\",\"Extend\",\"http://classes.berkeley.edu/content/2017-fall-bioeng-145-001-lec-001\"),\n",
    "    (\"COGSCI 190\",\"Extend\",\"http://classes.berkeley.edu/content/2017-fall-cogsci-190-001-sem-001\"),\n",
    "    (\"DEMOG 110\",\"Extend\",\"http://classes.berkeley.edu/content/2017-fall-demog-110-001-lec-001\"),\n",
    "    (\"ESPM 157\",\"Extend\",\"http://classes.berkeley.edu/content/2017-fall-espm-157-001-lab-001\"),\n",
    "    (\"INDENG 135\",\"Extend\",\"http://classes.berkeley.edu/content/2017-fall-indeng-135-001-lec-001\"),\n",
    "    (\"INDENG 142\",\"Extend\",\"http://classes.berkeley.edu/content/2017-fall-indeng-142-001-lec-001\"),\n",
    "    (\"INFO 159\",\"Extend\",\"http://classes.berkeley.edu/content/2017-fall-info-159-001-lec-001\"),\n",
    "    (\"INFO 190-1\",\"Extend\",\"http://classes.berkeley.edu/content/2017-fall-info-190-001-sem-001\"),\n",
    "    (\"STAT 133\",\"Extend\",\"http://classes.berkeley.edu/content/2017-fall-stat-133-001-lec-001\"),\n",
    "    (\"STAT 154\",\"Extend\",\"http://classes.berkeley.edu/content/2017-fall-stat-154-001-lec-001\"),\n",
    "    (\"COMPSCI 189\",\"Extend\",\"http://classes.berkeley.edu/content/2017-fall-compsci-189-001-lec-001\"),\n",
    "])\n",
    "url_watch"
   ]
  },
  {
   "cell_type": "code",
   "execution_count": 119,
   "metadata": {
    "collapsed": false
   },
   "outputs": [
    {
     "name": "stdout",
     "output_type": "stream",
     "text": [
      "http://classes.berkeley.edu/content/2017-fall-compsci-c8-001-lec-001\n",
      "http://classes.berkeley.edu/content/2017-fall-stat-c100-001-lec-001\n",
      "http://classes.berkeley.edu/content/2017-fall-stat-88-001-lec-001\n",
      "http://classes.berkeley.edu/content/2017-fall-civeng-88-001-lec-001\n",
      "http://classes.berkeley.edu/content/2017-fall-demog-88-001-lec-001\n",
      "http://classes.berkeley.edu/content/2017-fall-ls-88-001-sem-001\n",
      "http://classes.berkeley.edu/content/2017-fall-ls-88-002-sem-002\n",
      "http://classes.berkeley.edu/content/2017-fall-ls-88-003-sem-003\n",
      "http://classes.berkeley.edu/content/2017-fall-ls-88-004-sem-004\n",
      "http://classes.berkeley.edu/content/2017-fall-ls-88-005-sem-005\n",
      "http://classes.berkeley.edu/content/2017-fall-bioeng-145-001-lec-001\n",
      "http://classes.berkeley.edu/content/2017-fall-cogsci-190-001-sem-001\n",
      "http://classes.berkeley.edu/content/2017-fall-demog-110-001-lec-001\n",
      "http://classes.berkeley.edu/content/2017-fall-espm-157-001-lab-001\n",
      "http://classes.berkeley.edu/content/2017-fall-indeng-135-001-lec-001\n",
      "http://classes.berkeley.edu/content/2017-fall-indeng-142-001-lec-001\n",
      "http://classes.berkeley.edu/content/2017-fall-info-159-001-lec-001\n",
      "http://classes.berkeley.edu/content/2017-fall-info-190-001-sem-001\n",
      "http://classes.berkeley.edu/content/2017-fall-stat-133-001-lec-001\n",
      "http://classes.berkeley.edu/content/2017-fall-stat-154-001-lec-001\n",
      "http://classes.berkeley.edu/content/2017-fall-compsci-189-001-lec-001\n"
     ]
    }
   ],
   "source": [
    "# Execute this cell to get fetch the current enrollments from schedule\n",
    "current_enrollments = lookup_courses(url_watch)"
   ]
  },
  {
   "cell_type": "code",
   "execution_count": 109,
   "metadata": {
    "collapsed": false
   },
   "outputs": [
    {
     "data": {
      "text/html": [
       "<table border=\"1\" class=\"dataframe\">\n",
       "    <thead>\n",
       "        <tr>\n",
       "            <th>Course</th> <th>Kind</th> <th>Registered</th> <th>Limit</th> <th>Enrolled</th> <th>Waitlisted</th>\n",
       "        </tr>\n",
       "    </thead>\n",
       "    <tbody>\n",
       "        <tr>\n",
       "            <td>Data8              </td> <td>Foundation</td> <td>982       </td> <td>1,020</td> <td>967     </td> <td>15        </td>\n",
       "        </tr>\n",
       "    </tbody>\n",
       "        <tr>\n",
       "            <td>DS100              </td> <td>Gateway   </td> <td>273       </td> <td>237  </td> <td>237     </td> <td>36        </td>\n",
       "        </tr>\n",
       "    </tbody>\n",
       "        <tr>\n",
       "            <td>stat88             </td> <td>Connector </td> <td>149       </td> <td>130  </td> <td>130     </td> <td>19        </td>\n",
       "        </tr>\n",
       "    </tbody>\n",
       "        <tr>\n",
       "            <td>CEE88              </td> <td>Connector </td> <td>65        </td> <td>60   </td> <td>60      </td> <td>5         </td>\n",
       "        </tr>\n",
       "    </tbody>\n",
       "        <tr>\n",
       "            <td>demog88 immigration</td> <td>Connector </td> <td>35        </td> <td>30   </td> <td>30      </td> <td>5         </td>\n",
       "        </tr>\n",
       "    </tbody>\n",
       "        <tr>\n",
       "            <td>LS88-1 social nets </td> <td>Connector </td> <td>29        </td> <td>25   </td> <td>25      </td> <td>4         </td>\n",
       "        </tr>\n",
       "    </tbody>\n",
       "        <tr>\n",
       "            <td>LS88-2 web data vis</td> <td>Connector </td> <td>29        </td> <td>25   </td> <td>25      </td> <td>4         </td>\n",
       "        </tr>\n",
       "    </tbody>\n",
       "        <tr>\n",
       "            <td>LS88-3 cog neuro   </td> <td>Connector </td> <td>27        </td> <td>25   </td> <td>25      </td> <td>2         </td>\n",
       "        </tr>\n",
       "    </tbody>\n",
       "        <tr>\n",
       "            <td>LS88-4 econ dev    </td> <td>Connector </td> <td>36        </td> <td>32   </td> <td>32      </td> <td>4         </td>\n",
       "        </tr>\n",
       "    </tbody>\n",
       "        <tr>\n",
       "            <td>LS88-5 text        </td> <td>Connector </td> <td>40        </td> <td>40   </td> <td>36      </td> <td>4         </td>\n",
       "        </tr>\n",
       "    </tbody>\n",
       "        <tr>\n",
       "            <td>BIOENG 145         </td> <td>Extend    </td> <td>5         </td> <td>28   </td> <td>5       </td> <td>0         </td>\n",
       "        </tr>\n",
       "    </tbody>\n",
       "        <tr>\n",
       "            <td>COGSCI 190         </td> <td>Extend    </td> <td>39        </td> <td>32   </td> <td>29      </td> <td>10        </td>\n",
       "        </tr>\n",
       "    </tbody>\n",
       "        <tr>\n",
       "            <td>DEMOG 110          </td> <td>Extend    </td> <td>67        </td> <td>69   </td> <td>67      </td> <td>0         </td>\n",
       "        </tr>\n",
       "    </tbody>\n",
       "        <tr>\n",
       "            <td>ESPM 157           </td> <td>Extend    </td> <td>33        </td> <td>30   </td> <td>30      </td> <td>3         </td>\n",
       "        </tr>\n",
       "    </tbody>\n",
       "        <tr>\n",
       "            <td>INDENG 135         </td> <td>Extend    </td> <td>64        </td> <td>40   </td> <td>40      </td> <td>24        </td>\n",
       "        </tr>\n",
       "    </tbody>\n",
       "        <tr>\n",
       "            <td>INDENG 142         </td> <td>Extend    </td> <td>77        </td> <td>75   </td> <td>76      </td> <td>1         </td>\n",
       "        </tr>\n",
       "    </tbody>\n",
       "        <tr>\n",
       "            <td>INFO 159           </td> <td>Extend    </td> <td>101       </td> <td>75   </td> <td>75      </td> <td>26        </td>\n",
       "        </tr>\n",
       "    </tbody>\n",
       "        <tr>\n",
       "            <td>INFO 190-1         </td> <td>Extend    </td> <td>64        </td> <td>50   </td> <td>50      </td> <td>14        </td>\n",
       "        </tr>\n",
       "    </tbody>\n",
       "        <tr>\n",
       "            <td>STAT 133           </td> <td>Extend    </td> <td>367       </td> <td>300  </td> <td>299     </td> <td>68        </td>\n",
       "        </tr>\n",
       "    </tbody>\n",
       "        <tr>\n",
       "            <td>STAT 154           </td> <td>Extend    </td> <td>84        </td> <td>70   </td> <td>69      </td> <td>15        </td>\n",
       "        </tr>\n",
       "    </tbody>\n",
       "        <tr>\n",
       "            <td>COMPSCI 189        </td> <td>Extend    </td> <td>398       </td> <td>360  </td> <td>360     </td> <td>38        </td>\n",
       "        </tr>\n",
       "    </tbody>\n",
       "</table>"
      ],
      "text/plain": [
       "<IPython.core.display.HTML object>"
      ]
     },
     "metadata": {},
     "output_type": "display_data"
    }
   ],
   "source": [
    "current_enrollments.show()"
   ]
  },
  {
   "cell_type": "code",
   "execution_count": 112,
   "metadata": {
    "collapsed": false
   },
   "outputs": [
    {
     "data": {
      "text/html": [
       "<table border=\"1\" class=\"dataframe\">\n",
       "    <thead>\n",
       "        <tr>\n",
       "            <th>Course</th> <th>Kind</th> <th>Registered</th> <th>Limit</th> <th>Enrolled</th> <th>Waitlisted</th>\n",
       "        </tr>\n",
       "    </thead>\n",
       "    <tbody>\n",
       "        <tr>\n",
       "            <td>stat88             </td> <td>Connector</td> <td>149       </td> <td>130  </td> <td>130     </td> <td>19        </td>\n",
       "        </tr>\n",
       "    </tbody>\n",
       "        <tr>\n",
       "            <td>CEE88              </td> <td>Connector</td> <td>65        </td> <td>60   </td> <td>60      </td> <td>5         </td>\n",
       "        </tr>\n",
       "    </tbody>\n",
       "        <tr>\n",
       "            <td>demog88 immigration</td> <td>Connector</td> <td>35        </td> <td>30   </td> <td>30      </td> <td>5         </td>\n",
       "        </tr>\n",
       "    </tbody>\n",
       "        <tr>\n",
       "            <td>LS88-1 social nets </td> <td>Connector</td> <td>29        </td> <td>25   </td> <td>25      </td> <td>4         </td>\n",
       "        </tr>\n",
       "    </tbody>\n",
       "        <tr>\n",
       "            <td>LS88-2 web data vis</td> <td>Connector</td> <td>29        </td> <td>25   </td> <td>25      </td> <td>4         </td>\n",
       "        </tr>\n",
       "    </tbody>\n",
       "        <tr>\n",
       "            <td>LS88-3 cog neuro   </td> <td>Connector</td> <td>27        </td> <td>25   </td> <td>25      </td> <td>2         </td>\n",
       "        </tr>\n",
       "    </tbody>\n",
       "        <tr>\n",
       "            <td>LS88-4 econ dev    </td> <td>Connector</td> <td>36        </td> <td>32   </td> <td>32      </td> <td>4         </td>\n",
       "        </tr>\n",
       "    </tbody>\n",
       "        <tr>\n",
       "            <td>LS88-5 text        </td> <td>Connector</td> <td>40        </td> <td>40   </td> <td>36      </td> <td>4         </td>\n",
       "        </tr>\n",
       "    </tbody>\n",
       "</table>"
      ],
      "text/plain": [
       "Course              | Kind      | Registered | Limit | Enrolled | Waitlisted\n",
       "stat88              | Connector | 149        | 130   | 130      | 19\n",
       "CEE88               | Connector | 65         | 60    | 60       | 5\n",
       "demog88 immigration | Connector | 35         | 30    | 30       | 5\n",
       "LS88-1 social nets  | Connector | 29         | 25    | 25       | 4\n",
       "LS88-2 web data vis | Connector | 29         | 25    | 25       | 4\n",
       "LS88-3 cog neuro    | Connector | 27         | 25    | 25       | 2\n",
       "LS88-4 econ dev     | Connector | 36         | 32    | 32       | 4\n",
       "LS88-5 text         | Connector | 40         | 40    | 36       | 4"
      ]
     },
     "execution_count": 112,
     "metadata": {},
     "output_type": "execute_result"
    }
   ],
   "source": [
    "connectors = current_enrollments.where('Kind', 'Connector')\n",
    "connectors"
   ]
  },
  {
   "cell_type": "code",
   "execution_count": 113,
   "metadata": {
    "collapsed": false
   },
   "outputs": [
    {
     "data": {
      "text/plain": [
       "410"
      ]
     },
     "execution_count": 113,
     "metadata": {},
     "output_type": "execute_result"
    }
   ],
   "source": [
    "sum(connectors['Registered'])"
   ]
  },
  {
   "cell_type": "code",
   "execution_count": 116,
   "metadata": {
    "collapsed": false
   },
   "outputs": [
    {
     "data": {
      "text/plain": [
       "0.41751527494908353"
      ]
     },
     "execution_count": 116,
     "metadata": {},
     "output_type": "execute_result"
    }
   ],
   "source": [
    "sum(connectors['Registered'])/current_enrollments.where('Course', 'Data8')['Registered'][0]"
   ]
  },
  {
   "cell_type": "code",
   "execution_count": 118,
   "metadata": {
    "collapsed": false
   },
   "outputs": [
    {
     "data": {
      "text/plain": [
       "1299"
      ]
     },
     "execution_count": 118,
     "metadata": {},
     "output_type": "execute_result"
    }
   ],
   "source": [
    "sum(current_enrollments.where('Kind', 'Extend')['Registered'])"
   ]
  },
  {
   "cell_type": "code",
   "execution_count": null,
   "metadata": {
    "collapsed": true
   },
   "outputs": [],
   "source": []
  }
 ],
 "metadata": {
  "kernelspec": {
   "display_name": "Python [conda env:datascience]",
   "language": "python",
   "name": "conda-env-datascience-py"
  },
  "language_info": {
   "codemirror_mode": {
    "name": "ipython",
    "version": 3
   },
   "file_extension": ".py",
   "mimetype": "text/x-python",
   "name": "python",
   "nbconvert_exporter": "python",
   "pygments_lexer": "ipython3",
   "version": "3.5.3"
  }
 },
 "nbformat": 4,
 "nbformat_minor": 2
}
