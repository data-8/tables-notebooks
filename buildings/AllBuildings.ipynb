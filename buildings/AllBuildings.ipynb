{
 "cells": [
  {
   "cell_type": "code",
   "execution_count": null,
   "metadata": {},
   "outputs": [],
   "source": [
    "# HIDDEN\n",
    "# For Tables reference see http://data8.org/datascience/tables.html\n",
    "# This useful nonsense should just go at the top of your notebook.\n",
    "from datascience import *\n",
    "%matplotlib inline\n",
    "#%matplotlib notebook\n",
    "import matplotlib.pyplot as plots\n",
    "import numpy as np\n",
    "plots.style.use('fivethirtyeight')\n",
    "plots.rc('lines', linewidth=2, color='r')\n",
    "from ipywidgets import interact\n",
    "# datascience version number of last run of this notebook\n",
    "version.__version__"
   ]
  },
  {
   "cell_type": "code",
   "execution_count": null,
   "metadata": {},
   "outputs": [],
   "source": [
    "# The following is a bunch of code to make data presentation simple.  Skip it for reading.\n",
    "import sys\n",
    "sys.path.append(\"..\")\n",
    "from timetable import TimeTable\n",
    "\n",
    "import locale\n",
    "locale.setlocale( locale.LC_ALL, 'en_US.UTF-8' ) \n",
    "\n",
    "import power\n",
    "import datetime\n",
    "from os import path"
   ]
  },
  {
   "cell_type": "code",
   "execution_count": null,
   "metadata": {},
   "outputs": [],
   "source": [
    "def addsite(site, sites, models, model_perr):\n",
    "    try :\n",
    "        v = ucb.view(site, 'Building_Power_Demand_Sensor')\n",
    "        raw_ts, md = v.getday(day)\n",
    "        ts = raw_ts.snap(np.arange(0, 24, 0.25), 'kW')\n",
    "    except :\n",
    "        print(site, \"failed to fetch\")\n",
    "        return\n",
    "    p_5 = power.low(ts['kW'])\n",
    "    p_ave = np.mean(ts['kW'])\n",
    "    p_95 = power.high(ts['kW'])\n",
    "    try :\n",
    "        params, perr = power.loadfit(ts, p_5, p_95)\n",
    "        ts['model'] = ts.apply(power.loadmodel(*params), 'hour')\n",
    "        sites[site] = ts\n",
    "        summary = [site, p_5, p_ave, p_95] + list(params)\n",
    "        print(summary)\n",
    "        models.append(summary)\n",
    "        model_perr.append([site] + list(perr))\n",
    "    except :\n",
    "        print(site, \"Fetched but model failed\")"
   ]
  },
  {
   "cell_type": "code",
   "execution_count": null,
   "metadata": {},
   "outputs": [],
   "source": [
    "day = \"2019-04-09\""
   ]
  },
  {
   "cell_type": "code",
   "execution_count": null,
   "metadata": {},
   "outputs": [],
   "source": [
    "ucb = power.CampusPower('https://campus-export.xbos.io')"
   ]
  },
  {
   "cell_type": "code",
   "execution_count": null,
   "metadata": {},
   "outputs": [],
   "source": [
    "sites = {}\n",
    "models = Table(['site', 'p5', 'pave', 'p95', 't1', 't2', 't3', 't4', 'p_lo', 'p_hi'])\n",
    "model_perr = Table(['site', 't1', 't2', 't3', 't4', 'p_lo', 'p_hi'])"
   ]
  },
  {
   "cell_type": "code",
   "execution_count": null,
   "metadata": {},
   "outputs": [],
   "source": [
    "for site in ucb.sites() :\n",
    "    if not site in models['site'] :\n",
    "        addsite(site, sites, models, model_perr)"
   ]
  },
  {
   "cell_type": "code",
   "execution_count": null,
   "metadata": {},
   "outputs": [],
   "source": [
    "models"
   ]
  },
  {
   "cell_type": "code",
   "execution_count": null,
   "metadata": {},
   "outputs": [],
   "source": [
    "models.num_rows"
   ]
  },
  {
   "cell_type": "code",
   "execution_count": null,
   "metadata": {},
   "outputs": [],
   "source": [
    "models['hi/lo'] = models['p_hi']/models['p_lo']"
   ]
  },
  {
   "cell_type": "code",
   "execution_count": null,
   "metadata": {},
   "outputs": [],
   "source": [
    "models.sort('pave', descending=True).show()"
   ]
  },
  {
   "cell_type": "code",
   "execution_count": null,
   "metadata": {},
   "outputs": [],
   "source": [
    "models.select(['t1', 't2', 't3', 't4']).hist(bins=48)"
   ]
  },
  {
   "cell_type": "code",
   "execution_count": null,
   "metadata": {},
   "outputs": [],
   "source": [
    "models.select('hi/lo').hist(bins=20)"
   ]
  },
  {
   "cell_type": "code",
   "execution_count": null,
   "metadata": {},
   "outputs": [],
   "source": [
    "for site in models.sort('pave', descending=True)['site']:\n",
    "    sites[site].plot('hour')\n",
    "    plots.title(site)"
   ]
  },
  {
   "cell_type": "code",
   "execution_count": null,
   "metadata": {},
   "outputs": [],
   "source": []
  }
 ],
 "metadata": {
  "kernelspec": {
   "display_name": "Python 3",
   "language": "python",
   "name": "python3"
  },
  "language_info": {
   "codemirror_mode": {
    "name": "ipython",
    "version": 3
   },
   "file_extension": ".py",
   "mimetype": "text/x-python",
   "name": "python",
   "nbconvert_exporter": "python",
   "pygments_lexer": "ipython3",
   "version": "3.6.8"
  }
 },
 "nbformat": 4,
 "nbformat_minor": 2
}
