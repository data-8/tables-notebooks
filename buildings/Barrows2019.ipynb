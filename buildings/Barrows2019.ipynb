{
 "cells": [
  {
   "cell_type": "code",
   "execution_count": null,
   "metadata": {},
   "outputs": [],
   "source": [
    "# HIDDEN\n",
    "# For Tables reference see http://data8.org/datascience/tables.html\n",
    "# This useful nonsense should just go at the top of your notebook.\n",
    "from datascience import *\n",
    "%matplotlib inline\n",
    "#%matplotlib notebook\n",
    "import matplotlib.pyplot as plots\n",
    "import numpy as np\n",
    "plots.style.use('fivethirtyeight')\n",
    "plots.rc('lines', linewidth=2, color='r')\n",
    "from ipywidgets import interact\n",
    "# datascience version number of last run of this notebook\n",
    "version.__version__"
   ]
  },
  {
   "cell_type": "code",
   "execution_count": null,
   "metadata": {},
   "outputs": [],
   "source": [
    "# The following is a bunch of code to make data presentation simple.  Skip it for reading.\n",
    "import sys\n",
    "sys.path.append(\"..\")\n",
    "from timetable import TimeTable\n",
    "\n",
    "import locale\n",
    "locale.setlocale( locale.LC_ALL, 'en_US.UTF-8' ) \n",
    "\n",
    "import power\n",
    "import datetime"
   ]
  },
  {
   "cell_type": "code",
   "execution_count": null,
   "metadata": {},
   "outputs": [],
   "source": [
    "# Building of study for entire notebook\n",
    "building = 'Barrows Hall'"
   ]
  },
  {
   "cell_type": "code",
   "execution_count": null,
   "metadata": {},
   "outputs": [],
   "source": [
    "ucb = power.CampusPower('https://campus-export.xbos.io')\n",
    "v = ucb.view(building, 'Building_Power_Demand_Sensor')"
   ]
  },
  {
   "cell_type": "code",
   "execution_count": null,
   "metadata": {},
   "outputs": [],
   "source": [
    "ts, md = v.getday(\"2020-02-03\")\n",
    "md"
   ]
  },
  {
   "cell_type": "code",
   "execution_count": null,
   "metadata": {},
   "outputs": [],
   "source": [
    "params, perr = power.loadfit(ts)\n",
    "ts['model'] = ts.apply(power.loadmodel(*params), 'hour')\n",
    "ts.plot('hour')\n",
    "params, perr"
   ]
  },
  {
   "cell_type": "code",
   "execution_count": null,
   "metadata": {},
   "outputs": [],
   "source": [
    "# Fetch days ands build models\n",
    "bldg = v.model_days(\"2019-01-01\", \"2020-01-01\")"
   ]
  },
  {
   "cell_type": "code",
   "execution_count": null,
   "metadata": {},
   "outputs": [],
   "source": [
    "bldg.select(['yday', 'p_95', 'p_hi', 'p_ave',  'p_lo', 'p_5']).plot('yday', width=8, height=6)"
   ]
  },
  {
   "cell_type": "code",
   "execution_count": null,
   "metadata": {},
   "outputs": [],
   "source": [
    "bldg.where('daytype', 'Weekday').select(['yday', 'p_95', 'p_hi', 'p_ave',  'p_lo', 'p_5']).plot('yday', width=8, height=6)"
   ]
  },
  {
   "cell_type": "code",
   "execution_count": null,
   "metadata": {},
   "outputs": [],
   "source": [
    "bldg.select(['yday', 't4', 't3', 't2', 't1']).plot('yday')"
   ]
  },
  {
   "cell_type": "code",
   "execution_count": null,
   "metadata": {},
   "outputs": [],
   "source": [
    "bldg.where('daytype', 'Weekday').select(['yday', 't4', 't3', 't2', 't1']).plot('yday')"
   ]
  },
  {
   "cell_type": "code",
   "execution_count": null,
   "metadata": {},
   "outputs": [],
   "source": [
    "bldg.where('daytype', 'Weekend').select(['yday', 't4', 't3', 't2', 't1']).plot('yday')"
   ]
  },
  {
   "cell_type": "markdown",
   "metadata": {},
   "source": [
    "By Season"
   ]
  },
  {
   "cell_type": "code",
   "execution_count": null,
   "metadata": {},
   "outputs": [],
   "source": [
    "spring = bldg.where('term', 'Spring')\n",
    "sp_wkday = spring.where('daytype', 'Weekday')\n",
    "sp_wkday.select(['yday', 'p_95', 'p_hi', 'p_ave',  'p_lo', 'p_5']).oplot()"
   ]
  },
  {
   "cell_type": "code",
   "execution_count": null,
   "metadata": {},
   "outputs": [],
   "source": [
    "sp_wkend = spring.where('daytype', 'Weekend')\n",
    "sp_wkend.select(['yday', 'p_95', 'p_hi', 'p_ave',  'p_lo', 'p_5']).oplot()"
   ]
  },
  {
   "cell_type": "code",
   "execution_count": null,
   "metadata": {},
   "outputs": [],
   "source": [
    "summer = bldg.where('term', 'Summer')\n",
    "sum_wkday = summer.where('daytype', 'Weekday')\n",
    "sum_wkend = summer.where('daytype', 'Weekend')\n",
    "sum_wkday.select(['yday', 'p_95', 'p_hi', 'p_ave',  'p_lo', 'p_5']).oplot()\n",
    "sum_wkend.select(['yday', 'p_95', 'p_hi', 'p_ave',  'p_lo', 'p_5']).oplot()"
   ]
  },
  {
   "cell_type": "code",
   "execution_count": null,
   "metadata": {},
   "outputs": [],
   "source": [
    "fall = bldg.where('term', 'Fall')\n",
    "fall_wkday = fall.where('daytype', 'Weekday')\n",
    "fall_wkend = fall.where('daytype', 'Weekend')\n",
    "fall_wkday.select(['yday', 'p_95', 'p_hi', 'p_ave',  'p_lo', 'p_5']).oplot()\n",
    "fall_wkend.select(['yday', 'p_95', 'p_hi', 'p_ave',  'p_lo', 'p_5']).oplot()"
   ]
  },
  {
   "cell_type": "code",
   "execution_count": null,
   "metadata": {},
   "outputs": [],
   "source": [
    "#holiday = bldg.where('term', 'Holiday')\n",
    "#holiday.take(range(10)).select(['yday', 'p_95', 'p_hi', 'p_ave',  'p_lo', 'p_5']).plot('yday')\n",
    "#holiday.take(range(holiday.num_rows-10, holiday.num_rows)).select(['yday', 'p_95', 'p_hi', 'p_ave',  'p_lo', 'p_5']).plot('yday')"
   ]
  },
  {
   "cell_type": "code",
   "execution_count": null,
   "metadata": {},
   "outputs": [],
   "source": [
    "def view_days(view, start, end):\n",
    "    date = datetime.datetime.strptime(start,\"%Y-%m-%d\")\n",
    "    enddate = datetime.datetime.strptime(end,\"%Y-%m-%d\")\n",
    "    while date != enddate :\n",
    "        day = datetime.datetime.strftime(date, \"%Y-%m-%d\")\n",
    "        ts, md = view.getday(day)\n",
    "        p_5 = np.percentile(ts['kW'], 5)\n",
    "        p_ave = np.mean(ts['kW'])\n",
    "        p_95 = np.percentile(ts['kW'], 95)\n",
    "        params, perr = power.loadfit(ts, p_lo = p_5, p_hi = p_95)\n",
    "        ts['model'] = ts.apply(power.loadmodel(*params), 'hour')\n",
    "        ts.plot('hour')\n",
    "        plots.title(day)\n",
    "        #print(day, p_ave, params, perr)\n",
    "        date =  date + datetime.timedelta(days=1)"
   ]
  },
  {
   "cell_type": "code",
   "execution_count": null,
   "metadata": {},
   "outputs": [],
   "source": [
    "# Interesting day to look at further\n",
    "view_days(v, power.to_day(2019, 280), power.to_day(2019, 287))"
   ]
  },
  {
   "cell_type": "markdown",
   "metadata": {},
   "source": [
    "### What happening?\n",
    "\n",
    "https://sanfrancisco.cbslocal.com/2019/10/09/power-outage-strong-winds-trigger-massive-bay-area/"
   ]
  },
  {
   "cell_type": "code",
   "execution_count": null,
   "metadata": {},
   "outputs": [],
   "source": [
    "view_days(v, \"2020-03-09\", \"2020-03-16\")"
   ]
  },
  {
   "cell_type": "code",
   "execution_count": null,
   "metadata": {},
   "outputs": [],
   "source": [
    "view_days(v, \"2019-03-11\", \"2019-03-18\")"
   ]
  },
  {
   "cell_type": "code",
   "execution_count": null,
   "metadata": {},
   "outputs": [],
   "source": []
  }
 ],
 "metadata": {
  "kernelspec": {
   "display_name": "Python 3",
   "language": "python",
   "name": "python3"
  },
  "language_info": {
   "codemirror_mode": {
    "name": "ipython",
    "version": 3
   },
   "file_extension": ".py",
   "mimetype": "text/x-python",
   "name": "python",
   "nbconvert_exporter": "python",
   "pygments_lexer": "ipython3",
   "version": "3.6.8"
  }
 },
 "nbformat": 4,
 "nbformat_minor": 2
}
