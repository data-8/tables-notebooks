{
 "cells": [
  {
   "cell_type": "code",
   "execution_count": null,
   "metadata": {},
   "outputs": [],
   "source": [
    "# HIDDEN\n",
    "# For Tables reference see http://data8.org/datascience/tables.html\n",
    "# This useful nonsense should just go at the top of your notebook.\n",
    "from datascience import *\n",
    "%matplotlib inline\n",
    "#%matplotlib notebook\n",
    "import matplotlib.pyplot as plots\n",
    "import numpy as np\n",
    "plots.style.use('fivethirtyeight')\n",
    "plots.rc('lines', linewidth=2, color='r')\n",
    "from ipywidgets import interact\n",
    "# datascience version number of last run of this notebook\n",
    "version.__version__"
   ]
  },
  {
   "cell_type": "code",
   "execution_count": null,
   "metadata": {},
   "outputs": [],
   "source": [
    "# The following is a bunch of code to make data presentation simple.  Skip it for reading.\n",
    "import sys\n",
    "sys.path.append(\"..\")\n",
    "from timetable import TimeTable\n",
    "\n",
    "import locale\n",
    "locale.setlocale( locale.LC_ALL, 'en_US.UTF-8' ) \n",
    "\n",
    "import power\n",
    "import datetime\n",
    "from os import path"
   ]
  },
  {
   "cell_type": "code",
   "execution_count": null,
   "metadata": {},
   "outputs": [],
   "source": [
    "ucb = power.CampusPower('https://campus-export.xbos.io')"
   ]
  },
  {
   "cell_type": "code",
   "execution_count": null,
   "metadata": {},
   "outputs": [],
   "source": [
    "mv = ucb.model('Barrows Hall', 'Building_Power_Demand_Sensor')"
   ]
  },
  {
   "cell_type": "code",
   "execution_count": null,
   "metadata": {},
   "outputs": [],
   "source": [
    "day = \"2019-02-02\""
   ]
  },
  {
   "cell_type": "code",
   "execution_count": null,
   "metadata": {},
   "outputs": [],
   "source": [
    "mv.getday(day)"
   ]
  },
  {
   "cell_type": "code",
   "execution_count": null,
   "metadata": {},
   "outputs": [],
   "source": [
    "def all_sites(campus, day):\n",
    "    sites = []\n",
    "    for site in campus.sites():\n",
    "        #print(site)\n",
    "        try :\n",
    "            mv = ucb.model(site, 'Building_Power_Demand_Sensor')\n",
    "            stbl = mv.getday(day)\n",
    "            if not sites :\n",
    "                sites = stbl\n",
    "            else :\n",
    "                sites.append(stbl)\n",
    "        except :\n",
    "            print('Failed:', site)\n",
    "    return sites"
   ]
  },
  {
   "cell_type": "code",
   "execution_count": null,
   "metadata": {},
   "outputs": [],
   "source": [
    "raw_models = all_sites(ucb, day)"
   ]
  },
  {
   "cell_type": "code",
   "execution_count": null,
   "metadata": {},
   "outputs": [],
   "source": [
    "def estPave(t1, t2, t3, t4, p_lo, p_hi):\n",
    "    t1 = max(0, t1)\n",
    "    t2 = max(t1, t2)\n",
    "    t3 = max(t2, t3)\n",
    "    t4 = max(t3, t4) if t4 > t1 else 24\n",
    "    return p_lo + (p_hi - p_lo) * ((t2-t1)/2 + (t3-t2) + (t4-t3)/2)/24"
   ]
  },
  {
   "cell_type": "code",
   "execution_count": null,
   "metadata": {},
   "outputs": [],
   "source": [
    "models = raw_models.where(np.equal(np.isnan(raw_models['t1']), False))"
   ]
  },
  {
   "cell_type": "code",
   "execution_count": null,
   "metadata": {},
   "outputs": [],
   "source": [
    "models['p_ave'] = models.apply(estPave, 't1', 't2', 't3', 't4', 'p_lo', 'p_hi')"
   ]
  },
  {
   "cell_type": "code",
   "execution_count": null,
   "metadata": {},
   "outputs": [],
   "source": [
    "models.sort('p_ave', descending=True)"
   ]
  },
  {
   "cell_type": "code",
   "execution_count": null,
   "metadata": {},
   "outputs": [],
   "source": [
    "v = ucb.view('SRB1 and Oxford Tract', 'Building_Power_Demand_Sensor')"
   ]
  },
  {
   "cell_type": "code",
   "execution_count": null,
   "metadata": {},
   "outputs": [],
   "source": [
    "ts, md = v.getday(day)"
   ]
  },
  {
   "cell_type": "code",
   "execution_count": null,
   "metadata": {},
   "outputs": [],
   "source": [
    "models.num_rows"
   ]
  },
  {
   "cell_type": "code",
   "execution_count": null,
   "metadata": {},
   "outputs": [],
   "source": [
    "ts.plot('hour')"
   ]
  },
  {
   "cell_type": "code",
   "execution_count": null,
   "metadata": {},
   "outputs": [],
   "source": [
    "models['hi/lo'] = models['p_hi']/models['p_lo']"
   ]
  },
  {
   "cell_type": "code",
   "execution_count": null,
   "metadata": {},
   "outputs": [],
   "source": [
    "def basedaily(p_lo):\n",
    "    return p_lo * 24\n",
    "\n",
    "def userdaily(t1, t2, t3, t4, p_lo, p_hi):\n",
    "    return ((t2-t1)/2 + (t3-t2) + (t4-t3)/2)*p_hi"
   ]
  },
  {
   "cell_type": "code",
   "execution_count": null,
   "metadata": {},
   "outputs": [],
   "source": [
    "models['base kwh'] = models.apply(basedaily, 'p_lo')\n",
    "models['use kwh'] = models.apply(userdaily, 't1', 't2', 't3', 't4', 'p_lo', 'p_hi')\n",
    "models['use ratio'] = models['use kwh'] / models['base kwh']"
   ]
  },
  {
   "cell_type": "code",
   "execution_count": null,
   "metadata": {},
   "outputs": [],
   "source": [
    "models.sort('use ratio', descending=True).show()"
   ]
  },
  {
   "cell_type": "code",
   "execution_count": null,
   "metadata": {},
   "outputs": [],
   "source": [
    "models.select(['p_lo', 'p_hi']).scatter('p_lo')"
   ]
  },
  {
   "cell_type": "code",
   "execution_count": null,
   "metadata": {},
   "outputs": [],
   "source": [
    "models.select(['t1', 't2', 't3', 't4']).hist(bins=48)"
   ]
  },
  {
   "cell_type": "code",
   "execution_count": null,
   "metadata": {},
   "outputs": [],
   "source": [
    "models.select('hi/lo').hist(bins=20)"
   ]
  }
 ],
 "metadata": {
  "kernelspec": {
   "display_name": "Python 3",
   "language": "python",
   "name": "python3"
  },
  "language_info": {
   "codemirror_mode": {
    "name": "ipython",
    "version": 3
   },
   "file_extension": ".py",
   "mimetype": "text/x-python",
   "name": "python",
   "nbconvert_exporter": "python",
   "pygments_lexer": "ipython3",
   "version": "3.6.8"
  }
 },
 "nbformat": 4,
 "nbformat_minor": 2
}
