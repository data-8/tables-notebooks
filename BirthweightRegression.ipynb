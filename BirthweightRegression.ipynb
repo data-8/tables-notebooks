{
 "cells": [
  {
   "cell_type": "markdown",
   "metadata": {
    "deletable": true,
    "editable": true
   },
   "source": [
    "# Illustration of datascience Tables for multivariate analysis\n",
    "\n",
    "**David E. Culler**\n",
    "\n",
    "This notebook illustrates some of the use of datascience Tables to perform regressions on multiple variables. In doing so, it shows some of the elegant ways that computational concepts and statistical concepts naturally fit together."
   ]
  },
  {
   "cell_type": "code",
   "execution_count": null,
   "metadata": {
    "collapsed": true,
    "deletable": true,
    "editable": true
   },
   "outputs": [],
   "source": [
    "# HIDDEN\n",
    "from datascience import *\n",
    "%matplotlib inline\n",
    "import numpy as np\n",
    "import matplotlib.pyplot as plots\n",
    "plots.style.use('fivethirtyeight')"
   ]
  },
  {
   "cell_type": "markdown",
   "metadata": {
    "deletable": true,
    "editable": true
   },
   "source": [
    "## Read data from a local or remote csv file to create a Table"
   ]
  },
  {
   "cell_type": "code",
   "execution_count": null,
   "metadata": {
    "collapsed": false,
    "deletable": true,
    "editable": true
   },
   "outputs": [],
   "source": [
    "# Source https://onlinecourses.science.psu.edu/stat501/node/380\n",
    "births=Table.read_table(\"http://data8.org/tables-notebooks/data/birthsmokers.csv\")\n",
    "births"
   ]
  },
  {
   "cell_type": "markdown",
   "metadata": {
    "deletable": true,
    "editable": true
   },
   "source": [
    "## Looking at the raw data\n",
    "\n",
    "`Table.scatter` produces a scatter plot of columns versus a specific column.  Here we look at how birthweight varies with gestation. And we note whether the mother smoked."
   ]
  },
  {
   "cell_type": "code",
   "execution_count": null,
   "metadata": {
    "collapsed": false,
    "deletable": true,
    "editable": true
   },
   "outputs": [],
   "source": [
    "# First let's just look at what is here.  This needs to be a scatter, rather\n",
    "# than a plot because there is no simple ordering - just relationships between\n",
    "# birthweight and gestation time along with whether the mother smokes.\n",
    "births.scatter('Gest')"
   ]
  },
  {
   "cell_type": "code",
   "execution_count": null,
   "metadata": {
    "collapsed": false,
    "deletable": true,
    "editable": true
   },
   "outputs": [],
   "source": [
    "births.num_rows"
   ]
  },
  {
   "cell_type": "code",
   "execution_count": null,
   "metadata": {
    "collapsed": false,
    "deletable": true,
    "editable": true
   },
   "outputs": [],
   "source": [
    "# How many samples in each category\n",
    "births.where('Smoke').num_rows"
   ]
  },
  {
   "cell_type": "markdown",
   "metadata": {
    "deletable": true,
    "editable": true
   },
   "source": [
    "## Fitting a line to the data on a scatter plot\n",
    "\n",
    "Here we drop the `smoke` column and look at the birthweight for the whole population."
   ]
  },
  {
   "cell_type": "code",
   "execution_count": null,
   "metadata": {
    "collapsed": false,
    "deletable": true,
    "editable": true
   },
   "outputs": [],
   "source": [
    "# As there is a trend among birthweight and gestation, we can show a fit line to try to\n",
    "# capture it\n",
    "births.drop('Smoke').scatter('Gest', fit_line=True)"
   ]
  },
  {
   "cell_type": "markdown",
   "metadata": {
    "deletable": true,
    "editable": true
   },
   "source": [
    "## Partitioning data\n",
    "\n",
    "The question is whether smoking causes the trend to be substantially different.\n",
    "Split the data into two tables using the `Smoke` column.  Then we can find the trends for each."
   ]
  },
  {
   "cell_type": "code",
   "execution_count": null,
   "metadata": {
    "collapsed": true,
    "deletable": true,
    "editable": true
   },
   "outputs": [],
   "source": [
    "nosmoke=births.where('Smoke',0).drop('Smoke')\n",
    "smoke=births.where('Smoke',1).drop('Smoke')"
   ]
  },
  {
   "cell_type": "code",
   "execution_count": null,
   "metadata": {
    "collapsed": false,
    "deletable": true,
    "editable": true
   },
   "outputs": [],
   "source": [
    "# we can attempt to find the trend for each\n",
    "nosmoke.scatter('Gest',fit_line=True)"
   ]
  },
  {
   "cell_type": "code",
   "execution_count": null,
   "metadata": {
    "collapsed": false,
    "deletable": true,
    "editable": true
   },
   "outputs": [],
   "source": [
    "smoke.scatter('Gest',fit_line=True, marker='x')"
   ]
  },
  {
   "cell_type": "markdown",
   "metadata": {
    "deletable": true,
    "editable": true
   },
   "source": [
    "## Build a model by fitting a line to data in a Table\n",
    "\n",
    "Selecting a column of a Table yields a numpy array, allowing the numpy numerical\n",
    "tools to be used for fitting curves to the data.  For documentation on the `polyfit` \n",
    "function, try `help(np.polyfit)`.  It returns the polynomial coefficients, highest power first, which is the slope for a line.\n",
    "\n",
    "A linear model is only meaningful in the range around the normal gestation period,\n",
    "and indeed the intercept is not physcially meaningful"
   ]
  },
  {
   "cell_type": "code",
   "execution_count": null,
   "metadata": {
    "collapsed": false,
    "deletable": true,
    "editable": true
   },
   "outputs": [],
   "source": [
    "# what is the coeeficients of the line fitted to these data?\n",
    "\n",
    "np.polyfit(nosmoke['Gest'],nosmoke['Wgt'],1)"
   ]
  },
  {
   "cell_type": "code",
   "execution_count": null,
   "metadata": {
    "collapsed": false,
    "deletable": true,
    "editable": true
   },
   "outputs": [],
   "source": [
    "np.polyfit(smoke['Gest'],smoke['Wgt'],1)"
   ]
  },
  {
   "cell_type": "markdown",
   "metadata": {
    "deletable": true,
    "editable": true
   },
   "source": [
    "We see that both the constant and the weight increase per week is lower for the smokers."
   ]
  },
  {
   "cell_type": "markdown",
   "metadata": {
    "deletable": true,
    "editable": true
   },
   "source": [
    "## Higher order functions as models\n",
    "\n",
    "At this point, we could do mx+b all over the place, or we could utilize **higher order functions** to capture the concept of a model.  Here is an example, building such a model directly from the data.  It takes the set of `x` and `y` values and returns a function\n",
    "that evaluates the model built from that data at a particular `x`."
   ]
  },
  {
   "cell_type": "code",
   "execution_count": null,
   "metadata": {
    "collapsed": true,
    "deletable": true,
    "editable": true
   },
   "outputs": [],
   "source": [
    "# Build a linear model from data and return it is a function\n",
    "def make_lm(x, y):\n",
    "    m,b = np.polyfit(x, y, 1)\n",
    "    def lm(a):\n",
    "        return m*a+b\n",
    "    return lm "
   ]
  },
  {
   "cell_type": "code",
   "execution_count": null,
   "metadata": {
    "collapsed": true,
    "deletable": true,
    "editable": true
   },
   "outputs": [],
   "source": [
    "# Create model of non-smokers that returns estimated weight a function of weeks gestation\n",
    "nosmoker_weight = make_lm(nosmoke['Gest'], nosmoke['Wgt'])"
   ]
  },
  {
   "cell_type": "code",
   "execution_count": null,
   "metadata": {
    "collapsed": false,
    "deletable": true,
    "editable": true
   },
   "outputs": [],
   "source": [
    "# Evaluate it at normal gestations\n",
    "nosmoker_weight(40)"
   ]
  },
  {
   "cell_type": "code",
   "execution_count": null,
   "metadata": {
    "collapsed": true,
    "deletable": true,
    "editable": true
   },
   "outputs": [],
   "source": [
    "smoker_weight = make_lm(smoke['Gest'], smoke['Wgt'])"
   ]
  },
  {
   "cell_type": "code",
   "execution_count": null,
   "metadata": {
    "collapsed": false,
    "deletable": true,
    "editable": true
   },
   "outputs": [],
   "source": [
    "smoker_weight(40)"
   ]
  },
  {
   "cell_type": "markdown",
   "metadata": {
    "deletable": true,
    "editable": true
   },
   "source": [
    "## Drawing a conclusion \n",
    "\n",
    "Using the models to remove the contribution due to gestation time, we can attempt to draw a conclusion about the effect of smoking at typical gestation age."
   ]
  },
  {
   "cell_type": "code",
   "execution_count": null,
   "metadata": {
    "collapsed": false,
    "deletable": true,
    "editable": true
   },
   "outputs": [],
   "source": [
    "# based on this data set, fitting the data to models of weight as a function of gestation\n",
    "# We might conclude that at 40 weeks the effect of smoking on birthweigth in grams is\n",
    "smoke_diff = nosmoker_weight(40) - smoker_weight(40)\n",
    "smoke_diff"
   ]
  },
  {
   "cell_type": "code",
   "execution_count": null,
   "metadata": {
    "collapsed": false,
    "deletable": true,
    "editable": true
   },
   "outputs": [],
   "source": [
    "# Or in relative terms\n",
    "\"{0:.1f}%\".format(100*(nosmoker_weight(40)-smoker_weight(40))/nosmoker_weight(40))"
   ]
  },
  {
   "cell_type": "markdown",
   "metadata": {
    "deletable": true,
    "editable": true
   },
   "source": [
    "## Use the models to build a Table and visualize the effect of the categorical parameter - smoking"
   ]
  },
  {
   "cell_type": "code",
   "execution_count": null,
   "metadata": {
    "collapsed": false,
    "deletable": true,
    "editable": true
   },
   "outputs": [],
   "source": [
    "# Create a table with a column containing the independent variable\n",
    "estimated_birthweight = Table().with_column('week', np.arange(32,44))\n",
    "# Add columns of dependent variables\n",
    "estimated_birthweight['nosmoke'] = estimated_birthweight.apply(nosmoker_weight,'week')\n",
    "estimated_birthweight['smoke'] = estimated_birthweight.apply(smoker_weight,'week')\n",
    "estimated_birthweight"
   ]
  },
  {
   "cell_type": "code",
   "execution_count": null,
   "metadata": {
    "collapsed": false,
    "deletable": true,
    "editable": true
   },
   "outputs": [],
   "source": [
    "# plot it to visualize\n",
    "estimated_birthweight.plot('week',overlay=True)"
   ]
  },
  {
   "cell_type": "markdown",
   "metadata": {
    "deletable": true,
    "editable": true
   },
   "source": [
    "## Determining if the conclusion is sound\n",
    "\n",
    "At this point, we might ask how accurately these linear models fit the data.  The 'residual' in the fit would give us some idea of this.  But the error in summarizing a collection of empirical data with an analytical model is only a part of the question.  \n",
    "\n",
    "The deeper point is that this data is not \"truth\", it is merely a sample of a population, and a tiny one at that.  We should be asking, is an inference drawn from this data valid for the population that the data is intended to represent.  Of course, the population is not directly observable, only the sample of it.  How can we use the sample we have to get some idea of how representative it is of the larger population.  That is what bootstrap seeks to accomplish.\n",
    "\n",
    "Tables provide a method `sample` for just this purpose.  Here we return to looking at\n",
    "the coefficients, rather than build a function for the model."
   ]
  },
  {
   "cell_type": "code",
   "execution_count": null,
   "metadata": {
    "collapsed": true,
    "deletable": true,
    "editable": true
   },
   "outputs": [],
   "source": [
    "# Construct a new model by forming a new sample from our existing one and fiting a line to that\n",
    "# Here we create quite a general function, which takes a table and column names over which\n",
    "# the model is to be formed.  \n",
    "def rboot(table, x, y):\n",
    "    sample = table.sample(table.num_rows, with_replacement=True)\n",
    "    return np.polyfit(sample[x],sample[y],1)"
   ]
  },
  {
   "cell_type": "code",
   "execution_count": null,
   "metadata": {
    "collapsed": false,
    "deletable": true,
    "editable": true
   },
   "outputs": [],
   "source": [
    "# Try it out for non-smokers.  Note that every time this cell is evaluated (ctrl-enter)\n",
    "# the result is a little different, since a new sample is drawn.\n",
    "rboot(nosmoke, 'Gest', 'Wgt')"
   ]
  },
  {
   "cell_type": "code",
   "execution_count": null,
   "metadata": {
    "collapsed": false,
    "deletable": true,
    "editable": true
   },
   "outputs": [],
   "source": [
    "# And for smokers\n",
    "rboot(smoke,'Gest','Wgt')"
   ]
  },
  {
   "cell_type": "markdown",
   "metadata": {
    "deletable": true,
    "editable": true
   },
   "source": [
    "## Bootstrap\n",
    "\n",
    "Using this model builder as a function, draw many samples and form a model for each.  \n",
    "Then we can look at the distribution of the model parameters over lots of models.\n",
    "\n",
    "This illustrates the construction of tables by rows.  The Table constructor accepts the \n",
    "column names and `with_rows` fills them in row by row.\n",
    "\n",
    "`hist` forms and shows a histogram of the result."
   ]
  },
  {
   "cell_type": "code",
   "execution_count": null,
   "metadata": {
    "collapsed": false,
    "deletable": true,
    "editable": true
   },
   "outputs": [],
   "source": [
    "# Bootstrap a distribution of models by drawing many random samples, with replacement, from our samples\n",
    "num_samples = 1000\n",
    "nosamples = Table(['slope','intercept']).with_rows([rboot(nosmoke,'Gest','Wgt') for i in range(num_samples)])\n",
    "nosamples.hist(bins=50,normed=True, overlay=False)"
   ]
  },
  {
   "cell_type": "markdown",
   "metadata": {
    "deletable": true,
    "editable": true
   },
   "source": [
    "And we repeate this for the other category."
   ]
  },
  {
   "cell_type": "code",
   "execution_count": null,
   "metadata": {
    "collapsed": false,
    "deletable": true,
    "editable": true
   },
   "outputs": [],
   "source": [
    "smokesamples = Table(['slope','intercept']).with_rows([rboot(smoke,'Gest','Wgt') for i in range(num_samples)])\n",
    "smokesamples.hist(bins=50,normed=True, overlay=False)"
   ]
  },
  {
   "cell_type": "markdown",
   "metadata": {
    "deletable": true,
    "editable": true
   },
   "source": [
    "## Summary of sample distributions of the regression"
   ]
  },
  {
   "cell_type": "markdown",
   "metadata": {
    "deletable": true,
    "editable": true
   },
   "source": [
    "At this point we could compute a statistic over the sample distributions of these parameters, such as the total variational distance, or the mean."
   ]
  },
  {
   "cell_type": "code",
   "execution_count": null,
   "metadata": {
    "collapsed": false,
    "deletable": true,
    "editable": true
   },
   "outputs": [],
   "source": [
    "nosamples.stats([np.min,np.mean,np.max])"
   ]
  },
  {
   "cell_type": "code",
   "execution_count": null,
   "metadata": {
    "collapsed": false,
    "deletable": true,
    "editable": true
   },
   "outputs": [],
   "source": [
    "smokesamples.stats([np.min,np.mean,np.max])"
   ]
  },
  {
   "cell_type": "markdown",
   "metadata": {
    "deletable": true,
    "editable": true
   },
   "source": [
    "## Estimation of birthweights at 40 weeks\n",
    "\n",
    "Selecting a column of a Table yields a numpy array.  Arithmetic operators work\n",
    "elementwise on the entire array."
   ]
  },
  {
   "cell_type": "code",
   "execution_count": null,
   "metadata": {
    "collapsed": false,
    "deletable": true,
    "editable": true
   },
   "outputs": [],
   "source": [
    "smokesamples['slope']*40+smokesamples['intercept']"
   ]
  },
  {
   "cell_type": "code",
   "execution_count": null,
   "metadata": {
    "collapsed": false,
    "deletable": true,
    "editable": true
   },
   "outputs": [],
   "source": [
    "# So now we have an estimate of the distribution of birthweights at week 40 for \n",
    "# something closer to the populations that these small samples represent.\n",
    "weights_40 = Table().with_columns([\n",
    "        ('nosmoke', nosamples['slope']*40+nosamples['intercept']),\n",
    "        ('smoke', smokesamples['slope']*40+smokesamples['intercept'])])\n",
    "weights_40"
   ]
  },
  {
   "cell_type": "code",
   "execution_count": null,
   "metadata": {
    "collapsed": true,
    "deletable": true,
    "editable": true
   },
   "outputs": [],
   "source": [
    "weights_40['Smoke Wgt Loss'] = weights_40['nosmoke'] - weights_40['smoke']"
   ]
  },
  {
   "cell_type": "code",
   "execution_count": null,
   "metadata": {
    "collapsed": false,
    "deletable": true,
    "editable": true
   },
   "outputs": [],
   "source": [
    "# what do we expect the distribution of birthweight reduction due to smoking to look like\n",
    "# for the population represented by the original sample?\n",
    "weights_40.select('Smoke Wgt Loss').hist(bins=30,normed=True)  "
   ]
  },
  {
   "cell_type": "code",
   "execution_count": null,
   "metadata": {
    "collapsed": false,
    "deletable": true,
    "editable": true
   },
   "outputs": [],
   "source": [
    "smoke_diff"
   ]
  },
  {
   "cell_type": "code",
   "execution_count": null,
   "metadata": {
    "collapsed": false,
    "deletable": true,
    "editable": true
   },
   "outputs": [],
   "source": [
    "def firstQtile(x) : return np.percentile(x,25)\n",
    "def thirdQtile(x) : return np.percentile(x,25)\n",
    "summary_ops = (min, firstQtile, np.median, np.mean, thirdQtile, max)"
   ]
  },
  {
   "cell_type": "code",
   "execution_count": null,
   "metadata": {
    "collapsed": false,
    "deletable": true,
    "editable": true
   },
   "outputs": [],
   "source": [
    "summary = weights_40.stats(summary_ops)\n",
    "summary"
   ]
  },
  {
   "cell_type": "code",
   "execution_count": null,
   "metadata": {
    "collapsed": true,
    "deletable": true,
    "editable": true
   },
   "outputs": [],
   "source": [
    "summary['diff']=summary['nosmoke']-summary['smoke']"
   ]
  },
  {
   "cell_type": "code",
   "execution_count": null,
   "metadata": {
    "collapsed": false,
    "deletable": true,
    "editable": true
   },
   "outputs": [],
   "source": [
    "# the bottom line\n",
    "summary"
   ]
  },
  {
   "cell_type": "markdown",
   "metadata": {
    "deletable": true,
    "editable": true
   },
   "source": [
    "## Visualizing the separation of these distributions"
   ]
  },
  {
   "cell_type": "code",
   "execution_count": null,
   "metadata": {
    "collapsed": false,
    "deletable": true,
    "editable": true
   },
   "outputs": [],
   "source": [
    "weights_40.select(['smoke','nosmoke']).hist(overlay=True,bins=30,normed=True)  "
   ]
  },
  {
   "cell_type": "markdown",
   "metadata": {
    "deletable": true,
    "editable": true
   },
   "source": [
    "# Empirical p-values\n",
    "\n",
    "A more formal approach would be to take as the null hypothesis that smoking does not affect the birthweight.  Repeatedly split the data into random halves and model the birthweight difference.  What is the chance that the difference we see in summary table is an artifact?"
   ]
  },
  {
   "cell_type": "code",
   "execution_count": null,
   "metadata": {
    "collapsed": false,
    "deletable": true,
    "editable": true
   },
   "outputs": [],
   "source": [
    "# As an example, split the original data into two random halves\n",
    "A, B = births.split(births.num_rows//2)"
   ]
  },
  {
   "cell_type": "code",
   "execution_count": null,
   "metadata": {
    "collapsed": false,
    "deletable": true,
    "editable": true
   },
   "outputs": [],
   "source": [
    "A"
   ]
  },
  {
   "cell_type": "code",
   "execution_count": null,
   "metadata": {
    "collapsed": false,
    "deletable": true,
    "editable": true
   },
   "outputs": [],
   "source": [
    "B"
   ]
  },
  {
   "cell_type": "code",
   "execution_count": null,
   "metadata": {
    "collapsed": false,
    "deletable": true,
    "editable": true
   },
   "outputs": [],
   "source": [
    "make_lm(A['Gest'], A['Wgt'])(40)"
   ]
  },
  {
   "cell_type": "code",
   "execution_count": null,
   "metadata": {
    "collapsed": false,
    "deletable": true,
    "editable": true
   },
   "outputs": [],
   "source": [
    "make_lm(B['Gest'], B['Wgt'])(40)"
   ]
  },
  {
   "cell_type": "markdown",
   "metadata": {
    "deletable": true,
    "editable": true
   },
   "source": [
    "## Capturing statistical computations and general tools\n",
    "\n",
    "Rather than compute the null hypothesis for this particular table, we can build a very general tool, as a function, that will do it in general.\n",
    "\n",
    "Then we can use it to build a sample distribution under the null hypothesis"
   ]
  },
  {
   "cell_type": "code",
   "execution_count": null,
   "metadata": {
    "collapsed": true,
    "deletable": true,
    "editable": true
   },
   "outputs": [],
   "source": [
    "def null_diff_at(tbl, x, y, w):\n",
    "    A, B = tbl.split(tbl.num_rows//2)\n",
    "    return make_lm(A[x], A[y])(w) - make_lm(B[x], B[y])(w)"
   ]
  },
  {
   "cell_type": "code",
   "execution_count": null,
   "metadata": {
    "collapsed": false,
    "deletable": true,
    "editable": true
   },
   "outputs": [],
   "source": [
    "null_diff_at(births, 'Gest', 'Wgt', 40)"
   ]
  },
  {
   "cell_type": "code",
   "execution_count": null,
   "metadata": {
    "collapsed": false,
    "deletable": true,
    "editable": true
   },
   "outputs": [],
   "source": [
    "null = Table().with_column('Diff', [null_diff_at(births, 'Gest', 'Wgt', 40) for i in range(1000)])\n",
    "null.hist()"
   ]
  },
  {
   "cell_type": "markdown",
   "metadata": {
    "deletable": true,
    "editable": true
   },
   "source": [
    "What is the probablility that we got a 260g difference in birthweight at 40 weeks as an artifact of the sample?\n",
    "\n",
    "Zero"
   ]
  },
  {
   "cell_type": "code",
   "execution_count": null,
   "metadata": {
    "collapsed": false,
    "deletable": true,
    "editable": true
   },
   "outputs": [],
   "source": [
    "null.stats()"
   ]
  },
  {
   "cell_type": "code",
   "execution_count": null,
   "metadata": {
    "collapsed": true,
    "deletable": true,
    "editable": true
   },
   "outputs": [],
   "source": []
  }
 ],
 "metadata": {
  "anaconda-cloud": {},
  "kernelspec": {
   "display_name": "Python [default]",
   "language": "python",
   "name": "python3"
  },
  "language_info": {
   "codemirror_mode": {
    "name": "ipython",
    "version": 3
   },
   "file_extension": ".py",
   "mimetype": "text/x-python",
   "name": "python",
   "nbconvert_exporter": "python",
   "pygments_lexer": "ipython3",
   "version": "3.5.3"
  }
 },
 "nbformat": 4,
 "nbformat_minor": 0
}
