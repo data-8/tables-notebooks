{
 "cells": [
  {
   "cell_type": "markdown",
   "metadata": {},
   "source": [
    "# Overview\n",
    "\n",
    "This computational document looks at the growth of computing in the context of the larger picture of changing student demand, degree production, and instructional workload at UC Berkeley.  \n",
    "\n",
    "It uses the DataScience tables framework developed for data8, but is not a tutorial document.  It does illustrate the use of tables working across several different data sets to develop insights that are not present from looking at any one of the data sets.\n",
    "\n",
    "Run **Cell >> Run All** to execute all the cells in the notebook.  \n",
    "\n",
    "<a id=\"toc\">Table of Contents</a>\n",
    "\n",
    "* [Data sources](#section_data)\n",
    "* [University level trends in degrees, majors, and credits](#section_university)\n",
    " * [Degrees](#subsection_ucbdegrees)\n",
    " * [Majors](#subsection_ucbmajors)\n",
    " * [Coruses](#subsection_ucbcourses)\n",
    "* [UCB productivity and workload per FTE](#UCB_perFTE)\n",
    "* [Decanal level degrees, majors, and credits](#section_division)\n",
    " * [Bachelors degrees](#subsection_BA)\n",
    " * [Masters degrees](#subsection_MA)\n",
    " * [PhD degrees](#subsection_PhD)\n",
    "* [Undergraduate trends normalized for overall growth](#section_undergrads)\n",
    " * [Degrees](#subsection_degrees)\n",
    " * [Majors](#subsection_majors)\n",
    " * [Course enrollments](#subsection_credits)\n",
    "* [Trends within Engineering](#section_engineering)\n",
    "* [Separating divisions within EECS](#section_eecs)\n",
    "* [EECS degrees](#section_eecsdegrees)\n",
    "* [Departmental level trends](#section_dept)\n",
    "* [Fraction of degrees campus wide](#section_fraction)\n",
    "* [Degree growth in related programs](#section_related)\n",
    "* [STEM fields comparison](#section_stem)\n",
    "* [Departmental breakout for divisions other divisions](#section_breakout)"
   ]
  },
  {
   "cell_type": "code",
   "execution_count": null,
   "metadata": {
    "collapsed": false
   },
   "outputs": [],
   "source": [
    "# HIDDEN\n",
    "# For Tables reference see http://data8.org/datascience/tables.html\n",
    "# This useful nonsense should just go at the top of your notebook.\n",
    "from datascience import *\n",
    "%matplotlib inline\n",
    "import matplotlib.pyplot as plots\n",
    "import numpy as np\n",
    "plots.style.use('fivethirtyeight')\n",
    "plots.rc('lines', linewidth=2, color='r')\n",
    "from ipywidgets import interact\n",
    "# datascience version number of last run of this notebook\n",
    "version.__version__"
   ]
  },
  {
   "cell_type": "code",
   "execution_count": null,
   "metadata": {
    "collapsed": false
   },
   "outputs": [],
   "source": [
    "# Simple tools used in projecting tables.\n",
    "def sum_cols(tbl, start):\n",
    "    \"\"\"Sum the columns of a table from start\"\"\"\n",
    "    csum = 0\n",
    "    for c in range(start, len(tbl)):\n",
    "        csum += tbl[c]\n",
    "    return csum\n",
    "\n",
    "def sum_rows(tbl, start=1):\n",
    "    \"\"\"Sum the rows in a table beyond a start column\"\"\"\n",
    "    return [sum(row[start:]) for row in tbl.rows]\n",
    "\n",
    "def sort_cols(tbl, start=1):\n",
    "    \"\"\"Sort the columns of a table beyond start the values in last row.\"\"\"\n",
    "    labels = tbl.labels\n",
    "    def col_key(label):\n",
    "        return tbl.row(tbl.num_rows-1)[tbl.labels.index(label)]\n",
    "    order = sorted(tbl.labels[start:], key=col_key, reverse=True)\n",
    "    for label in order:\n",
    "        tbl.move_to_end(label)\n",
    "    return tbl\n",
    "        \n",
    "def top(tbl, n, start=1):\n",
    "    \"\"\"Create a new table containing the n largest columns.\"\"\"\n",
    "    tmp = tbl.copy()\n",
    "    sort_cols(tmp, start)\n",
    "    return tmp.select(tmp.labels[0:n+start])\n",
    "\n",
    "def sum_collect(s):\n",
    "    \"\"\"Collect under sum where possible, then uniform element, then sequence \"\"\"\n",
    "    try:\n",
    "        return sum(s)\n",
    "    except TypeError:\n",
    "        if np.all(np.array(s) == s[0]):\n",
    "            return s[0]\n",
    "        else:\n",
    "            return s\n",
    "\n",
    "def norm_by_row(tbl, base_row=0, start=1):\n",
    "    \"\"\"Normalize set of columns by a row\"\"\"\n",
    "    labels = tbl.labels\n",
    "    normed_tbl = tbl.select(tbl.labels[0:start])\n",
    "    for label in labels[start:]:\n",
    "        normed_tbl[label] = tbl[label]/tbl[label][base_row]\n",
    "    return normed_tbl\n",
    "\n",
    "def scale_cols(tbl, scale_factor, start=1, skip_start=False):\n",
    "    \"\"\"Scale set of columns\"\"\"\n",
    "    labels = tbl.labels\n",
    "    if skip_start:\n",
    "        normed_tbl = Table()\n",
    "    else:\n",
    "        normed_tbl = tbl.select(tbl.labels[0:start])\n",
    "    for label in labels[start:]:\n",
    "        normed_tbl[label] = tbl[label]*scale_factor\n",
    "    return normed_tbl"
   ]
  },
  {
   "cell_type": "markdown",
   "metadata": {},
   "source": [
    "<a id=\"section_data\"></a>"
   ]
  },
  {
   "cell_type": "markdown",
   "metadata": {},
   "source": [
    "\n",
    "# Data\n",
    "\n",
    "Considerable data is available through the cal-answers data warehouse.  In order to be able to manipulate it, we have extracted raw data from there on measures of productivity, Degrees awarded, which reflect the flow out of the programs, and measures of workload, Majors and student enrollment in classes, i.e., credits.  \n",
    "\n",
    "The data model rationalizes the University structure in a revealing way.  The decanal unit is a \"division\".  All schools and most colleges are a single division.  Letters and Science is five divisions.  Divisions have a dean and report to the Provost.  The units within those are termed \"Departments\", although they may be actual departments or programs or groups.  Departments may have divisions within them, but that is not captured in the data.  To get a handle on such divisional productivity and workload requires inference from other measures.\n",
    "\n",
    "Separate data sources describe resources.  Here we have only a 2015 FTE snapshot to work with.\n",
    "\n",
    "As of Aug 26, 2016, the spring 2016 graduation data is not yet available, so this data is already a year old.  With the rate of growth in computing, that is important.  In 2016, the number of L&S CS grads surpassed the number of EECS grads, it became the largest major in L&S, surpassing economics, students tool more computing than all of mathematics or all of engineering, with EE included.  The data here is just prior to those crossovers, but well reflects the longer term underlying trends."
   ]
  },
  {
   "cell_type": "markdown",
   "metadata": {},
   "source": [
    "## Degree data\n",
    "\n",
    "Degree counts are available from cal-answers since 1983.  Here they have been extracted into a csv so we can massage them to produce a departmental level record of student graduations and prorated (sum equals number of students graduating). "
   ]
  },
  {
   "cell_type": "code",
   "execution_count": null,
   "metadata": {
    "collapsed": false
   },
   "outputs": [],
   "source": [
    "# Different data sets represent the name of the divisions different.  Convert to a common representation.\n",
    "import re\n",
    "def normalize_div(div):\n",
    "    div = re.sub(\"-\", \" \", div)\n",
    "    div = re.sub(\" Division\", \"\", div)\n",
    "    div = re.sub(\" Div\", \"\", div)\n",
    "    div = re.sub(\"Environmental\", \"Env\", div)\n",
    "    div = re.sub('L&S Bio Sciences','L&S Biological Sciences', div)\n",
    "    div = re.sub('L&S Math & Phys Sci', 'L&S Math & Phys Sciences', div)\n",
    "    div = re.sub('L&S Undergraduate', 'L&S Undergrad Studies', div)\n",
    "    return div\n",
    "\n",
    "def normalize_dept(dept):\n",
    "    dept = re.sub(\"Comp \", \"Computer \", dept)\n",
    "    dept = re.sub(\"Rsch\", \"Research\", dept)\n",
    "    return dept"
   ]
  },
  {
   "cell_type": "code",
   "execution_count": null,
   "metadata": {
    "collapsed": false
   },
   "outputs": [],
   "source": [
    "raw_degrees = Table().read_table(\"./data/DegreeCounts-1983-2016.csv\")  # Raw degree data from CalAnswers\n",
    "# Only Fall 2105 degrees are represented for 2015-16 AY as of Aug 2016\n",
    "degree_rows = raw_degrees.where(raw_degrees['Academic Yr'] != '2015-16')\n",
    "degrees = degree_rows.drop('All Major Acad Hier Level Nm')\n",
    "degrees.relabel('Academic Yr', 'Year')\n",
    "degrees.relabel('Academic Department Short Nm', 'Department')\n",
    "degrees.relabel('Reporting Clg School Short Nm', 'College')\n",
    "degrees.relabel('Academic Division Short Nm','Division')\n",
    "degrees.relabel('Student Headcount', 'Grads')\n",
    "degrees.relabel('Prorated Student Major Cnt Sum', 'Prorated')\n",
    "degrees['Year'] = degrees.apply(lambda x:int(x[0:4])+1, 'Year') #ending year of AY\n",
    "\n",
    "degrees['Division'] = degrees.apply(normalize_div, 'Division')\n",
    "degrees['Department'] = degrees.apply(normalize_dept, 'Department')\n",
    "degrees"
   ]
  },
  {
   "cell_type": "code",
   "execution_count": null,
   "metadata": {
    "collapsed": false
   },
   "outputs": [],
   "source": [
    "# Crude picture of the overall degree data by department\n",
    "sort_cols(degrees.where('DegLvl', 1).pivot('Department', 'Year', 'Grads', collect=sum)).plot('Year')"
   ]
  },
  {
   "cell_type": "markdown",
   "metadata": {},
   "source": [
    "## Majors data\n",
    "\n",
    "The census of majors reflects one aspect of workload that is closely related to degree production.  It integrates over the cohorts of eventual graduates moving through the program."
   ]
  },
  {
   "cell_type": "code",
   "execution_count": null,
   "metadata": {
    "collapsed": false
   },
   "outputs": [],
   "source": [
    "raw_majors = Table().read_table(\"./data/DeptUgradCensus2005-16.csv\")\n",
    "\n",
    "majors = raw_majors.where('Semester Nm', 'Spring').select(['Academic Yr', 'Academic Division Short Nm', \n",
    "                                                           'Academic Department Short Nm','Student Headcount',\n",
    "                                                          'Prorated Student Major Cnt Sum'])\n",
    "majors.relabel('Academic Yr', 'Year')\n",
    "majors.relabel('Academic Division Short Nm', 'Division')\n",
    "majors.relabel('Academic Department Short Nm', 'Department')\n",
    "majors.relabel('Student Headcount', 'Majors')\n",
    "majors.relabel('Prorated Student Major Cnt Sum', 'Students')\n",
    "majors['Year'] = majors.apply(lambda x:int(x[0:4])+1, 'Year')\n",
    "majors['Division'] = majors.apply(normalize_div, 'Division')\n",
    "majors['Department'] = majors.apply(normalize_dept, 'Department')"
   ]
  },
  {
   "cell_type": "code",
   "execution_count": null,
   "metadata": {
    "collapsed": false
   },
   "outputs": [],
   "source": [
    "# Small snippet of where we are\n",
    "majors.where('Year', 2016).groups(['Year', 'Department'], collect=sum_collect).sort('Majors sum_collect', descending=True)"
   ]
  },
  {
   "cell_type": "markdown",
   "metadata": {},
   "source": [
    "## Enrollment data\n",
    "\n",
    "Aggregate course enrollments weighted by units is available at the subject level, for 210 subjects. Subjects are roughly at the level of departments, but some departments offer several distinct subjects, e.g., distinct languages, and some subjects are offered by more ad hoc groupings of faculty or multiple departments.\n",
    "\n",
    "In distilling from the raw data we sum the fall, spring, and summer of each academic year. "
   ]
  },
  {
   "cell_type": "code",
   "execution_count": null,
   "metadata": {
    "collapsed": false
   },
   "outputs": [],
   "source": [
    "raw_courses = Table().read_table(\"./data/CourseEnrollments.csv\")\n",
    "courses = raw_courses.select(['Academic Yr', 'Course Subject Short Nm', 'Units'])\n",
    "courses.relabel('Academic Yr', 'Year')\n",
    "courses.relabel('Course Subject Short Nm', 'Subject')\n",
    "courses.relabel('Units', 'Credits')\n",
    "courses['Year'] = courses.apply(lambda x:int(x[0:4])+1, 'Year')\n",
    "courses"
   ]
  },
  {
   "cell_type": "code",
   "execution_count": null,
   "metadata": {
    "collapsed": false
   },
   "outputs": [],
   "source": [
    "# Crude picture of the overall data - courses by year per subject\n",
    "courses_by_year = sort_cols(courses.pivot('Subject','Year', 'Credits', collect=sum))\n",
    "courses_by_year.plot('Year')"
   ]
  },
  {
   "cell_type": "code",
   "execution_count": null,
   "metadata": {
    "collapsed": false
   },
   "outputs": [],
   "source": [
    "courses.where('Year', 2016).groups(['Year', 'Subject'], collect=sum_collect).sort('Credits sum_collect', descending=True).show()"
   ]
  },
  {
   "cell_type": "code",
   "execution_count": null,
   "metadata": {
    "collapsed": false
   },
   "outputs": [],
   "source": [
    "# How many subjects, i.e., fields of study, are recognized\n",
    "len(np.unique(courses['Subject']))"
   ]
  },
  {
   "cell_type": "code",
   "execution_count": null,
   "metadata": {
    "collapsed": false
   },
   "outputs": [],
   "source": [
    "subjects = list(np.unique(courses['Subject']))\n",
    "subjects"
   ]
  },
  {
   "cell_type": "code",
   "execution_count": null,
   "metadata": {
    "collapsed": false
   },
   "outputs": [],
   "source": [
    "# Create as close a mapping as possible from subject to administrative units\n",
    "subject_map = Table.read_table(\"./data/subject-div.csv\")\n",
    "subject_map['Division'] = subject_map.apply(normalize_div, 'Div')\n",
    "subject_map = subject_map.drop(['Prog', 'Div'])\n",
    "subject_map['Department'] = subject_map.apply(normalize_dept, 'Dept')\n",
    "subject_map = subject_map.drop('Dept')\n",
    "subject_map"
   ]
  },
  {
   "cell_type": "markdown",
   "metadata": {},
   "source": [
    "## Current FTE Data\n",
    "\n",
    "FTE date at the start of the 2015-16 year."
   ]
  },
  {
   "cell_type": "code",
   "execution_count": null,
   "metadata": {
    "collapsed": true
   },
   "outputs": [],
   "source": [
    "raw_fte = Table.read_table(\"./data/progFTE.csv\")"
   ]
  },
  {
   "cell_type": "code",
   "execution_count": null,
   "metadata": {
    "collapsed": false
   },
   "outputs": [],
   "source": [
    "raw_fte"
   ]
  },
  {
   "cell_type": "code",
   "execution_count": null,
   "metadata": {
    "collapsed": false
   },
   "outputs": [],
   "source": [
    "programs = list(raw_fte['Prog'])"
   ]
  },
  {
   "cell_type": "code",
   "execution_count": null,
   "metadata": {
    "collapsed": false
   },
   "outputs": [],
   "source": [
    "organization = degrees.select(['Division', 'Department']).groups(['Division', 'Department']).drop('count')\n",
    "organization"
   ]
  },
  {
   "cell_type": "code",
   "execution_count": null,
   "metadata": {
    "collapsed": false
   },
   "outputs": [],
   "source": [
    "fte = raw_fte.with_columns(['Division', raw_fte.apply(normalize_div, 'Div'),\n",
    "                          'Department', raw_fte.apply(normalize_dept, 'Dept')])\n",
    "fte = fte.drop(['Div', 'Dept', 'Prog'])\n",
    "fte.sort('FTE', descending=True)"
   ]
  },
  {
   "cell_type": "code",
   "execution_count": null,
   "metadata": {
    "collapsed": false
   },
   "outputs": [],
   "source": [
    "total_fte = sum(fte['FTE'])\n",
    "total_fte"
   ]
  },
  {
   "cell_type": "code",
   "execution_count": null,
   "metadata": {
    "collapsed": false
   },
   "outputs": [],
   "source": [
    "# Group FTE by division, i.e., decanal unit\n",
    "fte_by_div = fte.group('Division', collect=sum_collect)\n",
    "fte_by_div.relabel('FTE sum_collect', 'FTE')\n",
    "fte_by_div.sort('FTE', descending=True).show()"
   ]
  },
  {
   "cell_type": "code",
   "execution_count": null,
   "metadata": {
    "collapsed": false
   },
   "outputs": [],
   "source": [
    "fte_by_dept = fte.group('Department', collect=sum_collect).sort('FTE sum_collect', descending=True)\n",
    "fte_by_dept.relabel('Division sum_collect', 'Division')\n",
    "fte_by_dept.relabel('FTE sum_collect', 'FTE')\n",
    "fte_by_dept.show()"
   ]
  },
  {
   "cell_type": "markdown",
   "metadata": {},
   "source": [
    "<a id=\"section_university\"></a>[top](#toc)\n",
    "\n",
    "# University Level trends"
   ]
  },
  {
   "cell_type": "markdown",
   "metadata": {},
   "source": [
    "<a id=\"subsection_ucb_degrees\"></a>\n",
    "\n",
    "## Degrees awarded campus wide\n",
    "\n",
    "The following graph, obtained from the degree data, shows the number of Bachelor, Masters, and PhD degrees awarded campus wide.  Advanced degree data is only available from 1990 on.  This reflects the output of these programs, rather than the effort associated with that output, as different degrees have different duration of residency.\n",
    "\n",
    "* Today, 7647 undergrad students graduate from 123 programs with 8581 Bachelors degrees, along with 2726 Masters, and 825 PhDs.\n",
    "* PhD production is fundamentally tied to size of the faculty and mentoring culture in particular fields. The rate of PhD production varies from 719 to 932.  After declines in the 90s it rose sigificantly in 2006, presumably relfecting a return to PhD studies after the Internet boom, and shows recent decline.\n",
    "* Masters production grew by 30% over 25 years, but 40% since 2000.\n",
    "* Bachelors degree production has grown 40% since 1990, but nearly 80% since 1985.\n",
    "* Double degrees appears to have transitioned from a historical rate of ~6% to a recent rate of ~12%.  However, double majors appears to be tracking around ~7%.  This is expected to be lower than degree rate, as major declaration increases with approach to graduation.\n",
    "* Total number of students and majors has increased 15% over the past decade.\n",
    "* Credits delivered campus wide has increased 19% over the past decade, the increase reflecting the increasing fraction of undergraduate instruction.\n",
    "* On average, an FTE produces 0.55 PhDs, 1.8 MS, and 5.7 BAs per year while carrying 17.2 Undergrads in 18.3 majors and providing 688.5 student credit hours."
   ]
  },
  {
   "cell_type": "code",
   "execution_count": null,
   "metadata": {
    "collapsed": false
   },
   "outputs": [],
   "source": [
    "total_degrees = degrees.select(['Year', 'DegLvlDesc', 'Grads', 'Prorated']).groups(['Year', 'DegLvlDesc'],collect=sum)\n",
    "UCB_grads_by_year = total_degrees.pivot('DegLvlDesc', 'Year', 'Grads sum', collect=sum)\n",
    "print(UCB_grads_by_year.where('Year', 2015))\n",
    "UCB_grads_by_year.plot('Year')\n",
    "#Grads_by_year.show()\n",
    "plots.title(\"degrees awarded @ UCB\")\n",
    "plots.ylabel(\"degrees\")"
   ]
  },
  {
   "cell_type": "code",
   "execution_count": null,
   "metadata": {
    "collapsed": false
   },
   "outputs": [],
   "source": [
    "# Degree production per FTE\n",
    "scale_cols(UCB_grads_by_year.where('Year', 2015), 1/total_fte)"
   ]
  },
  {
   "cell_type": "code",
   "execution_count": null,
   "metadata": {
    "collapsed": false
   },
   "outputs": [],
   "source": [
    "UCB_prorated_by_year = total_degrees.pivot('DegLvlDesc', 'Year', 'Prorated sum', collect=sum)\n",
    "print(UCB_prorated_by_year.where('Year', 2015))"
   ]
  },
  {
   "cell_type": "code",
   "execution_count": null,
   "metadata": {
    "collapsed": false
   },
   "outputs": [],
   "source": [
    "# Relative growth from a base year\n",
    "base_year = 1990\n",
    "sort_cols(norm_by_row(UCB_grads_by_year.where(UCB_grads_by_year['Year']>=base_year))).plot('Year')"
   ]
  },
  {
   "cell_type": "code",
   "execution_count": null,
   "metadata": {
    "collapsed": false
   },
   "outputs": [],
   "source": [
    "# Number of distnct degrees\n",
    "len(np.unique(degrees['Department']))"
   ]
  },
  {
   "cell_type": "code",
   "execution_count": null,
   "metadata": {
    "collapsed": false
   },
   "outputs": [],
   "source": [
    "# Bachelors degrees by decanal unit, i.e., Division\n",
    "BAs = degrees.where('DegLvl', 1).select(['Year', 'Grads', 'Prorated'])\n",
    "BAs_by_year = BAs.group('Year', collect=sum)\n",
    "print(BAs_by_year.where('Year', 2015))\n",
    "BAs_by_year.plot('Year')\n",
    "_ = plots.title(\"UCB BAs Produced\")"
   ]
  },
  {
   "cell_type": "code",
   "execution_count": null,
   "metadata": {
    "collapsed": false
   },
   "outputs": [],
   "source": [
    "BAs_by_year.with_column('Grads per Prorated', BAs_by_year['Grads sum']/BAs_by_year['Prorated sum']).select(['Year', 'Grads per Prorated']).plot('Year')"
   ]
  },
  {
   "cell_type": "markdown",
   "metadata": {},
   "source": [
    "## Majors campus wide\n",
    "\n",
    "The total number of students and majors has grown by 15% over the past 10 years.  On average 6% carry double majors, and this has remained relatively constant campus wide, although it is highly concentrated in certain disciplines - primarily those related to data science as discussed below."
   ]
  },
  {
   "cell_type": "code",
   "execution_count": null,
   "metadata": {
    "collapsed": false
   },
   "outputs": [],
   "source": [
    "# Undergraduate Students and Majors\n",
    "UCB_majors_by_year = majors.select(['Year', 'Majors', 'Students']).group('Year', collect=sum)\n",
    "UCB_majors_by_year.plot('Year')"
   ]
  },
  {
   "cell_type": "code",
   "execution_count": null,
   "metadata": {
    "collapsed": false
   },
   "outputs": [],
   "source": [
    "norm_by_row(UCB_majors_by_year).plot('Year')"
   ]
  },
  {
   "cell_type": "code",
   "execution_count": null,
   "metadata": {
    "collapsed": false
   },
   "outputs": [],
   "source": [
    "majors_per_student_by_year = UCB_majors_by_year.select('Year').with_column('Major per student', \n",
    "                                                                             UCB_majors_by_year['Majors sum']/UCB_majors_by_year['Students sum'])\n",
    "majors_per_student_by_year.show()"
   ]
  },
  {
   "cell_type": "code",
   "execution_count": null,
   "metadata": {
    "collapsed": true
   },
   "outputs": [],
   "source": []
  },
  {
   "cell_type": "code",
   "execution_count": null,
   "metadata": {
    "collapsed": false
   },
   "outputs": [],
   "source": [
    "# Total student credit hours delivered campus wide\n",
    "UCB_courses_by_year = courses.drop('Subject').group('Year', collect=sum)\n",
    "UCB_courses_by_year.plot('Year')"
   ]
  },
  {
   "cell_type": "code",
   "execution_count": null,
   "metadata": {
    "collapsed": false
   },
   "outputs": [],
   "source": [
    "norm_by_row(UCB_courses_by_year).plot('Year')"
   ]
  },
  {
   "cell_type": "code",
   "execution_count": null,
   "metadata": {
    "collapsed": false
   },
   "outputs": [],
   "source": [
    "# Overall picture of UCB campus wide production and workload\n",
    "ucb_by_year = UCB_grads_by_year.join('Year', UCB_prorated_by_year).join('Year', UCB_majors_by_year).join('Year', UCB_courses_by_year)\n",
    "ucb_by_year"
   ]
  },
  {
   "cell_type": "markdown",
   "metadata": {},
   "source": [
    "<a id=\"UCB_perFTE\"></a>"
   ]
  },
  {
   "cell_type": "markdown",
   "metadata": {},
   "source": [
    "<a id=\"subsection_ucb_perfte\"></a>[top](#toc)\n",
    "\n",
    "## Campus-wide average production and workload per FTE"
   ]
  },
  {
   "cell_type": "code",
   "execution_count": null,
   "metadata": {
    "collapsed": false
   },
   "outputs": [],
   "source": [
    "# Production and workload per FTE\n",
    "FTE_output = scale_cols(ucb_by_year.where('Year', 2015), 1/total_fte)\n",
    "FTE_output"
   ]
  },
  {
   "cell_type": "code",
   "execution_count": null,
   "metadata": {
    "collapsed": false
   },
   "outputs": [],
   "source": [
    "BAs2015_per_fte = FTE_output[\"Bachelor\"][0]\n",
    "BAs2015_per_fte"
   ]
  },
  {
   "cell_type": "code",
   "execution_count": null,
   "metadata": {
    "collapsed": false
   },
   "outputs": [],
   "source": [
    "MAs2015_per_fte = FTE_output['Masters/Professional'][0]\n",
    "MAs2015_per_fte"
   ]
  },
  {
   "cell_type": "code",
   "execution_count": null,
   "metadata": {
    "collapsed": false
   },
   "outputs": [],
   "source": [
    "PhDs2015_per_fte = FTE_output['Doctoral'][0]\n",
    "PhDs2015_per_fte"
   ]
  },
  {
   "cell_type": "code",
   "execution_count": null,
   "metadata": {
    "collapsed": false
   },
   "outputs": [],
   "source": [
    "# Average number of declared majors per FTE\n",
    "majors2016_per_fte = sum(majors.where(majors['Division'] != 'L&S Undeclared').where('Year', 2016)['Majors'])/total_fte\n",
    "majors2016_per_fte"
   ]
  },
  {
   "cell_type": "code",
   "execution_count": null,
   "metadata": {
    "collapsed": false
   },
   "outputs": [],
   "source": [
    "credits2016_per_fte = FTE_output['Credits sum'][0]\n",
    "credits2016_per_fte"
   ]
  },
  {
   "cell_type": "markdown",
   "metadata": {},
   "source": [
    "### Mapping from course subjects to organizational entitites\n",
    "\n",
    "Cal-Answers provides SCH per subject, from nearly 200 subjects, that align in a complicated fashion with departments and programs.  A small portion of the issue is interdisciplinary programs.  Many small departments have many distinct subjects.  Many departments have many programs and many of those have no subjects.  Painfully, we have built a mapping that is quite close. "
   ]
  },
  {
   "cell_type": "code",
   "execution_count": null,
   "metadata": {
    "collapsed": false
   },
   "outputs": [],
   "source": [
    "subject_map"
   ]
  },
  {
   "cell_type": "code",
   "execution_count": null,
   "metadata": {
    "collapsed": false
   },
   "outputs": [],
   "source": [
    "courses_by_dept = courses.join('Subject', subject_map).drop('Prog')\n",
    "courses_by_dept"
   ]
  },
  {
   "cell_type": "markdown",
   "metadata": {},
   "source": [
    "<a id=\"section_division\"></a>"
   ]
  },
  {
   "cell_type": "markdown",
   "metadata": {},
   "source": [
    "## Trends in degree programs and the divisional, i.e., decanal, level\n",
    "\n",
    "The broader trends among large majors provide an important backdrop.  \n",
    "* Social Sciences experienced huge growth in the late 80's and has retained its size.  \n",
    "* Humanities saw a similar 30% growth, but has decreased markedly over the recent few years.  \n",
    "* L&S Undergraduate division, which is primarily interdisciplinary programs delivered by departments in other L&S divisions has grown steadily.  \n",
    "* Biological Sciences saw large growth in the 90's, after the reorganization of of Biology settled in.\n",
    "* Engineering has grown slowly.  \n",
    "* L&S Administered programs, which contains 7 majors with other colleges or schools, has grown substantially since 2000. It is predominantly computer science.\n",
    "* L&S Math and Physical Science has grown substantially since the downturn, as has the College of Natural Resources.\n",
    "* Distributing the administered program degrees and majors back to their originiating divisions presents a rather different picture, especially for the College of Engineering, because CS is so large.\n",
    "* Normalizing for the size of the faculty in each division, Engineering is essentially at campus average degree production, while Biological Sciences and Social Sciences BA productivity are higher, as is Social Welfare, but it is a very small program.  Humanities falls substantially below.\n",
    "\n",
    "Collectively, we see how the last 10 years is dominated by growth in STEM, whereas Humanities and Social Sciences saw their growth in the late 80's, just as the first large boom in Computer Science ended."
   ]
  },
  {
   "cell_type": "code",
   "execution_count": null,
   "metadata": {
    "collapsed": false
   },
   "outputs": [],
   "source": [
    "np.unique(degrees.where('Division', 'L&S Administered Programs')['Department'])"
   ]
  },
  {
   "cell_type": "code",
   "execution_count": null,
   "metadata": {
    "collapsed": false
   },
   "outputs": [],
   "source": [
    "# Bachelors degrees by decanal unit, i.e., Division\n",
    "BAs_Div = degrees.where('DegLvl', 1).select(['Year','Division','Grads'])\n",
    "div_BAs_by_year = BAs_Div.pivot('Division', 'Year', 'Grads', collect=sum)\n",
    "sort_cols(div_BAs_by_year).where('Year',2015).barh('Year')\n",
    "_ = plots.title(\"BAs Produced\")"
   ]
  },
  {
   "cell_type": "code",
   "execution_count": null,
   "metadata": {
    "collapsed": false
   },
   "outputs": [],
   "source": [
    "div_BAs_by_year.plot('Year', linewidth=2)\n",
    "_ = plots.title(\"BA production by decanal unit\")"
   ]
  },
  {
   "cell_type": "markdown",
   "metadata": {},
   "source": [
    "L&S Administered programs are degree programs provided by other colleges and schools, but administered through L&S because schools do not grant undergraduate degrees and because some programs are both naturally in Engineering and in a liberaal arts eduction."
   ]
  },
  {
   "cell_type": "code",
   "execution_count": null,
   "metadata": {
    "collapsed": false
   },
   "outputs": [],
   "source": [
    "admin_program_degree_map = Table(['Degree', 'Division']).with_rows(\n",
    "    [('L&S Chemistry', 'Clg of Chemistry'),\n",
    "    ('L&S Computer Science', 'Clg of Engineering'),\n",
    "    ('L&S Envir Econ & Policy', 'Clg of Natural Resources'),\n",
    "    ('L&S Legal Studies', 'School of Law'),\n",
    "    ('L&S Ops Research & Mgmt Sci', 'Clg of Engineering'),\n",
    "    ('L&S Public Health', 'School of Public Health'),\n",
    "    ('L&S Social Welfare', 'School of Social Welfare')\n",
    "    ])\n",
    "\n",
    "def map_div(division, dept):\n",
    "    if division == 'L&S Administered Programs':\n",
    "        for (deg, div) in admin_program_degree_map.rows:\n",
    "            if deg == dept:\n",
    "                return div\n",
    "    return division"
   ]
  },
  {
   "cell_type": "code",
   "execution_count": null,
   "metadata": {
    "collapsed": false
   },
   "outputs": [],
   "source": [
    "sort_cols(degrees.where('Division', 'L&S Administered Programs').select(['Year', 'Department', 'Grads']).pivot('Department', 'Year', 'Grads', collect=sum)).plot('Year')"
   ]
  },
  {
   "cell_type": "markdown",
   "metadata": {},
   "source": [
    "<a id=\"subsection_BA\"></a>"
   ]
  },
  {
   "cell_type": "markdown",
   "metadata": {},
   "source": [
    "### Bachelors degrees by decanal unit with L&S administered attributed to originating division"
   ]
  },
  {
   "cell_type": "code",
   "execution_count": null,
   "metadata": {
    "collapsed": true
   },
   "outputs": [],
   "source": [
    "# Revised degree data table cross divisional attribution\n",
    "revised_degrees = degrees.with_column('Division', degrees.apply(map_div, ['Division', 'Department']))"
   ]
  },
  {
   "cell_type": "markdown",
   "metadata": {},
   "source": [
    "With L&S administered programs attributed to their home division, we see a rather different picture of the relative undergraduate production.  College of Engineering rises above all divisions but Social Sciences, primarily due to its provision of computer science.\n",
    "\n",
    "Importantly, the other programs, while smaller, have an increasingly computational element with the broader aspect of data science."
   ]
  },
  {
   "cell_type": "code",
   "execution_count": null,
   "metadata": {
    "collapsed": false
   },
   "outputs": [],
   "source": [
    "rBAs_Div = revised_degrees.where('DegLvl', 1).select(['Year','Division','Grads'])\n",
    "rdiv_BAs_by_year = rBAs_Div.pivot('Division', 'Year', 'Grads', collect=sum)\n",
    "sort_cols(rdiv_BAs_by_year).where('Year',2015).barh('Year')\n",
    "_ = plots.title(\"BAs Produced\")"
   ]
  },
  {
   "cell_type": "markdown",
   "metadata": {},
   "source": [
    "With this adjustment, we can see more clearly the change over the past 5 years:\n",
    "* rise of Engineering undergraduate production due to computer science, and\n",
    "* the corresponding rise in Math and Physical Sciences due to confluent interests in other aspects of data science, statistics and applied math.\n",
    "\n",
    "We also see:\n",
    "* the prior growth in the College of Natural Resources 2006-2012\n",
    "* the growth of Biological Sciences, following the reorganization, throughout the 90's\n",
    "* the growth in the late 80's of Social Science and Arts and Humanities.\n",
    "\n",
    "The overall growth of the undergraduate program has so far allowed individual divisions to maintain degree production while other divisions experience growth."
   ]
  },
  {
   "cell_type": "code",
   "execution_count": null,
   "metadata": {
    "collapsed": false
   },
   "outputs": [],
   "source": [
    "rdiv_BAs_by_year.plot('Year', linewidth=2)\n",
    "_ = plots.title(\"BA production by decanal unit\")"
   ]
  },
  {
   "cell_type": "code",
   "execution_count": null,
   "metadata": {
    "collapsed": false
   },
   "outputs": [],
   "source": [
    "rdiv_BAs_by_year.where(rdiv_BAs_by_year['Year'] >= 2005).plot('Year', linewidth=2)\n",
    "_ = plots.title(\"BA production by decanal unit\")"
   ]
  },
  {
   "cell_type": "markdown",
   "metadata": {},
   "source": [
    "### Normalizing for size of the faculty\n",
    "\n",
    "While the graph above shows the relative trends clearly, it leaves open the question of whether the size of the faculty across the divisions is aligned with the productivity or workload of the programs."
   ]
  },
  {
   "cell_type": "code",
   "execution_count": null,
   "metadata": {
    "collapsed": false
   },
   "outputs": [],
   "source": [
    "def norm_col_by_tbl(tbl, scale_table, norm_label, norm_value, start = 1):\n",
    "    \"\"\"Scale set of columns by value in a scaling table. \"\"\"\n",
    "    labels = tbl.labels\n",
    "    normed_tbl = tbl.select(tbl.labels[0:start])\n",
    "    for label in labels[start:]:\n",
    "        scale_row = scale_table.where(norm_label, label)[norm_value]\n",
    "        if len(scale_row) == 1:\n",
    "            normed_tbl[label] = tbl[label]/scale_row[0]\n",
    "    return normed_tbl"
   ]
  },
  {
   "cell_type": "code",
   "execution_count": null,
   "metadata": {
    "collapsed": false
   },
   "outputs": [],
   "source": [
    "sort_cols(div_BAs_by_year.where('Year', 2015))"
   ]
  },
  {
   "cell_type": "code",
   "execution_count": null,
   "metadata": {
    "collapsed": false
   },
   "outputs": [],
   "source": [
    "# Grads per FTE\n",
    "sort_cols(norm_col_by_tbl(div_BAs_by_year.where('Year', 2015), fte_by_div, 'Division', 'FTE'))"
   ]
  },
  {
   "cell_type": "code",
   "execution_count": null,
   "metadata": {
    "collapsed": false
   },
   "outputs": [],
   "source": [
    "# Grads after distributing administered programs to offered division\n",
    "sort_cols(rdiv_BAs_by_year.where('Year', 2015))"
   ]
  },
  {
   "cell_type": "code",
   "execution_count": null,
   "metadata": {
    "collapsed": false
   },
   "outputs": [],
   "source": [
    "BAs2015_per_fte_by_div = sort_cols(norm_col_by_tbl(rdiv_BAs_by_year.where('Year', 2015), fte_by_div, 'Division', 'FTE'))\n",
    "BAs2015_per_fte_by_div"
   ]
  },
  {
   "cell_type": "code",
   "execution_count": null,
   "metadata": {
    "collapsed": false
   },
   "outputs": [],
   "source": [
    "BAs2015_per_fte"
   ]
  },
  {
   "cell_type": "code",
   "execution_count": null,
   "metadata": {
    "collapsed": false
   },
   "outputs": [],
   "source": [
    "# Ratio of Grads per FTE to campus average\n",
    "scale_cols(BAs2015_per_fte_by_div, 1/BAs2015_per_fte, 2, True)"
   ]
  },
  {
   "cell_type": "markdown",
   "metadata": {},
   "source": [
    "From this normalization we can see that Engineering as a whole is essentially campus average in degree undergraduate degree production per FTE (largely due to its computer science program, as shown below), with Biology, Social Science, and Social Welfare delivering about 4/3rds the average per FTE."
   ]
  },
  {
   "cell_type": "markdown",
   "metadata": {},
   "source": [
    "<a id=\"subsection_MA\"></a>"
   ]
  },
  {
   "cell_type": "markdown",
   "metadata": {},
   "source": [
    "## Masters degrees by decanal unit, i.e., Division\n",
    "\n",
    "At the masters level, we see profound growth amongst Business, Law, and Engineering over the past decade, with modest and mostly steady rate across the rest."
   ]
  },
  {
   "cell_type": "code",
   "execution_count": null,
   "metadata": {
    "collapsed": false
   },
   "outputs": [],
   "source": [
    "MAs_Div = degrees.where('DegLvl', 2).select(['Year','Division','Grads'])\n",
    "div_MAs_by_year = sort_cols(MAs_Div.pivot('Division', 'Year', 'Grads', collect=sum))\n",
    "div_MAs_by_year.where('Year',2015).barh('Year')\n",
    "_ = plots.title(\"MAs Produced by Division\")"
   ]
  },
  {
   "cell_type": "code",
   "execution_count": null,
   "metadata": {
    "collapsed": false
   },
   "outputs": [],
   "source": [
    "div_MAs_by_year.plot('Year')\n",
    "_ = plots.title(\"Masters production by decanal unit\")"
   ]
  },
  {
   "cell_type": "code",
   "execution_count": null,
   "metadata": {
    "collapsed": false
   },
   "outputs": [],
   "source": [
    "# MAs production\n",
    "div_MAs_by_year.where('Year',2015)"
   ]
  },
  {
   "cell_type": "code",
   "execution_count": null,
   "metadata": {
    "collapsed": false
   },
   "outputs": [],
   "source": [
    "# MAs per FTE\n",
    "sort_cols(norm_col_by_tbl(div_MAs_by_year.where('Year', 2015), fte_by_div, 'Division', 'FTE'))"
   ]
  },
  {
   "cell_type": "code",
   "execution_count": null,
   "metadata": {
    "collapsed": false
   },
   "outputs": [],
   "source": [
    "# Relative to campus norm\n",
    "scale_cols(sort_cols(norm_col_by_tbl(div_MAs_by_year.where('Year', 2015), fte_by_div, 'Division', 'FTE')), 1/MAs2015_per_fte)"
   ]
  },
  {
   "cell_type": "markdown",
   "metadata": {},
   "source": [
    "<a id=\"subsection_PhD\"></a>\n",
    "\n",
    "## PhDs by Decanal unit (i.e., division)"
   ]
  },
  {
   "cell_type": "code",
   "execution_count": null,
   "metadata": {
    "collapsed": false
   },
   "outputs": [],
   "source": [
    "# PhDs degrees by decanal unit, i.e., Division\n",
    "Ps_Div = degrees.where('DegLvl', 3).select(['Year','Division','Grads'])\n",
    "div_PhDs_by_year = sort_cols(Ps_Div.pivot('Division', 'Year', 'Grads', collect=sum))\n",
    "div_PhDs_by_year.where('Year', 2015).barh('Year')"
   ]
  },
  {
   "cell_type": "code",
   "execution_count": null,
   "metadata": {
    "collapsed": false
   },
   "outputs": [],
   "source": [
    "div_PhDs_by_year.plot('Year')\n",
    "_ = plots.title(\"PhD production by decanal unit\")"
   ]
  },
  {
   "cell_type": "code",
   "execution_count": null,
   "metadata": {
    "collapsed": false
   },
   "outputs": [],
   "source": [
    "div_PhDs_by_year.where('Year', 2015)"
   ]
  },
  {
   "cell_type": "code",
   "execution_count": null,
   "metadata": {
    "collapsed": false
   },
   "outputs": [],
   "source": [
    "sort_cols(norm_col_by_tbl(div_PhDs_by_year.where('Year', 2015), fte_by_div, 'Division', 'FTE'))"
   ]
  },
  {
   "cell_type": "code",
   "execution_count": null,
   "metadata": {
    "collapsed": false,
    "scrolled": true
   },
   "outputs": [],
   "source": [
    "scale_cols(sort_cols(norm_col_by_tbl(div_PhDs_by_year.where('Year', 2015), fte_by_div, 'Division', 'FTE')), 1/PhDs2015_per_fte)"
   ]
  },
  {
   "cell_type": "markdown",
   "metadata": {},
   "source": [
    "<a id=\"section_undergrads\"></a>\n",
    "\n",
    "## Undergraduate trends normalized for overall growth\n",
    "\n",
    "\n",
    "Given the growth in the total number of degrees, we normalize to separate shifts from overall growth.\n",
    "\n",
    "For the past 25 years we have \n",
    "* a steady decline in social science and humanities, \n",
    "* after a rise in the 90's, biology steady\n",
    "* L&S growth is primarily interdisiplinary programs and math and physical sciences\n",
    "* recent growth in engineering, dominated by computer science,\n",
    "* growth in math and physical sciences, dominated by statistics\n",
    "* growth in CNR during 2000-2010 that has reversed since\n",
    "\n",
    "Over the past 10 years where he have Major data, these trends are consistent and more pronounced\n",
    "\n",
    "Normalizing for size of the faculty, Engineering (and MPS) are average campus wide while Social Sciences remains a heavier per_FTE undergraduate rate, but in both cases these figures are dominated by heavy loads in particular fields - computer science and economics, respectively.\n",
    "\n",
    "Taking this down to course credits, the dominant trend is the growth of computer science, now exceeding Math despite near doubling of Math demands, whereas 10 years ago it was less than half."
   ]
  },
  {
   "cell_type": "markdown",
   "metadata": {},
   "source": [
    "<a id=\"subsection_degrees\"></a>\n",
    "\n",
    "### Degrees\n",
    "\n",
    "Over the past 30 years, the undergraduate program has grown 70% while the faculty size and PhD program has remained roughly constant.  A better sense of student choice is obtained by normalizing for overall growth in the student population.\n",
    "\n",
    "The growth in degree rate (and majors) is not exactly the growth in student population because the increase in junior transfers increases the size of the cohort in the upper division."
   ]
  },
  {
   "cell_type": "code",
   "execution_count": null,
   "metadata": {
    "collapsed": false
   },
   "outputs": [],
   "source": [
    "UCB_grads_by_year.select(['Year', 'Bachelor']).relabel('Bachelor', 'BAs').plot('Year')"
   ]
  },
  {
   "cell_type": "code",
   "execution_count": null,
   "metadata": {
    "collapsed": false
   },
   "outputs": [],
   "source": [
    "UCB_grads_by_year['Bachelor'][-1]/UCB_grads_by_year['Bachelor'][0]"
   ]
  },
  {
   "cell_type": "code",
   "execution_count": null,
   "metadata": {
    "collapsed": false
   },
   "outputs": [],
   "source": [
    "def normalize_table(by_year):\n",
    "    normed_by_year = by_year.select('Year')\n",
    "    total_by_year = sum_rows(by_year)\n",
    "    for label in by_year.labels[1:] :\n",
    "        normed_by_year[label] = by_year[label] / total_by_year\n",
    "        normed_by_year.set_format(label, PercentFormatter)\n",
    "    return normed_by_year"
   ]
  },
  {
   "cell_type": "code",
   "execution_count": null,
   "metadata": {
    "collapsed": false
   },
   "outputs": [],
   "source": [
    "# 30 year trend in degrees as a fraction of overall campus wide production\n",
    "normalize_table(rdiv_BAs_by_year).plot('Year')"
   ]
  },
  {
   "cell_type": "code",
   "execution_count": null,
   "metadata": {
    "collapsed": false
   },
   "outputs": [],
   "source": [
    "def forecast_table(by_year_table, past, years):\n",
    "    last_year = int(by_year_table['Year'][-1])\n",
    "    past_years = range(last_year+1 - past, last_year+1) # window over fit\n",
    "    fore_years = range(last_year+1, last_year+1+years) # projection\n",
    "    def project(lbl):\n",
    "        m,b = np.polyfit(past_years, by_year_table[lbl][-past-1:-1], 1)\n",
    "        return [m*year + b for year in fore_years]\n",
    "    xtbl = Table().with_columns([('Year', fore_years)] + [(label, project(label)) for label in by_year_table.labels[1:]])\n",
    "    return by_year_table.copy().append(xtbl)"
   ]
  },
  {
   "cell_type": "code",
   "execution_count": null,
   "metadata": {
    "collapsed": false
   },
   "outputs": [],
   "source": [
    "forecast_rdiv_by_year = forecast_table(rdiv_BAs_by_year, 5, 5)\n",
    "forecast_rdiv_by_year.plot('Year')"
   ]
  },
  {
   "cell_type": "code",
   "execution_count": null,
   "metadata": {
    "collapsed": false
   },
   "outputs": [],
   "source": [
    "normalize_table(forecast_rdiv_by_year).plot('Year')"
   ]
  },
  {
   "cell_type": "markdown",
   "metadata": {},
   "source": [
    "<a id=\"subsection_majors\"></a>\n",
    "\n",
    "### Majors\n",
    "\n",
    "A total of 143 majors are supported across the divisions.  This metric is both workload and productivity and tends to lead `degrees` as it includes more than the graduating cohort. College differences complicate it, as Engineering students declare as freshman, whereas are `Undeclared` initially in L&S.  This is the largest segment.  \n",
    "\n",
    "Available for a bit over a decade, the growth of L&S Administered programs is more pronounced, reflecting the growth in computer science.\n",
    "\n",
    "Reflecting administered programs back to their colleges and schools, College of Engineering is within 80% of Social Sciences, not counting L&S Undeclared in either case.  Clearly, the non-L&S portion of COE load has lower division students attributed as majors."
   ]
  },
  {
   "cell_type": "code",
   "execution_count": null,
   "metadata": {
    "collapsed": false
   },
   "outputs": [],
   "source": [
    "UCB_majors_by_year = majors.select(['Year', 'Majors']).group('Year', collect=sum_collect).relabel('Majors sum_collect', 'majors')\n",
    "UCB_majors_by_year.plot('Year')"
   ]
  },
  {
   "cell_type": "code",
   "execution_count": null,
   "metadata": {
    "collapsed": false
   },
   "outputs": [],
   "source": [
    "division_majors = majors.select(['Year', 'Division','Majors', 'Students']).groups(['Year', 'Division'], collect=sum_collect)\n",
    "print(division_majors.num_rows, \" majors\")\n",
    "division_majors"
   ]
  },
  {
   "cell_type": "code",
   "execution_count": null,
   "metadata": {
    "collapsed": false
   },
   "outputs": [],
   "source": [
    "div_majors_by_year = sort_cols(division_majors.pivot('Division', 'Year', 'Majors sum_collect', collect=sum ))\n",
    "div_students_by_year = sort_cols(division_majors.pivot('Division', 'Year', 'Students sum_collect', collect=sum ))"
   ]
  },
  {
   "cell_type": "code",
   "execution_count": null,
   "metadata": {
    "collapsed": false
   },
   "outputs": [],
   "source": [
    "# 10 year trend in majors, uncorrected for L&S Administrative program and including undeclared\n",
    "div_majors_by_year.plot('Year')"
   ]
  },
  {
   "cell_type": "code",
   "execution_count": null,
   "metadata": {
    "collapsed": false
   },
   "outputs": [],
   "source": [
    "div_majors_by_year.where('Year', 2016).barh('Year')"
   ]
  },
  {
   "cell_type": "code",
   "execution_count": null,
   "metadata": {
    "collapsed": false
   },
   "outputs": [],
   "source": [
    "# 10 year trend in majors, with L&S adminstrative programs redistributed to source division\n",
    "rmajors = majors.with_column('Division', majors.apply(map_div, ['Division', 'Department']))\n",
    "division_rmajors = rmajors.select(['Year', 'Division','Majors', 'Students']).groups(['Year', 'Division'], collect=sum_collect)\n",
    "rdiv_majors_by_year = sort_cols(division_rmajors.pivot('Division', 'Year', 'Majors sum_collect', collect=sum ))\n",
    "rdiv_students_by_year = sort_cols(division_rmajors.pivot('Division', 'Year', 'Students sum_collect', collect=sum ))\n",
    "rdiv_majors_by_year.where('Year', 2016).barh('Year')"
   ]
  },
  {
   "cell_type": "code",
   "execution_count": null,
   "metadata": {
    "collapsed": false
   },
   "outputs": [],
   "source": [
    "rdiv_majors_by_year.plot('Year')\n",
    "plots.ylim(0,6000)"
   ]
  },
  {
   "cell_type": "code",
   "execution_count": null,
   "metadata": {
    "collapsed": false
   },
   "outputs": [],
   "source": [
    "normalize_table(rdiv_majors_by_year).plot('Year')"
   ]
  },
  {
   "cell_type": "markdown",
   "metadata": {},
   "source": [
    "Forecasting this out 5 years, engineering has as many undergrads as social sciences and MPS is much larger than humanities or biological sciences"
   ]
  },
  {
   "cell_type": "code",
   "execution_count": null,
   "metadata": {
    "collapsed": false
   },
   "outputs": [],
   "source": [
    "forecast_table(rdiv_majors_by_year, 5, 5).plot('Year')"
   ]
  },
  {
   "cell_type": "code",
   "execution_count": null,
   "metadata": {
    "collapsed": false
   },
   "outputs": [],
   "source": [
    "# Majors by division w/o redistribution of administered programs\n",
    "sort_cols(div_majors_by_year.where('Year', 2016))"
   ]
  },
  {
   "cell_type": "code",
   "execution_count": null,
   "metadata": {
    "collapsed": false
   },
   "outputs": [],
   "source": [
    "# Majors bny division\n",
    "sort_cols(rdiv_majors_by_year.where('Year', 2016))"
   ]
  },
  {
   "cell_type": "code",
   "execution_count": null,
   "metadata": {
    "collapsed": false
   },
   "outputs": [],
   "source": [
    "# Normalized by FTE\n",
    "sort_cols(norm_col_by_tbl(rdiv_majors_by_year.where('Year', 2016), fte_by_div, 'Division', 'FTE'))"
   ]
  },
  {
   "cell_type": "code",
   "execution_count": null,
   "metadata": {
    "collapsed": false
   },
   "outputs": [],
   "source": [
    "scale_cols(sort_cols(norm_col_by_tbl(rdiv_majors_by_year.where('Year', 2016), fte_by_div, 'Division', 'FTE')),1/majors2016_per_fte, 3, True)"
   ]
  },
  {
   "cell_type": "markdown",
   "metadata": {},
   "source": [
    "<a id=\"subsection_credits\"></a>\n",
    "\n",
    "### Enrollment"
   ]
  },
  {
   "cell_type": "code",
   "execution_count": null,
   "metadata": {
    "collapsed": false
   },
   "outputs": [],
   "source": [
    "div_credits = courses.join('Subject', subject_map).select(['Division', 'Year', 'Credits']).groups(['Division', 'Year'], collect=sum)\n",
    "div_credits_by_year = sort_cols(div_credits.pivot('Division', 'Year', 'Credits sum', collect=sum))\n",
    "div_credits_by_year.plot('Year')"
   ]
  },
  {
   "cell_type": "code",
   "execution_count": null,
   "metadata": {
    "collapsed": false
   },
   "outputs": [],
   "source": [
    "normalize_table(div_credits_by_year).plot('Year')"
   ]
  },
  {
   "cell_type": "markdown",
   "metadata": {},
   "source": [
    "Forecasting credits out five years, both engineering and MPS are delivering more SCH than Humanities"
   ]
  },
  {
   "cell_type": "code",
   "execution_count": null,
   "metadata": {
    "collapsed": false
   },
   "outputs": [],
   "source": [
    "forecast_table(div_credits_by_year, 5, 5).plot('Year')"
   ]
  },
  {
   "cell_type": "code",
   "execution_count": null,
   "metadata": {
    "collapsed": false
   },
   "outputs": [],
   "source": [
    "sort_cols(div_credits_by_year.where('Year', 2016))"
   ]
  },
  {
   "cell_type": "code",
   "execution_count": null,
   "metadata": {
    "collapsed": false
   },
   "outputs": [],
   "source": [
    "sort_cols(norm_col_by_tbl(div_credits_by_year.where('Year', 2016), fte_by_div, 'Division', 'FTE'))"
   ]
  },
  {
   "cell_type": "code",
   "execution_count": null,
   "metadata": {
    "collapsed": false
   },
   "outputs": [],
   "source": [
    "credits2016_per_fte"
   ]
  },
  {
   "cell_type": "code",
   "execution_count": null,
   "metadata": {
    "collapsed": false,
    "scrolled": true
   },
   "outputs": [],
   "source": [
    "# Credits per FTE relative to campus average\n",
    "scale_cols(sort_cols(norm_col_by_tbl(div_credits_by_year.where('Year', 2016), \n",
    "                                     fte_by_div, 'Division', 'FTE')), 1/credits2016_per_fte, 3, True)\n"
   ]
  },
  {
   "cell_type": "markdown",
   "metadata": {},
   "source": [
    "<a id=\"section_engineering\"></a>\n",
    "\n",
    "## Engineering\n",
    "\n",
    "Engineering's undergraduate role in the university as a whole is now determined primarily by computer science.  While it remains the largest producer of PhDs and among the three large masters programs, its average standing in undergraduate prodctivity and workload is because computer science compensates for far below average rates of all the other programs.\n",
    "\n",
    "The scale of this effect is obscure by two effects - L&S CS being attributed to the College of Letters and Science and Computer Science being a division with Electrical Engineering and Computer Sciences. \n",
    "\n",
    "With L&S administered programs properly attributed to engineering departments (EECS and IEOR) we find that:\n",
    "* since 2014 EECS grants more bachelors degrees than all the rest of engineering\n",
    "* since 2014 EECS has more majors than all the rest of engineering\n",
    "* since 2013 EECS has delivered more SCH than all the rest of engineering, and in 2016 it is nearly twice that of the rest.\n",
    "\n",
    "Forecasting out five years by each of these metrics, EECS is 2/3rds of the COE.\n",
    "\n",
    "With separation of EECS into its two divisions, EE and CS we find:\n",
    "* in 2015 CS grants more bachelors degrees than all the rest of engineering\n",
    "* in 2016 CS has more majors than all the rest of engineering\n",
    "* in 2016 CS has delivered more SCH than all the rest of engineering"
   ]
  },
  {
   "cell_type": "code",
   "execution_count": null,
   "metadata": {
    "collapsed": true
   },
   "outputs": [],
   "source": [
    "def div_grad_table_by_year(div, reflow_admin_pgms=False, degrees_tbl = degrees):\n",
    "    if reflow_admin_pgms:\n",
    "        degrees_tbl = degrees_tbl.with_column('Division',\n",
    "                                              degrees_tbl.apply(map_div, ['Division', 'Department']))\n",
    "    rows = degrees_tbl[\"Division\"] == div\n",
    "    degrees_sum = degrees.where(rows).select(['Year', 'DegLvlDesc', 'Grads', 'Prorated']).groups(['Year', 'DegLvlDesc'], collect=sum)\n",
    "    grads_by_year = degrees_sum.pivot('DegLvlDesc', 'Year', 'Grads sum', collect=sum)\n",
    "    return grads_by_year"
   ]
  },
  {
   "cell_type": "code",
   "execution_count": null,
   "metadata": {
    "collapsed": true
   },
   "outputs": [],
   "source": [
    "def combine_LS(dept):\n",
    "    if dept == \"L&S Computer Science\":\n",
    "        return \"Electrical Eng & Computer Sci\"\n",
    "    elif dept == \"L&S Ops Research & Mgmt Sci\":\n",
    "        return \"Industrial Eng & Ops Research\"\n",
    "    else:\n",
    "        return dept\n",
    "    \n",
    "def div_grads(division, degree_level, reflow_admin_pgms=False, fix_depts = False, degrees_tbl=degrees):\n",
    "    degrees_tbl = degrees_tbl.copy()\n",
    "    if reflow_admin_pgms:\n",
    "        degrees_tbl = degrees_tbl.with_column('Division',\n",
    "                                              degrees_tbl.apply(map_div, ['Division', 'Department']))\n",
    "    if fix_depts:\n",
    "        degrees_tbl['Department'] = degrees_tbl.apply(combine_LS, 'Department')\n",
    "    div_degrees = degrees_tbl.where('Division', division)\n",
    "    div_grad = div_degrees.select(['Year', 'DegLvl', 'Department', 'Grads', 'Prorated']).where('DegLvl', degree_level).drop('DegLvl')\n",
    "    div_grads_by_year = sort_cols(div_grad.pivot('Department', 'Year', 'Grads', collect=sum))\n",
    "    return div_grads_by_year\n",
    "\n",
    "def div_majors(division, reflow_admin_pgms=False, fix_depts=False, majors_tbl=rmajors):\n",
    "    div_majors = majors_tbl.where('Division', division)\n",
    "    if reflow_admin_pgms:\n",
    "        div_majors = div_majors.with_column('Department', div_majors.apply(combine_LS, 'Department'))\n",
    "    if fix_depts:\n",
    "        div_majors['Department'] = div_majors.apply(combine_LS, 'Department')\n",
    "    div_majors_by_year = sort_cols(div_majors.pivot('Department', 'Year', 'Majors', collect=sum))\n",
    "    return div_majors_by_year\n",
    "\n",
    "def div_credits(division, courses_tbl=courses_by_dept):\n",
    "    div_courses = courses_tbl.where('Division', division)\n",
    "    div_courses_by_year = sort_cols(div_courses.drop(['Subject', 'Division']).pivot('Department', 'Year', 'Credits', collect=sum))\n",
    "    return div_courses_by_year\n",
    "\n"
   ]
  },
  {
   "cell_type": "code",
   "execution_count": null,
   "metadata": {
    "collapsed": false
   },
   "outputs": [],
   "source": [
    "# College degree production w/o attribution of L&S Administered programs\n",
    "sort_cols(div_grad_table_by_year('Clg of Engineering', False)).plot('Year')"
   ]
  },
  {
   "cell_type": "code",
   "execution_count": null,
   "metadata": {
    "collapsed": false,
    "scrolled": true
   },
   "outputs": [],
   "source": [
    "# College of Engineering undergrad degrees by department, w/o administered programs\n",
    "eng_BAs_by_year = div_grads('Clg of Engineering', 1, False)\n",
    "eng_BAs_by_year.plot('Year')"
   ]
  },
  {
   "cell_type": "markdown",
   "metadata": {},
   "source": [
    "### Perspective on CoE when adminstered programs are attributed"
   ]
  },
  {
   "cell_type": "code",
   "execution_count": null,
   "metadata": {
    "collapsed": false
   },
   "outputs": [],
   "source": [
    "# Dispositions of degrees\n",
    "div_grad_table_by_year('Clg of Engineering', True).plot('Year')"
   ]
  },
  {
   "cell_type": "code",
   "execution_count": null,
   "metadata": {
    "collapsed": false
   },
   "outputs": [],
   "source": [
    "div_grads('Clg of Engineering', 1, True, False).plot('Year')"
   ]
  },
  {
   "cell_type": "code",
   "execution_count": null,
   "metadata": {
    "collapsed": false
   },
   "outputs": [],
   "source": [
    "eng_rBAs_by_year = div_grads('Clg of Engineering', 1, True, True)\n",
    "eng_rBAs_by_year.with_column(\"Eng-EECS\", sum_rows(eng_rBAs_by_year,2)).plot('Year')"
   ]
  },
  {
   "cell_type": "code",
   "execution_count": null,
   "metadata": {
    "collapsed": false,
    "scrolled": true
   },
   "outputs": [],
   "source": [
    "eng_rBAs_by_year.where('Year', 2015)"
   ]
  },
  {
   "cell_type": "code",
   "execution_count": null,
   "metadata": {
    "collapsed": false
   },
   "outputs": [],
   "source": [
    "sort_cols(norm_col_by_tbl(eng_rBAs_by_year.where('Year', 2015), fte_by_dept, 'Department', 'FTE'))"
   ]
  },
  {
   "cell_type": "code",
   "execution_count": null,
   "metadata": {
    "collapsed": false
   },
   "outputs": [],
   "source": [
    "BAs2015_per_fte"
   ]
  },
  {
   "cell_type": "code",
   "execution_count": null,
   "metadata": {
    "collapsed": false
   },
   "outputs": [],
   "source": [
    "scale_cols(sort_cols(norm_col_by_tbl(eng_rBAs_by_year.where('Year', 2015), fte_by_dept, 'Department', 'FTE')),1/BAs2015_per_fte,2, True)"
   ]
  },
  {
   "cell_type": "code",
   "execution_count": null,
   "metadata": {
    "collapsed": false
   },
   "outputs": [],
   "source": [
    "eng_rBAs_by_year.select(['Year', 'Electrical Eng & Computer Sci']).with_column('Eng-EECS', sum_rows(eng_rBAs_by_year,2)).plot('Year')"
   ]
  },
  {
   "cell_type": "code",
   "execution_count": null,
   "metadata": {
    "collapsed": false
   },
   "outputs": [],
   "source": [
    "normalize_table(eng_rBAs_by_year).plot('Year')"
   ]
  },
  {
   "cell_type": "code",
   "execution_count": null,
   "metadata": {
    "collapsed": false
   },
   "outputs": [],
   "source": [
    "forecast_table(eng_rBAs_by_year, 5, 5).plot('Year')"
   ]
  },
  {
   "cell_type": "code",
   "execution_count": null,
   "metadata": {
    "collapsed": false
   },
   "outputs": [],
   "source": [
    "# Masters\n",
    "eng_MSs_by_year = div_grads('Clg of Engineering', 2)\n",
    "eng_MSs_by_year.plot('Year')"
   ]
  },
  {
   "cell_type": "code",
   "execution_count": null,
   "metadata": {
    "collapsed": false
   },
   "outputs": [],
   "source": [
    "# PhDs\n",
    "eng_PhDs_by_year = div_grads('Clg of Engineering', 3)\n",
    "eng_PhDs_by_year.plot('Year')"
   ]
  },
  {
   "cell_type": "code",
   "execution_count": null,
   "metadata": {
    "collapsed": false
   },
   "outputs": [],
   "source": [
    "# Undergraduate Engineering Majors by program\n",
    "div_majors('Clg of Engineering').plot('Year')"
   ]
  },
  {
   "cell_type": "code",
   "execution_count": null,
   "metadata": {
    "collapsed": false
   },
   "outputs": [],
   "source": [
    "# Undergrad majors by department, including L&S adminstered programs\n",
    "eng_rmajors_by_year = div_majors('Clg of Engineering', True, True)\n",
    "eng_rmajors_by_year.plot('Year')"
   ]
  },
  {
   "cell_type": "code",
   "execution_count": null,
   "metadata": {
    "collapsed": false
   },
   "outputs": [],
   "source": [
    "normalize_table(eng_rmajors_by_year).plot('Year')"
   ]
  },
  {
   "cell_type": "markdown",
   "metadata": {},
   "source": [
    "Forcasting this out, we might expect 3,000 EECS majors by 2020."
   ]
  },
  {
   "cell_type": "code",
   "execution_count": null,
   "metadata": {
    "collapsed": false
   },
   "outputs": [],
   "source": [
    "forecast_table(eng_rmajors_by_year, 5, 5).plot('Year')"
   ]
  },
  {
   "cell_type": "code",
   "execution_count": null,
   "metadata": {
    "collapsed": false
   },
   "outputs": [],
   "source": [
    "normalize_table(forecast_table(eng_rmajors_by_year, 5, 5)).plot('Year')"
   ]
  },
  {
   "cell_type": "markdown",
   "metadata": {},
   "source": [
    "Current per FTE comparison"
   ]
  },
  {
   "cell_type": "code",
   "execution_count": null,
   "metadata": {
    "collapsed": false
   },
   "outputs": [],
   "source": [
    "scale_cols(sort_cols(norm_col_by_tbl(eng_rmajors_by_year.where('Year', 2016), fte_by_dept, 'Department', 'FTE')),1/majors2016_per_fte,2, True)"
   ]
  },
  {
   "cell_type": "code",
   "execution_count": null,
   "metadata": {
    "collapsed": false
   },
   "outputs": [],
   "source": [
    "eng_rmajors_by_year"
   ]
  },
  {
   "cell_type": "code",
   "execution_count": null,
   "metadata": {
    "collapsed": false
   },
   "outputs": [],
   "source": [
    "eng_rmajors_by_year.select(['Year', 'Electrical Eng & Computer Sci']).with_column('Eng-EECS', sum_rows(eng_rmajors_by_year,2)).plot('Year')"
   ]
  },
  {
   "cell_type": "code",
   "execution_count": null,
   "metadata": {
    "collapsed": false
   },
   "outputs": [],
   "source": [
    "# Student credits\n",
    "eng_courses_by_year = div_credits('Clg of Engineering')\n",
    "eng_courses_by_year.plot('Year')"
   ]
  },
  {
   "cell_type": "code",
   "execution_count": null,
   "metadata": {
    "collapsed": false
   },
   "outputs": [],
   "source": [
    "eng_courses_by_year.select(['Year', 'Electrical Eng & Computer Sci']).with_column('Eng-EECS', sum_rows(eng_courses_by_year,2)).plot('Year')"
   ]
  },
  {
   "cell_type": "code",
   "execution_count": null,
   "metadata": {
    "collapsed": false
   },
   "outputs": [],
   "source": [
    "normalize_table(eng_courses_by_year).plot('Year')\n",
    "forecast_table(eng_courses_by_year, 5, 5).plot('Year')"
   ]
  },
  {
   "cell_type": "code",
   "execution_count": null,
   "metadata": {
    "collapsed": false
   },
   "outputs": [],
   "source": [
    "credits2016_per_fte"
   ]
  },
  {
   "cell_type": "code",
   "execution_count": null,
   "metadata": {
    "collapsed": false
   },
   "outputs": [],
   "source": [
    "# Student credit hours per FTE relative to campus average\n",
    "scale_cols(sort_cols(norm_col_by_tbl(eng_courses_by_year.where('Year', 2016), fte_by_dept, 'Department', 'FTE')),1/credits2016_per_fte,2, True)"
   ]
  },
  {
   "cell_type": "markdown",
   "metadata": {},
   "source": [
    "<a id=\"section_eecs\"></a>\n",
    "\n",
    "## Separating divisions within EECS in college picture"
   ]
  },
  {
   "cell_type": "markdown",
   "metadata": {},
   "source": [
    "In order to estimate of production rate of EE and CS within EECS, we need to utilize other data sources, either the graduation exit survey or the concentration data within the major.  From 2012 on we have a relatively simple articulation of ECE, CSE and EECS.  Prior to that we have the five options electronics, communications, computer systems, computer science and general.  The with changing demographics, the concentration data leads production changes, because it incorporates new cohorts, but it also dampens the swing because it averages over all cohorts.\n",
    "\n",
    "As an example, the Spring 2013 exit survey shows:\n",
    "* EE\t17.5%\n",
    "* CS\t63.4%\n",
    "* EECS\t19.9%\n",
    "* unknown\t2.3%\n",
    "\n",
    "The 12-13 concentration data shows:\n",
    "* EE 28.7%\n",
    "* CS 61.6%\n",
    "* EECS 4.4%\n",
    "* Other 5.3%\n",
    "\n",
    "These data are useful in allowing comparison to trends at other leading institutions. Here we build a rough model, distributing the EECS pool across EE and CS on a pro rata basis in order to have a common basis for national comparisons and to gain some insight into divisional characteristics.\n"
   ]
  },
  {
   "cell_type": "code",
   "execution_count": null,
   "metadata": {
    "collapsed": true
   },
   "outputs": [],
   "source": [
    "EECS_concentrations = Table(['Year', 'CSE', 'ECE', 'EECS', 'other']).with_rows(\n",
    "    [('2012', 699, 418, 183, 75),\n",
    "    ('2013', 892, 415, 64, 77),\n",
    "    ('2014', 950, 259, 121, 54),\n",
    "    ('2015', 922, 218, 174, 54),\n",
    "    ('2016', 820, 191, 293, 37)\n",
    "    ]\n",
    ")"
   ]
  },
  {
   "cell_type": "code",
   "execution_count": null,
   "metadata": {
    "collapsed": false
   },
   "outputs": [],
   "source": [
    "EECS_concentrations.plot('Year')"
   ]
  },
  {
   "cell_type": "code",
   "execution_count": null,
   "metadata": {
    "collapsed": false
   },
   "outputs": [],
   "source": [
    "from scipy.interpolate import UnivariateSpline\n",
    "spl = UnivariateSpline([1984, 1990, 2002, 2006, 2007, 2012, 2013, 2014, 2015],\n",
    "                       [0.45, 0.5, 0.65, 0.5, 0.5, 0.63, 0.68, 0.79, 0.81])"
   ]
  },
  {
   "cell_type": "code",
   "execution_count": null,
   "metadata": {
    "collapsed": false
   },
   "outputs": [],
   "source": [
    "# Undergraduate engineering degrees by program\n",
    "adj_eng_degrees = revised_degrees.where('Division', 'Clg of Engineering').where('DegLvl', 1)\n",
    "adj_eng_degrees_by_year = adj_eng_degrees.pivot('Department', 'Year', 'Grads', collect=sum)\n",
    "cs_d_fraction = spl(adj_eng_degrees_by_year['Year'])\n",
    "adj_eng_degrees_by_year['Computer Science'] = cs_d_fraction*adj_eng_degrees_by_year['Electrical Eng & Computer Sci'] + adj_eng_degrees_by_year['L&S Computer Science']\n",
    "adj_eng_degrees_by_year['Electrical Eng'] = (1-cs_d_fraction)*adj_eng_degrees_by_year['Electrical Eng & Computer Sci']\n",
    "adj_eng_degrees_by_year['Industrial Eng & Ops Research'] = adj_eng_degrees_by_year['Industrial Eng & Ops Research']+adj_eng_degrees_by_year['L&S Ops Research & Mgmt Sci']\n",
    "adj_eng_degrees_by_year = sort_cols(adj_eng_degrees_by_year.drop(['Electrical Eng & Computer Sci', 'L&S Computer Science', 'L&S Ops Research & Mgmt Sci']))\n",
    "adj_eng_degrees_by_year.with_column('Eng-CS', sum_rows(adj_eng_degrees_by_year, 2)).plot('Year')"
   ]
  },
  {
   "cell_type": "code",
   "execution_count": null,
   "metadata": {
    "collapsed": false
   },
   "outputs": [],
   "source": [
    "normalize_table(adj_eng_degrees_by_year).plot('Year')"
   ]
  },
  {
   "cell_type": "markdown",
   "metadata": {},
   "source": [
    "Forecasting this out linearly is toouch because the last several years are curved so heavily upward.  Taking a linear extrapolation over a shorter past window, we can anticipate a thousand graduates per year by 2020."
   ]
  },
  {
   "cell_type": "code",
   "execution_count": null,
   "metadata": {
    "collapsed": false
   },
   "outputs": [],
   "source": [
    "forecast_table(adj_eng_degrees_by_year, 3, 5).plot('Year')"
   ]
  },
  {
   "cell_type": "code",
   "execution_count": null,
   "metadata": {
    "collapsed": false,
    "scrolled": false
   },
   "outputs": [],
   "source": [
    "# Undergraduate Majors by program\n",
    "adj_eng_majors = rmajors.where('Division', 'Clg of Engineering')\n",
    "adj_eng_majors_by_year = adj_eng_majors.pivot('Department', 'Year', 'Majors', collect=sum)\n",
    "cs_fraction = spl(adj_eng_majors_by_year['Year'])\n",
    "adj_eng_majors_by_year['Computer Science'] = adj_eng_majors_by_year['Electrical Eng & Computer Sci']*cs_fraction + adj_eng_majors_by_year['L&S Computer Science']\n",
    "adj_eng_majors_by_year['Electrical Eng'] = adj_eng_majors_by_year['Electrical Eng & Computer Sci']*(1-cs_fraction)\n",
    "adj_eng_majors_by_year['Industrial End & Ops Research'] = adj_eng_majors_by_year['Industrial Eng & Ops Research']+adj_eng_majors_by_year['L&S Ops Research & Mgmt Sci']\n",
    "adj_eng_majors_by_year = sort_cols(adj_eng_majors_by_year.drop(['Electrical Eng & Computer Sci', 'L&S Computer Science', 'L&S Ops Research & Mgmt Sci']))\n",
    "# Add comparison to engineering sans CS\n",
    "adj_eng_majors_by_year.with_column('Eng-CS', sum_rows(adj_eng_majors_by_year, 2)).plot('Year')"
   ]
  },
  {
   "cell_type": "code",
   "execution_count": null,
   "metadata": {
    "collapsed": false
   },
   "outputs": [],
   "source": [
    "forecast_table(adj_eng_majors_by_year, 3, 5).plot('Year')"
   ]
  },
  {
   "cell_type": "code",
   "execution_count": null,
   "metadata": {
    "collapsed": false
   },
   "outputs": [],
   "source": [
    "eng_credits = courses.join('Subject', subject_map).where('Division', 'Clg of Engineering')\n",
    "def split_sub(sub, dept):\n",
    "    if sub == 'Computer Science':\n",
    "        return 'Computer Science'\n",
    "    if sub == 'Electrical Engineering':\n",
    "        return 'Electrical Eng'\n",
    "    if sub == 'Electrical Eng & Comp Sci':\n",
    "        return 'Electrical Eng'\n",
    "    return dept\n",
    "eng_credits['Department'] = eng_credits.apply(split_sub, ['Subject', 'Department'])\n",
    "eng_credits = eng_credits.drop(['Dept', 'Division', 'Subject']) # .groups(['Year', 'Department'], collect=sum)\n",
    "eng_credits_by_year = sort_cols(eng_credits.pivot('Department', 'Year', 'Credits', collect=sum))\n",
    "eng_credits_by_year.with_column('Eng-CS', sum_rows(eng_credits_by_year, 2)).plot('Year')\n"
   ]
  },
  {
   "cell_type": "markdown",
   "metadata": {},
   "source": [
    "Forecasting this out only five years, the situation relative to the rest of engineering is wild."
   ]
  },
  {
   "cell_type": "code",
   "execution_count": null,
   "metadata": {
    "collapsed": false
   },
   "outputs": [],
   "source": [
    "forecast_table(eng_credits_by_year, 5, 5).plot('Year')"
   ]
  },
  {
   "cell_type": "code",
   "execution_count": null,
   "metadata": {
    "collapsed": false
   },
   "outputs": [],
   "source": [
    "EECS_fte = fte_by_dept.where('Department', 'Electrical Eng & Computer Sci')['FTE'][0]\n",
    "EE_fte = 43.5\n",
    "CS_fte = EECS_fte-EE_fte\n",
    "adj_fte_by_dept = fte_by_dept.where(fte_by_dept['Department'] != 'Electrical Eng & Computer Sci' ).with_rows([\n",
    "        ('Electrical Eng', EE_fte, 'Clg of Engineering'),\n",
    "        ('Computer Science', CS_fte, 'Clg of Engineering')\n",
    "    ])\n",
    "adj_fte_by_dept"
   ]
  },
  {
   "cell_type": "code",
   "execution_count": null,
   "metadata": {
    "collapsed": false
   },
   "outputs": [],
   "source": [
    "adj_eng_degrees_by_year.where('Year', 2015)"
   ]
  },
  {
   "cell_type": "code",
   "execution_count": null,
   "metadata": {
    "collapsed": false
   },
   "outputs": [],
   "source": [
    "scale_cols(sort_cols(norm_col_by_tbl(adj_eng_degrees_by_year.where('Year', 2015), adj_fte_by_dept, 'Department', 'FTE')),1/BAs2015_per_fte, 2, True)"
   ]
  },
  {
   "cell_type": "code",
   "execution_count": null,
   "metadata": {
    "collapsed": false
   },
   "outputs": [],
   "source": [
    "adj_eng_majors_by_year.where('Year', 2016)"
   ]
  },
  {
   "cell_type": "code",
   "execution_count": null,
   "metadata": {
    "collapsed": false
   },
   "outputs": [],
   "source": [
    "scale_cols(sort_cols(norm_col_by_tbl(adj_eng_majors_by_year.where('Year', 2016), adj_fte_by_dept, 'Department', 'FTE')),1/majors2016_per_fte, 2, True)"
   ]
  },
  {
   "cell_type": "code",
   "execution_count": null,
   "metadata": {
    "collapsed": false
   },
   "outputs": [],
   "source": [
    "eng_credits_by_year.where('Year', 2016)"
   ]
  },
  {
   "cell_type": "code",
   "execution_count": null,
   "metadata": {
    "collapsed": false
   },
   "outputs": [],
   "source": [
    "scale_cols(sort_cols(norm_col_by_tbl(eng_credits_by_year.where('Year', 2016), adj_fte_by_dept, 'Department', 'FTE')),1/credits2016_per_fte, 2, True)"
   ]
  },
  {
   "cell_type": "markdown",
   "metadata": {},
   "source": [
    "<a id=\"section_eecsdegrees\"></a>\n",
    "\n",
    "## Degrees from EECS\n",
    "\n",
    "Degrees granted provides a clear sense of the flow of students, while counts of majors and credits reflect workload.\n",
    "\n",
    "* The rate of degree production from EECS is constant for PhDs at about 70 PhDs/year.\n",
    "* The masters rate has returned to its historical high of about a hundred, with the introduction of the MEng and expansion of the 5th year MS\n",
    "* The EECS major has grown, but is constrained by COE admissions.  Presumably, both in the 2000's phase and in the recent one, admission was expanded to maintain some degree of quality balance with the rest of the college.\n",
    "* The L&S program, which as declarations in place to try to match the EECS admissions threshold, has expanded in an unprecedented fashion.  \n",
    "* In combination, the prior peak graduation rate was 470 in 2004. It dropped 34% to 312 in 2008. Climbed 2.26x to 704 in 2015-16. "
   ]
  },
  {
   "cell_type": "code",
   "execution_count": null,
   "metadata": {
    "collapsed": true
   },
   "outputs": [],
   "source": [
    "def grad_table_by_year(depts):\n",
    "    if type(depts) is str:\n",
    "        rows = degrees[\"Department\"] == depts\n",
    "    else:\n",
    "        rows = degrees[\"Department\"] == depts[0]\n",
    "        for dept in depts[1:]:\n",
    "            rows = np.logical_or(rows, degrees[\"Department\"] == dept)\n",
    "    degrees_sum = degrees.where(rows).select(['Year', 'DegLvlDesc', 'Grads', 'Prorated']).groups(['Year', 'DegLvlDesc'], collect=sum)\n",
    "    Grads_by_year = degrees_sum.pivot('DegLvlDesc', 'Year', 'Grads sum', collect=sum)\n",
    "    return Grads_by_year"
   ]
  },
  {
   "cell_type": "code",
   "execution_count": null,
   "metadata": {
    "collapsed": false
   },
   "outputs": [],
   "source": [
    "EECS_grads_by_year = grad_table_by_year(['Electrical Eng & Computer Sci'])\n",
    "LSCS_grads_by_year = grad_table_by_year(['L&S Computer Science'])\n",
    "EECS_grads_by_year['LS CS BA'] = LSCS_grads_by_year['Bachelor']\n",
    "EECS_grads_by_year.relabel('Bachelor', 'EECS BS')\n",
    "EECS_grads_by_year['Bachelor'] = EECS_grads_by_year['EECS BS'] + EECS_grads_by_year['LS CS BA']\n",
    "#EECS_grads_by_year.show() #uncomment to see data"
   ]
  },
  {
   "cell_type": "code",
   "execution_count": null,
   "metadata": {
    "collapsed": false
   },
   "outputs": [],
   "source": [
    "sort_cols(EECS_grads_by_year).plot('Year')"
   ]
  },
  {
   "cell_type": "code",
   "execution_count": null,
   "metadata": {
    "collapsed": false
   },
   "outputs": [],
   "source": [
    "EECS_grads_by_year.where('Doctoral').stats(ops=[min,np.mean,np.std,max])"
   ]
  },
  {
   "cell_type": "code",
   "execution_count": null,
   "metadata": {
    "collapsed": false
   },
   "outputs": [],
   "source": [
    "max(EECS_grads_by_year['Bachelor'])/min(EECS_grads_by_year['Bachelor'][-10:])"
   ]
  },
  {
   "cell_type": "markdown",
   "metadata": {
    "collapsed": false
   },
   "source": [
    "<a id=\"section_dept\"></a>\n",
    "\n",
    "# Departmental level trends\n"
   ]
  },
  {
   "cell_type": "code",
   "execution_count": null,
   "metadata": {
    "collapsed": true
   },
   "outputs": [],
   "source": [
    "def grads_by_year(degree_level=1, fix_depts = True, degrees_tbl=degrees):\n",
    "    degrees_tbl = degrees_tbl.copy()\n",
    "    if fix_depts:\n",
    "        degrees_tbl['Department'] = degrees_tbl.apply(combine_LS, 'Department')\n",
    "    dept_grads = degrees_tbl.where('DegLvl', degree_level).select(['Year', 'Department', 'Grads'])\n",
    "    dept_grads_by_year = sort_cols(dept_grads.pivot('Department', 'Year', 'Grads', collect=sum))\n",
    "    return dept_grads_by_year\n",
    "\n",
    "def majors_by_year(fix_depts=True, majors_tbl=rmajors):\n",
    "    if fix_depts:\n",
    "        majors_tbl = majors_tbl.with_column('Department', majors_tbl.apply(combine_LS, 'Department'))\n",
    "    dept_majors_by_year = sort_cols(majors_tbl.pivot('Department', 'Year', 'Majors', collect=sum))\n",
    "    return dept_majors_by_year\n",
    "\n",
    "def credits_by_year(courses_tbl=courses_by_dept):\n",
    "    dept_courses_by_year = sort_cols(courses_tbl.drop(['Subject', 'Division']).pivot('Department', 'Year', 'Credits', collect=sum))\n",
    "    return dept_courses_by_year"
   ]
  },
  {
   "cell_type": "markdown",
   "metadata": {},
   "source": [
    "Amongst very large majors, the recent tripling of computer science is completely unlike all other developments.  Combining it with the near doubling of EECS the landscape has substantially shifted. Economics has also experienced substantial growth, suggesting that there must be substantial decreases in the many smaller programs in ths social sciences."
   ]
  },
  {
   "cell_type": "code",
   "execution_count": null,
   "metadata": {
    "collapsed": false
   },
   "outputs": [],
   "source": [
    "BAs_by_year = grads_by_year()\n",
    "BAs_by_year.where('Year', 2015)"
   ]
  },
  {
   "cell_type": "code",
   "execution_count": null,
   "metadata": {
    "collapsed": false
   },
   "outputs": [],
   "source": [
    "# Graduation rates among the 10 largest programs\n",
    "top(BAs_by_year, 10).plot('Year')"
   ]
  },
  {
   "cell_type": "markdown",
   "metadata": {},
   "source": [
    "Looking deeper down, we see the growth in statistics along side computer science, along with a more regular growth in math, but also the large fall off in english and sociology. "
   ]
  },
  {
   "cell_type": "code",
   "execution_count": null,
   "metadata": {
    "collapsed": false
   },
   "outputs": [],
   "source": [
    "# Looking a little further down presents a rather different picture\n",
    "top(BAs_by_year, 15).plot('Year')"
   ]
  },
  {
   "cell_type": "code",
   "execution_count": null,
   "metadata": {
    "collapsed": true
   },
   "outputs": [],
   "source": [
    "def convert_by_year_to_change(by_year_tbl, col_type, nyears, add_tbl=None):\n",
    "    \"\"\"Convert a table of things_by_year to one of discrete change nyears before end for each thing\"\"\"\n",
    "    last = str(by_year_tbl['Year'][-1])\n",
    "    prior = str(by_year_tbl['Year'][-nyears-1])\n",
    "    labels = by_year_tbl.labels[1:]\n",
    "    by_things_data = [(label, by_year_tbl[label][-nyears-1], by_year_tbl[label][-1]) \n",
    "                      for label in labels if by_year_tbl[label][-nyears-1] ]\n",
    "\n",
    "    changes = Table([col_type, prior, last]).with_rows(by_things_data)\n",
    "    norm_factor = sum(changes[last])/sum(changes[prior])\n",
    "# Add entries that are not used in normalization\n",
    "    if add_tbl:\n",
    "        for label in add_tbl.labels[1:]:\n",
    "            changes = changes.with_row([label, add_tbl[label][-nyears-1],add_tbl[label][-1]])\n",
    "    changes['Growth'] = changes[last]-changes[prior]\n",
    "    changes['Rel Growth'] = changes[last]/changes[prior]\n",
    "    changes['Normed ' + prior] = changes[prior]*norm_factor\n",
    "    changes['Normed Rel Growth'] = changes[last]/changes['Normed ' + prior]\n",
    "    return changes.sort('Growth', descending=True)"
   ]
  },
  {
   "cell_type": "code",
   "execution_count": null,
   "metadata": {
    "collapsed": false
   },
   "outputs": [],
   "source": [
    "pseudo_dept_BAs_by_year = adj_eng_degrees_by_year.select(['Year', 'Computer Science', 'Electrical Eng'])\n",
    "\n",
    "BAs_changes = convert_by_year_to_change(BAs_by_year, \"BAs\", 5, pseudo_dept_BAs_by_year)\n",
    "BAs_changes"
   ]
  },
  {
   "cell_type": "code",
   "execution_count": null,
   "metadata": {
    "collapsed": false
   },
   "outputs": [],
   "source": [
    "def get_coords(tbl, key_label, key_value, x_label, y_label):\n",
    "    slice = tbl.where(key_label, key_value)\n",
    "    return slice[x_label][0], slice[y_label][0]"
   ]
  },
  {
   "cell_type": "code",
   "execution_count": null,
   "metadata": {
    "collapsed": true
   },
   "outputs": [],
   "source": [
    "dept_labels = [\n",
    "    (\"CS\", 'Computer Science'),\n",
    "    (\"Stat\", 'Statistics'),\n",
    "    (\"EECS\", 'Electrical Eng & Computer Sci'),\n",
    "    (\"Math\", 'Mathematics'),\n",
    "    (\"Econ\", 'Economics'),\n",
    "    (\"CEE\", 'Civil & Environmental Eng'),\n",
    "    (\"Hist\", 'History'),\n",
    "    (\"Eng\", 'English'),\n",
    "    (\"PoliSci\", 'Political Science'),\n",
    "    (\"MCB\", 'Molecular & Cell Biology'),\n",
    "    (\"IB\", 'Integrative Biology'),\n",
    "    (\"EALC\", 'East Asian Lang & Culture'),\n",
    "    (\"UGIS\", 'UGIS-UG Interdisc Studies'),\n",
    "    (\"EE\", 'Electrical Eng'),\n",
    "    (\"IAS Tch\", 'IAS Teaching Program'),\n",
    "    (\"Psych\", 'Psychology')\n",
    "    ]"
   ]
  },
  {
   "cell_type": "code",
   "execution_count": null,
   "metadata": {
    "collapsed": false
   },
   "outputs": [],
   "source": [
    "BAs_changes.select([\"2015\", \"2010\"]).scatter(\"2010\")\n",
    "plots.xlim(0,800)\n",
    "plots.ylim(0,800)\n",
    "plots.plot([0,800],[0,800], linewidth=1)\n",
    "current = \"2015\"\n",
    "prior = \"2010\"\n",
    "for (note, dept) in dept_labels:\n",
    "    plots.annotate(note, get_coords(BAs_changes, 'BAs', dept, \"2010\", \"2015\"))"
   ]
  },
  {
   "cell_type": "code",
   "execution_count": null,
   "metadata": {
    "collapsed": false
   },
   "outputs": [],
   "source": [
    "BAs_changes.select([\"2015\", \"Normed 2010\"]).scatter(\"Normed 2010\")\n",
    "plots.xlim(0,800)\n",
    "plots.ylim(0,800)\n",
    "plots.plot([0,800],[0,800], linewidth=1)\n",
    "current = \"2015\"\n",
    "prior = \"2010\"\n",
    "for (note, dept) in dept_labels:\n",
    "    plots.annotate(note, get_coords(BAs_changes, 'BAs', dept, \"Normed 2010\", \"2015\"))"
   ]
  },
  {
   "cell_type": "markdown",
   "metadata": {},
   "source": [
    "### Majors"
   ]
  },
  {
   "cell_type": "code",
   "execution_count": null,
   "metadata": {
    "collapsed": false
   },
   "outputs": [],
   "source": [
    "dept_majors_by_year = majors_by_year()\n",
    "dept_majors_by_year.where('Year', 2016)"
   ]
  },
  {
   "cell_type": "code",
   "execution_count": null,
   "metadata": {
    "collapsed": false
   },
   "outputs": [],
   "source": [
    "pseudo_dept_majors_by_year = adj_eng_majors_by_year.select(['Year', 'Computer Science', 'Electrical Eng'])\n",
    "\n",
    "majors_changes = convert_by_year_to_change(dept_majors_by_year, \"majors\", 5, pseudo_dept_majors_by_year)\n",
    "majors_changes"
   ]
  },
  {
   "cell_type": "code",
   "execution_count": null,
   "metadata": {
    "collapsed": false
   },
   "outputs": [],
   "source": [
    "majors_changes.select([\"2016\", \"2011\"]).scatter(\"2011\")\n",
    "mmax = 2300\n",
    "plots.xlim(0,mmax)\n",
    "plots.ylim(0,mmax)\n",
    "plots.plot([0,mmax],[0,mmax], linewidth=1)\n",
    "for (note, dept) in dept_labels:\n",
    "    if majors_changes.where('majors', dept).num_rows > 0:\n",
    "        plots.annotate(note, get_coords(majors_changes, 'majors', dept, \"2011\", \"2016\"))"
   ]
  },
  {
   "cell_type": "code",
   "execution_count": null,
   "metadata": {
    "collapsed": false
   },
   "outputs": [],
   "source": [
    "dept_credits_by_year = credits_by_year()\n",
    "dept_credits_by_year.where('Year', 2016)"
   ]
  },
  {
   "cell_type": "code",
   "execution_count": null,
   "metadata": {
    "collapsed": false
   },
   "outputs": [],
   "source": [
    "#pseudo_dept_credits_by_year = eng_credits_by_year.select(['Year', 'Computer Science', 'Electrical Eng'])\n",
    "\n",
    "#credits_changes = convert_by_year_to_change(dept_credits_by_year, \"credits\", 5, pseudo_dept_credits_by_year)\n",
    "#credits_changes"
   ]
  },
  {
   "cell_type": "code",
   "execution_count": null,
   "metadata": {
    "collapsed": false
   },
   "outputs": [],
   "source": [
    "#credits_changes.select([\"2016\", \"2011\"]).scatter(\"2011\")\n",
    "#mmax = 2300\n",
    "#plots.xlim(0,mmax)\n",
    "#plots.ylim(0,mmax)\n",
    "#plots.plot([0,mmax],[0,mmax], linewidth=1)\n",
    "#for (note, dept) in dept_labels:\n",
    "#    if credits_changes.where('credits', dept).num_rows > 0:\n",
    "#        plots.annotate(note, get_coords(credits_changes, 'credits', dept, \"2011\", \"2016\"))"
   ]
  },
  {
   "cell_type": "markdown",
   "metadata": {},
   "source": [
    "<a id=\"section_fraction\"></a>\n",
    "\n",
    "# Fraction of degrees\n",
    "\n",
    "It is useful to view such measures of productivity in the larger campus context. There are 1510 FTE campus wide with EECS at 90.5 FTE, so as a department it is 6% of the FTE.  In the 80's peak it reached 8.4% of the Bachellors output, but the total output was considerably smaller then.  Today it now exceeds 9%.  But the rate is increasing, so the fraction of students is considerably higher."
   ]
  },
  {
   "cell_type": "code",
   "execution_count": null,
   "metadata": {
    "collapsed": false
   },
   "outputs": [],
   "source": [
    "# Fraction of FTE\n",
    "EECS_fte/total_fte, CS_fte/total_fte"
   ]
  },
  {
   "cell_type": "code",
   "execution_count": null,
   "metadata": {
    "collapsed": false
   },
   "outputs": [],
   "source": [
    "Bach_grad = EECS_grads_by_year.select(['Year', 'Bachelor'])\n",
    "Bach_grad.relabel('Bachelor', 'EECS')\n",
    "Bach_grad['UCB'] = UCB_grads_by_year['Bachelor']\n",
    "#Bach_grad['UCB'] = Prorated_by_year['Bachelor']\n",
    "Bach_grad['Fraction EECS+CS'] = Bach_grad['EECS'] / Bach_grad['UCB']\n",
    "Bach_grad.set_format('Fraction EECS+CS', PercentFormatter)\n",
    "#Bach_grad.show() #uncomment to see all values"
   ]
  },
  {
   "cell_type": "code",
   "execution_count": null,
   "metadata": {
    "collapsed": false
   },
   "outputs": [],
   "source": [
    "Bach_grad.select(['Year', 'Fraction EECS+CS']).plot('Year')\n",
    "plots.ylim(0,0.1)"
   ]
  },
  {
   "cell_type": "code",
   "execution_count": null,
   "metadata": {
    "collapsed": false
   },
   "outputs": [],
   "source": [
    "cs_BA_fraction = UCB_grads_by_year.select(['Year', 'Bachelor']).with_column('Computer Science', adj_eng_degrees_by_year['Computer Science'])\n",
    "cs_BA_fraction['CS %']= cs_BA_fraction['Computer Science']/cs_BA_fraction['Bachelor']\n",
    "cs_BA_fraction.select(['Year', 'CS %']).plot('Year')"
   ]
  },
  {
   "cell_type": "markdown",
   "metadata": {},
   "source": [
    "<a id=\"section_related\"></a>\n",
    "\n",
    "# Degrees in related fields\n",
    "\n",
    "In considering this broader view, it is valuable to consider our fellow travelors. \n",
    "* Statistics has long had a large instructional program, but starting from the fall off of the internet boom they have seen a profound growth of majors, which has taken off since the emergence of data science in 2010.  A very large fraction of these are double majors.  Historically there was strong double major affinity among statistics, economics, and applied math.  Now all three double with L&S CS.\n",
    "* Information continues to produce a handfull of PhDs and zero Bachelors, but with the on-line MIDS have return to producing about 50 masters per year.\n",
    "* Mathematics has experienced its own booms and busts, generally tracking computing, but smaller in scale.  The concentrations of pure math, applied math, and math for teachers are not broken out in the data.\n",
    "\n",
    "These trends are reflected in graduates salary data."
   ]
  },
  {
   "cell_type": "code",
   "execution_count": null,
   "metadata": {
    "collapsed": false
   },
   "outputs": [],
   "source": [
    "Stats_grads_by_year = grad_table_by_year(['Statistics'])\n",
    "sort_cols(Stats_grads_by_year).plot('Year')\n",
    "plots.title(\"Statistics Degrees\")"
   ]
  },
  {
   "cell_type": "code",
   "execution_count": null,
   "metadata": {
    "collapsed": false
   },
   "outputs": [],
   "source": [
    "sort_cols(grad_table_by_year(['Information','Library & Info Studies'])).plot('Year')\n",
    "plots.title(\"I School Degrees\")"
   ]
  },
  {
   "cell_type": "code",
   "execution_count": null,
   "metadata": {
    "collapsed": false
   },
   "outputs": [],
   "source": [
    "sort_cols(grad_table_by_year(['Mathematics'])).plot('Year')\n",
    "plots.title(\"Mathematics Degrees\")"
   ]
  },
  {
   "cell_type": "code",
   "execution_count": null,
   "metadata": {
    "collapsed": false
   },
   "outputs": [],
   "source": [
    "grad_table_by_year(['Economics']).plot('Year')"
   ]
  },
  {
   "cell_type": "code",
   "execution_count": null,
   "metadata": {
    "collapsed": false
   },
   "outputs": [],
   "source": [
    "CIS_grads_by_year = grad_table_by_year(['L&S Computer Science', 'Electrical Eng & Computer Sci', 'Statistics'])\n",
    "CIS_grads_by_year.plot('Year')"
   ]
  },
  {
   "cell_type": "markdown",
   "metadata": {
    "collapsed": false
   },
   "source": [
    "<a id=\"section_double\"></a>\n",
    "\n",
    "# Double majors\n",
    "\n",
    "This data set gives a limited view into the prevalence od double majors.  The `Degrees` column represents\n",
    "the number of degrees conferred by each unit and the `Prorated` appears to prorate the degrees earned by an\n",
    "individual student over the units they receive degrees from.  So the sum of `Prorated` should be the number of actual students.  Looking at the difference in the two gives a sense of the prevalence of multiple majors.  However, there are some triple majors, so the difference slightly over estimates the number of students when looking at the student body as a whole.  \n",
    "\n",
    "From this we can see that the number of double majors has increased from 6% to about 12%, so it is not rare.\n",
    "\n",
    "In looking at an individual department, the number of students with double majors should exceed twice the difference, because a double major counts 1/2 to the prorated and 1 to the degrees.\n",
    "\n",
    "* For Statistics a majority of the majors are double majors.  The fraction has \n",
    "always been high, but it shot up as the program started to grow in 2006.  As the program has grown\n",
    "the double majors have settled some, but remain high and vastly different from the\n",
    "student population as a whole.  With the growth, 130 of 250 graduates are double majors.\n",
    "* For L&S Computer Science double major at twice the university rate and half the statistics\n",
    "rates.  The fraction has grown along with the size of the program, resulting in nearly\n",
    "a hundred double majors.  Many of these are doubles with statistics.  Historically, statistics,\n",
    "economics and applied math common double (and triple) combinations.  Recently, all three \n",
    "double with computer science.  \n",
    "* EECS double majors are relatively rare, a fraction of the campus rate.  A modest number of students graduate in joint-major programs."
   ]
  },
  {
   "cell_type": "code",
   "execution_count": null,
   "metadata": {
    "collapsed": false
   },
   "outputs": [],
   "source": [
    "doubles = UCB_grads_by_year.select(['Year', 'Bachelor'])\n",
    "doubles['Prorated'] =  UCB_prorated_by_year['Bachelor']\n",
    "doubles['Multi'] = doubles['Bachelor'] - doubles['Prorated']\n",
    "doubles['Fraction'] = doubles['Multi'] / doubles['Prorated']\n",
    "doubles.set_format('Fraction', PercentFormatter)\n",
    "doubles.plot('Year', 'Fraction')"
   ]
  },
  {
   "cell_type": "code",
   "execution_count": null,
   "metadata": {
    "collapsed": true
   },
   "outputs": [],
   "source": [
    "def doubles_by_year(depts, degrees):\n",
    "    if type(depts) is str:\n",
    "        rows = degrees[\"Department\"] == depts\n",
    "    else:\n",
    "        rows = degrees[\"Department\"] == depts[0]\n",
    "        for dept in depts[1:]:\n",
    "            rows = np.logical_or(rows, degrees[\"Department\"] == dept)   \n",
    "    BAs = degrees.where(rows).where('DegLvl', 1).select(['Year', 'Grads', 'Prorated']).group('Year',sum)\n",
    "    BAs['Multi'] = 2*(BAs['Grads sum'] - BAs['Prorated sum'])\n",
    "    BAs['Fraction'] = BAs['Multi'] / BAs['Grads sum']\n",
    "    BAs.set_format('Fraction', PercentFormatter)\n",
    "    return BAs"
   ]
  },
  {
   "cell_type": "code",
   "execution_count": null,
   "metadata": {
    "collapsed": false
   },
   "outputs": [],
   "source": [
    "doubles_by_year(['Statistics'], degrees).show()"
   ]
  },
  {
   "cell_type": "code",
   "execution_count": null,
   "metadata": {
    "collapsed": false
   },
   "outputs": [],
   "source": [
    "doubles_by_year(['Statistics'], degrees).plot('Year', 'Fraction')\n",
    "doubles_by_year(['Statistics'], degrees).plot('Year', 'Multi')"
   ]
  },
  {
   "cell_type": "code",
   "execution_count": null,
   "metadata": {
    "collapsed": false
   },
   "outputs": [],
   "source": [
    "doubles_by_year(['L&S Computer Science'], degrees).plot('Year', 'Fraction')\n",
    "doubles_by_year(['L&S Computer Science'], degrees).plot('Year', 'Multi')"
   ]
  },
  {
   "cell_type": "code",
   "execution_count": null,
   "metadata": {
    "collapsed": false
   },
   "outputs": [],
   "source": [
    "doubles_by_year(['Electrical Eng & Computer Sci'], degrees).plot('Year', 'Fraction')"
   ]
  },
  {
   "cell_type": "markdown",
   "metadata": {
    "collapsed": true
   },
   "source": [
    "<a id=\"section_stem\"></a>\n",
    "\n",
    "# STEM Fields Comparison\n",
    "\n"
   ]
  },
  {
   "cell_type": "markdown",
   "metadata": {},
   "source": [
    "Current national studies examine computing in relation to other large STEM fields.  "
   ]
  },
  {
   "cell_type": "code",
   "execution_count": null,
   "metadata": {
    "collapsed": false
   },
   "outputs": [],
   "source": [
    "stem_BAs_by_year = BAs_by_year.select(['Year', 'Mathematics', 'Statistics', 'Physics'])\n",
    "stem_BAs_by_year['Computer Science'] = pseudo_dept_BAs_by_year['Computer Science']\n",
    "stem_BAs_by_year['Biology'] = BAs_by_year['Integrative Biology'] + BAs_by_year['Molecular & Cell Biology']\n",
    "stem_BAs_by_year['Chemistry'] = BAs_by_year['Chemistry'] + BAs_by_year['L&S Chemistry']\n",
    "edepts = ['Bioengineering',\n",
    "       'Civil & Environmental Eng',\n",
    "       'Engineering Science', 'Industrial Eng & Ops Research',\n",
    "       'Materials Science & Eng', 'Mechanical Engineering',\n",
    "       'Nuclear Engineering', 'Ocean Eng Grad Grp']\n",
    "stem_BAs_by_year['Engineering'] = sum([BAs_by_year[dept] for dept in edepts]) + pseudo_dept_BAs_by_year['Electrical Eng']\n",
    "sort_cols(stem_BAs_by_year).plot('Year')"
   ]
  },
  {
   "cell_type": "markdown",
   "metadata": {},
   "source": [
    "<a id=\"section_breakout\"></a>\n",
    "\n",
    "# Breakout of departments of other divisions"
   ]
  },
  {
   "cell_type": "code",
   "execution_count": null,
   "metadata": {
    "collapsed": false
   },
   "outputs": [],
   "source": [
    "list(np.unique(degrees['Division']))"
   ]
  },
  {
   "cell_type": "code",
   "execution_count": null,
   "metadata": {
    "collapsed": false
   },
   "outputs": [],
   "source": [
    "def show_division(division):\n",
    "    div_grads(division, 1, True, True).plot('Year')\n",
    "    _ = plots.title(division + \" BAs\")\n",
    "    div_majors(division, True, True).plot('Year')\n",
    "    _ = plots.title(division + \" majors\")\n",
    "    div_credits(division).plot('Year')\n",
    "    _ = plots.title(division + \" SCHs\")\n",
    "    div_grads(division, 2).plot('Year')\n",
    "    _ = plots.title(division + \" MAs\")\n",
    "    div_grads(division, 3).plot('Year')\n",
    "    _ = plots.title(division + \" PhDs\")"
   ]
  },
  {
   "cell_type": "code",
   "execution_count": null,
   "metadata": {
    "collapsed": false
   },
   "outputs": [],
   "source": [
    "show_division('L&S Social Sciences')"
   ]
  },
  {
   "cell_type": "code",
   "execution_count": null,
   "metadata": {
    "collapsed": false,
    "scrolled": false
   },
   "outputs": [],
   "source": [
    "show_division('L&S Arts & Humanities')"
   ]
  },
  {
   "cell_type": "code",
   "execution_count": null,
   "metadata": {
    "collapsed": false
   },
   "outputs": [],
   "source": [
    "#show_division('School of Public Health')"
   ]
  },
  {
   "cell_type": "code",
   "execution_count": null,
   "metadata": {
    "collapsed": true
   },
   "outputs": [],
   "source": []
  },
  {
   "cell_type": "code",
   "execution_count": null,
   "metadata": {
    "collapsed": true
   },
   "outputs": [],
   "source": []
  }
 ],
 "metadata": {
  "kernelspec": {
   "display_name": "Python 2",
   "language": "python",
   "name": "python2"
  },
  "language_info": {
   "codemirror_mode": {
    "name": "ipython",
    "version": 2
   },
   "file_extension": ".py",
   "mimetype": "text/x-python",
   "name": "python",
   "nbconvert_exporter": "python",
   "pygments_lexer": "ipython2",
   "version": "2.7.11"
  }
 },
 "nbformat": 4,
 "nbformat_minor": 0
}
