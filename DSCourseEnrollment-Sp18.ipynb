{
 "cells": [
  {
   "cell_type": "code",
   "execution_count": 66,
   "metadata": {},
   "outputs": [
    {
     "data": {
      "text/plain": [
       "'0.10.1'"
      ]
     },
     "execution_count": 66,
     "metadata": {},
     "output_type": "execute_result"
    }
   ],
   "source": [
    "# HIDDEN\n",
    "# For Tables reference see http://data8.org/datascience/tables.html\n",
    "# This useful nonsense should just go at the top of your notebook.\n",
    "from datascience import *\n",
    "%matplotlib inline\n",
    "import matplotlib.pyplot as plots\n",
    "import numpy as np\n",
    "plots.style.use('fivethirtyeight')\n",
    "plots.rc('lines', linewidth=2, color='r')\n",
    "from ipywidgets import interact\n",
    "import locale\n",
    "locale.setlocale( locale.LC_ALL, 'en_US.UTF-8' ) \n",
    "# datascience version number of last run of this notebook\n",
    "version.__version__"
   ]
  },
  {
   "cell_type": "code",
   "execution_count": 67,
   "metadata": {},
   "outputs": [],
   "source": [
    "import urllib.request as urlreq\n",
    "import re\n",
    "\n",
    "max_enroller = re.compile('\"maxEnroll\":[0123456789]*,')\n",
    "enroller = re.compile('\"enrolledCount\":[0123456789]*,')\n",
    "wait_lister = re.compile('\"waitlistedCount\":[0123456789]*,')\n",
    "def current_enrollment(schedule_url):\n",
    "    rdr = urlreq.urlopen(schedule_url)\n",
    "    page = rdr.read(100000).decode('utf-8')\n",
    "    max_enroll = int(max_enroller.search(page).group()[12:-1])\n",
    "    enrolled = int(enroller.search(page).group()[16:-1])\n",
    "    waitlisted = int(wait_lister.search(page).group()[18:-1])\n",
    "    return max_enroll, enrolled, waitlisted\n",
    "\n",
    "def lookup_row(row):\n",
    "    course, kind, url = row\n",
    "    # print(url)\n",
    "    limit, enroll, wait = current_enrollment(url)\n",
    "    return (course, kind, enroll+wait, limit, enroll, wait)\n",
    "\n",
    "def lookup_courses(watch):\n",
    "    return Table([\"Course\", \"Kind\", \"Registered\", \"Limit\", \"Enrolled\", \"Waitlisted\"]).with_rows(\n",
    "        [lookup_row(row) for row in watch.rows])"
   ]
  },
  {
   "cell_type": "code",
   "execution_count": 68,
   "metadata": {},
   "outputs": [],
   "source": [
    "url_watch = Table([\"Course\", \"Kind\", \"URL\"]).with_rows([\n",
    "    (\"Data8\",\"Foundation\",\"http://classes.berkeley.edu/content/2018-spring-stat-c8-001-lec-001\"),\n",
    "    (\"DS100\",\"Gateway\",\"http://classes.berkeley.edu/content/2018-spring-compsci-c100-001-lec-001\"),\n",
    "    (\"stat88\",\"Connector\",\"http://classes.berkeley.edu/content/2018-spring-stat-88-001-lec-001\"),\n",
    "    (\"CEE88b\",\"Connector\",\"http://classes.berkeley.edu/content/2018-spring-civeng-88b-001-lec-001\"),\n",
    "    (\"CS88\",\"Connector\",\"http://classes.berkeley.edu/content/2018-spring-compsci-88-001-lec-001\"),\n",
    "    (\"Geog88\", \"Connector\", \"http://classes.berkeley.edu/content/2018-spring-geog-88-001-lec-001\"),\n",
    "    (\"LegalSt88\", \"Connector\", \"http://classes.berkeley.edu/content/2018-spring-legalst-88-001-sem-001\"),\n",
    "    (\"MCELLBI88\", \"Connector\", \"http://classes.berkeley.edu/content/2018-spring-mcellbi-88-001-lec-001\"),\n",
    "    (\"UGBA 96-4\", \"Connector\", \"http://classes.berkeley.edu/content/2018-spring-ugba-96-004-lec-004\"),\n",
    "    (\"UGBA 96-5\", \"Connector\", \"http://classes.berkeley.edu/content/2018-spring-ugba-96-005-lec-005\"),\n",
    "    (\"Stat28\", \"Adapter\", \"http://classes.berkeley.edu/content/2018-spring-stat-28-001-lec-001\"),\n",
    "    (\"Stat140\", \"Extend\", \"http://classes.berkeley.edu/content/2018-spring-stat-140-001-lec-001\"),\n",
    "    (\"COMPSCI 189\",\"Upper\",\"http://classes.berkeley.edu/content/2018-spring-compsci-189-001-lec-001\"),\n",
    "    (\"STAT 133\",\"Upper\",\"http://classes.berkeley.edu/content/2018-spring-stat-133-001-lec-001\"),\n",
    "    (\"STAT 134\", \"Upper\",\"http://classes.berkeley.edu/content/2018-spring-stat-134-001-lec-001\"),\n",
    "    (\"STAT 154\", \"Upper\",\"http://classes.berkeley.edu/content/2018-spring-stat-154-001-lec-001\"),\n",
    "    (\"CS 61B\", \"Lower\", \"http://classes.berkeley.edu/content/2018-spring-compsci-61b-001-lec-001\"),\n",
    "    (\"CS 186\", \"Upper\", \"http://classes.berkeley.edu/content/2018-spring-compsci-186-001-lec-001\"),\n",
    "    (\"CS194-129-DNN\", \"Upper\", \"http://classes.berkeley.edu/content/2018-spring-compsci-194-129-lec-129\"),\n",
    "    (\"IEOR135\", \"Upper\",\"http://classes.berkeley.edu/content/2018-spring-indeng-135-001-lec-001\"),\n",
    "    (\"INFO 190-1\", \"Upper\", \"http://classes.berkeley.edu/content/2018-spring-info-190-001-sem-001\"),\n",
    "    \n",
    "])\n",
    "#url_watch.show()\n",
    "#lookup_courses(url_watch).show()"
   ]
  },
  {
   "cell_type": "code",
   "execution_count": 69,
   "metadata": {},
   "outputs": [],
   "source": [
    "# Execute this cell to get fetch the current enrollments from schedule\n",
    "current_enrollments = lookup_courses(url_watch)"
   ]
  },
  {
   "cell_type": "code",
   "execution_count": 70,
   "metadata": {},
   "outputs": [
    {
     "data": {
      "text/html": [
       "<table border=\"1\" class=\"dataframe\">\n",
       "    <thead>\n",
       "        <tr>\n",
       "            <th>Course</th> <th>Kind</th> <th>Registered</th> <th>Limit</th> <th>Enrolled</th> <th>Waitlisted</th>\n",
       "        </tr>\n",
       "    </thead>\n",
       "    <tbody>\n",
       "        <tr>\n",
       "            <td>Data8        </td> <td>Foundation</td> <td>734       </td> <td>732  </td> <td>622     </td> <td>112       </td>\n",
       "        </tr>\n",
       "    </tbody>\n",
       "        <tr>\n",
       "            <td>DS100        </td> <td>Gateway   </td> <td>444       </td> <td>600  </td> <td>308     </td> <td>136       </td>\n",
       "        </tr>\n",
       "    </tbody>\n",
       "        <tr>\n",
       "            <td>stat88       </td> <td>Connector </td> <td>120       </td> <td>100  </td> <td>100     </td> <td>20        </td>\n",
       "        </tr>\n",
       "    </tbody>\n",
       "        <tr>\n",
       "            <td>CEE88b       </td> <td>Connector </td> <td>0         </td> <td>40   </td> <td>0       </td> <td>0         </td>\n",
       "        </tr>\n",
       "    </tbody>\n",
       "        <tr>\n",
       "            <td>CS88         </td> <td>Connector </td> <td>100       </td> <td>60   </td> <td>60      </td> <td>40        </td>\n",
       "        </tr>\n",
       "    </tbody>\n",
       "        <tr>\n",
       "            <td>Geog88       </td> <td>Connector </td> <td>15        </td> <td>30   </td> <td>15      </td> <td>0         </td>\n",
       "        </tr>\n",
       "    </tbody>\n",
       "        <tr>\n",
       "            <td>LegalSt88    </td> <td>Connector </td> <td>26        </td> <td>30   </td> <td>26      </td> <td>0         </td>\n",
       "        </tr>\n",
       "    </tbody>\n",
       "        <tr>\n",
       "            <td>MCELLBI88    </td> <td>Connector </td> <td>21        </td> <td>20   </td> <td>20      </td> <td>1         </td>\n",
       "        </tr>\n",
       "    </tbody>\n",
       "        <tr>\n",
       "            <td>UGBA 96-4    </td> <td>Connector </td> <td>42        </td> <td>62   </td> <td>41      </td> <td>1         </td>\n",
       "        </tr>\n",
       "    </tbody>\n",
       "        <tr>\n",
       "            <td>UGBA 96-5    </td> <td>Connector </td> <td>31        </td> <td>62   </td> <td>31      </td> <td>0         </td>\n",
       "        </tr>\n",
       "    </tbody>\n",
       "        <tr>\n",
       "            <td>Stat28       </td> <td>Adapter   </td> <td>12        </td> <td>60   </td> <td>12      </td> <td>0         </td>\n",
       "        </tr>\n",
       "    </tbody>\n",
       "        <tr>\n",
       "            <td>Stat140      </td> <td>Extend    </td> <td>139       </td> <td>120  </td> <td>119     </td> <td>20        </td>\n",
       "        </tr>\n",
       "    </tbody>\n",
       "        <tr>\n",
       "            <td>COMPSCI 189  </td> <td>Upper     </td> <td>469       </td> <td>400  </td> <td>280     </td> <td>189       </td>\n",
       "        </tr>\n",
       "    </tbody>\n",
       "        <tr>\n",
       "            <td>STAT 133     </td> <td>Upper     </td> <td>280       </td> <td>360  </td> <td>274     </td> <td>6         </td>\n",
       "        </tr>\n",
       "    </tbody>\n",
       "        <tr>\n",
       "            <td>STAT 134     </td> <td>Upper     </td> <td>305       </td> <td>396  </td> <td>296     </td> <td>9         </td>\n",
       "        </tr>\n",
       "    </tbody>\n",
       "        <tr>\n",
       "            <td>STAT 154     </td> <td>Upper     </td> <td>86        </td> <td>70   </td> <td>70      </td> <td>16        </td>\n",
       "        </tr>\n",
       "    </tbody>\n",
       "        <tr>\n",
       "            <td>CS 61B       </td> <td>Lower     </td> <td>1,011     </td> <td>732  </td> <td>617     </td> <td>394       </td>\n",
       "        </tr>\n",
       "    </tbody>\n",
       "        <tr>\n",
       "            <td>CS 186       </td> <td>Upper     </td> <td>161       </td> <td>441  </td> <td>136     </td> <td>25        </td>\n",
       "        </tr>\n",
       "    </tbody>\n",
       "        <tr>\n",
       "            <td>CS194-129-DNN</td> <td>Upper     </td> <td>192       </td> <td>110  </td> <td>103     </td> <td>89        </td>\n",
       "        </tr>\n",
       "    </tbody>\n",
       "        <tr>\n",
       "            <td>IEOR135      </td> <td>Upper     </td> <td>67        </td> <td>141  </td> <td>67      </td> <td>0         </td>\n",
       "        </tr>\n",
       "    </tbody>\n",
       "        <tr>\n",
       "            <td>INFO 190-1   </td> <td>Upper     </td> <td>36        </td> <td>25   </td> <td>25      </td> <td>11        </td>\n",
       "        </tr>\n",
       "    </tbody>\n",
       "</table>"
      ],
      "text/plain": [
       "<IPython.core.display.HTML object>"
      ]
     },
     "metadata": {},
     "output_type": "display_data"
    }
   ],
   "source": [
    "current_enrollments.show()"
   ]
  },
  {
   "cell_type": "code",
   "execution_count": 71,
   "metadata": {},
   "outputs": [
    {
     "data": {
      "text/html": [
       "<table border=\"1\" class=\"dataframe\">\n",
       "    <thead>\n",
       "        <tr>\n",
       "            <th>Kind</th> <th>Course sum</th> <th>Registered sum</th> <th>Limit sum</th> <th>Enrolled sum</th> <th>Waitlisted sum</th>\n",
       "        </tr>\n",
       "    </thead>\n",
       "    <tbody>\n",
       "        <tr>\n",
       "            <td>Adapter   </td> <td>          </td> <td>12            </td> <td>60       </td> <td>12          </td> <td>0             </td>\n",
       "        </tr>\n",
       "    </tbody>\n",
       "        <tr>\n",
       "            <td>Connector </td> <td>          </td> <td>355           </td> <td>404      </td> <td>293         </td> <td>62            </td>\n",
       "        </tr>\n",
       "    </tbody>\n",
       "        <tr>\n",
       "            <td>Extend    </td> <td>          </td> <td>139           </td> <td>120      </td> <td>119         </td> <td>20            </td>\n",
       "        </tr>\n",
       "    </tbody>\n",
       "        <tr>\n",
       "            <td>Foundation</td> <td>          </td> <td>734           </td> <td>732      </td> <td>622         </td> <td>112           </td>\n",
       "        </tr>\n",
       "    </tbody>\n",
       "        <tr>\n",
       "            <td>Gateway   </td> <td>          </td> <td>444           </td> <td>600      </td> <td>308         </td> <td>136           </td>\n",
       "        </tr>\n",
       "    </tbody>\n",
       "        <tr>\n",
       "            <td>Lower     </td> <td>          </td> <td>1,011         </td> <td>732      </td> <td>617         </td> <td>394           </td>\n",
       "        </tr>\n",
       "    </tbody>\n",
       "        <tr>\n",
       "            <td>Upper     </td> <td>          </td> <td>1,596         </td> <td>1,943    </td> <td>1,251       </td> <td>345           </td>\n",
       "        </tr>\n",
       "    </tbody>\n",
       "</table>"
      ],
      "text/plain": [
       "Kind       | Course sum | Registered sum | Limit sum | Enrolled sum | Waitlisted sum\n",
       "Adapter    |            | 12             | 60        | 12           | 0\n",
       "Connector  |            | 355            | 404       | 293          | 62\n",
       "Extend     |            | 139            | 120       | 119          | 20\n",
       "Foundation |            | 734            | 732       | 622          | 112\n",
       "Gateway    |            | 444            | 600       | 308          | 136\n",
       "Lower      |            | 1,011          | 732       | 617          | 394\n",
       "Upper      |            | 1,596          | 1,943     | 1,251        | 345"
      ]
     },
     "execution_count": 71,
     "metadata": {},
     "output_type": "execute_result"
    }
   ],
   "source": [
    "by_group = current_enrollments.group('Kind', collect=sum)\n",
    "by_group"
   ]
  },
  {
   "cell_type": "code",
   "execution_count": 72,
   "metadata": {},
   "outputs": [
    {
     "data": {
      "image/png": "[encoded data removed]",
      "text/plain": [
       "<matplotlib.figure.Figure at 0x7f11808d0780>"
      ]
     },
     "metadata": {},
     "output_type": "display_data"
    }
   ],
   "source": [
    "by_group.barh('Kind', 'Registered sum')"
   ]
  },
  {
   "cell_type": "code",
   "execution_count": 73,
   "metadata": {},
   "outputs": [
    {
     "data": {
      "text/plain": [
       "4291"
      ]
     },
     "execution_count": 73,
     "metadata": {},
     "output_type": "execute_result"
    }
   ],
   "source": [
    "sum(by_group['Registered sum'])"
   ]
  },
  {
   "cell_type": "code",
   "execution_count": 74,
   "metadata": {},
   "outputs": [
    {
     "data": {
      "text/html": [
       "<table border=\"1\" class=\"dataframe\">\n",
       "    <thead>\n",
       "        <tr>\n",
       "            <th>Course</th> <th>Kind</th> <th>Registered</th> <th>Limit</th> <th>Enrolled</th> <th>Waitlisted</th>\n",
       "        </tr>\n",
       "    </thead>\n",
       "    <tbody>\n",
       "        <tr>\n",
       "            <td>stat88   </td> <td>Connector</td> <td>120       </td> <td>100  </td> <td>100     </td> <td>20        </td>\n",
       "        </tr>\n",
       "    </tbody>\n",
       "        <tr>\n",
       "            <td>CEE88b   </td> <td>Connector</td> <td>0         </td> <td>40   </td> <td>0       </td> <td>0         </td>\n",
       "        </tr>\n",
       "    </tbody>\n",
       "        <tr>\n",
       "            <td>CS88     </td> <td>Connector</td> <td>100       </td> <td>60   </td> <td>60      </td> <td>40        </td>\n",
       "        </tr>\n",
       "    </tbody>\n",
       "        <tr>\n",
       "            <td>Geog88   </td> <td>Connector</td> <td>15        </td> <td>30   </td> <td>15      </td> <td>0         </td>\n",
       "        </tr>\n",
       "    </tbody>\n",
       "        <tr>\n",
       "            <td>LegalSt88</td> <td>Connector</td> <td>26        </td> <td>30   </td> <td>26      </td> <td>0         </td>\n",
       "        </tr>\n",
       "    </tbody>\n",
       "        <tr>\n",
       "            <td>MCELLBI88</td> <td>Connector</td> <td>21        </td> <td>20   </td> <td>20      </td> <td>1         </td>\n",
       "        </tr>\n",
       "    </tbody>\n",
       "        <tr>\n",
       "            <td>UGBA 96-4</td> <td>Connector</td> <td>42        </td> <td>62   </td> <td>41      </td> <td>1         </td>\n",
       "        </tr>\n",
       "    </tbody>\n",
       "        <tr>\n",
       "            <td>UGBA 96-5</td> <td>Connector</td> <td>31        </td> <td>62   </td> <td>31      </td> <td>0         </td>\n",
       "        </tr>\n",
       "    </tbody>\n",
       "</table>"
      ],
      "text/plain": [
       "Course    | Kind      | Registered | Limit | Enrolled | Waitlisted\n",
       "stat88    | Connector | 120        | 100   | 100      | 20\n",
       "CEE88b    | Connector | 0          | 40    | 0        | 0\n",
       "CS88      | Connector | 100        | 60    | 60       | 40\n",
       "Geog88    | Connector | 15         | 30    | 15       | 0\n",
       "LegalSt88 | Connector | 26         | 30    | 26       | 0\n",
       "MCELLBI88 | Connector | 21         | 20    | 20       | 1\n",
       "UGBA 96-4 | Connector | 42         | 62    | 41       | 1\n",
       "UGBA 96-5 | Connector | 31         | 62    | 31       | 0"
      ]
     },
     "execution_count": 74,
     "metadata": {},
     "output_type": "execute_result"
    }
   ],
   "source": [
    "connectors = current_enrollments.where('Kind', 'Connector')\n",
    "connectors"
   ]
  },
  {
   "cell_type": "code",
   "execution_count": 75,
   "metadata": {},
   "outputs": [
    {
     "data": {
      "text/plain": [
       "355"
      ]
     },
     "execution_count": 75,
     "metadata": {},
     "output_type": "execute_result"
    }
   ],
   "source": [
    "sum(connectors['Registered'])"
   ]
  },
  {
   "cell_type": "code",
   "execution_count": 76,
   "metadata": {},
   "outputs": [
    {
     "data": {
      "text/plain": [
       "0.48365122615803813"
      ]
     },
     "execution_count": 76,
     "metadata": {},
     "output_type": "execute_result"
    }
   ],
   "source": [
    "sum(connectors['Registered'])/current_enrollments.where('Course', 'Data8')['Registered'][0]"
   ]
  },
  {
   "cell_type": "code",
   "execution_count": 77,
   "metadata": {},
   "outputs": [
    {
     "data": {
      "text/plain": [
       "139"
      ]
     },
     "execution_count": 77,
     "metadata": {},
     "output_type": "execute_result"
    }
   ],
   "source": [
    "sum(current_enrollments.where('Kind', 'Extend')['Registered'])"
   ]
  },
  {
   "cell_type": "code",
   "execution_count": 78,
   "metadata": {},
   "outputs": [
    {
     "data": {
      "text/html": [
       "<table border=\"1\" class=\"dataframe\">\n",
       "    <thead>\n",
       "        <tr>\n",
       "            <th>Course</th> <th>Kind</th> <th>Registered</th> <th>Limit</th> <th>Enrolled</th> <th>Waitlisted</th>\n",
       "        </tr>\n",
       "    </thead>\n",
       "    <tbody>\n",
       "        <tr>\n",
       "            <td>COMPSCI 189</td> <td>Upper</td> <td>469       </td> <td>400  </td> <td>280     </td> <td>189       </td>\n",
       "        </tr>\n",
       "    </tbody>\n",
       "        <tr>\n",
       "            <td>STAT 154   </td> <td>Upper</td> <td>86        </td> <td>70   </td> <td>70      </td> <td>16        </td>\n",
       "        </tr>\n",
       "    </tbody>\n",
       "</table>"
      ],
      "text/plain": [
       "Course      | Kind  | Registered | Limit | Enrolled | Waitlisted\n",
       "COMPSCI 189 | Upper | 469        | 400   | 280      | 189\n",
       "STAT 154    | Upper | 86         | 70    | 70       | 16"
      ]
     },
     "execution_count": 78,
     "metadata": {},
     "output_type": "execute_result"
    }
   ],
   "source": [
    "current_enrollments.where(np.in1d(current_enrollments['Course'], \n",
    "                                  ['STAT 154', 'COMPSCI 189', 'INDENG 142']))"
   ]
  },
  {
   "cell_type": "code",
   "execution_count": 79,
   "metadata": {},
   "outputs": [
    {
     "data": {
      "text/html": [
       "<table border=\"1\" class=\"dataframe\">\n",
       "    <thead>\n",
       "        <tr>\n",
       "            <th>statistic</th> <th>Course</th> <th>Kind</th> <th>Registered</th> <th>Limit</th> <th>Enrolled</th> <th>Waitlisted</th>\n",
       "        </tr>\n",
       "    </thead>\n",
       "    <tbody>\n",
       "        <tr>\n",
       "            <td>min      </td> <td>COMPSCI 189</td> <td>Upper</td> <td>86        </td> <td>70   </td> <td>70      </td> <td>16        </td>\n",
       "        </tr>\n",
       "    </tbody>\n",
       "        <tr>\n",
       "            <td>max      </td> <td>STAT 154   </td> <td>Upper</td> <td>469       </td> <td>400  </td> <td>280     </td> <td>189       </td>\n",
       "        </tr>\n",
       "    </tbody>\n",
       "        <tr>\n",
       "            <td>median   </td> <td>           </td> <td>     </td> <td>277.5     </td> <td>235  </td> <td>175     </td> <td>102.5     </td>\n",
       "        </tr>\n",
       "    </tbody>\n",
       "        <tr>\n",
       "            <td>sum      </td> <td>           </td> <td>     </td> <td>555       </td> <td>470  </td> <td>350     </td> <td>205       </td>\n",
       "        </tr>\n",
       "    </tbody>\n",
       "</table>"
      ],
      "text/plain": [
       "statistic | Course      | Kind  | Registered | Limit | Enrolled | Waitlisted\n",
       "min       | COMPSCI 189 | Upper | 86         | 70    | 70       | 16\n",
       "max       | STAT 154    | Upper | 469        | 400   | 280      | 189\n",
       "median    |             |       | 277.5      | 235   | 175      | 102.5\n",
       "sum       |             |       | 555        | 470   | 350      | 205"
      ]
     },
     "execution_count": 79,
     "metadata": {},
     "output_type": "execute_result"
    }
   ],
   "source": [
    "current_enrollments.where(np.in1d(current_enrollments['Course'], \n",
    "                                  ['STAT 154', 'COMPSCI 189', 'INDENG 142'])).stats()"
   ]
  },
  {
   "cell_type": "code",
   "execution_count": null,
   "metadata": {},
   "outputs": [],
   "source": []
  }
 ],
 "metadata": {
  "kernelspec": {
   "display_name": "Python 3",
   "language": "python",
   "name": "python3"
  },
  "language_info": {
   "codemirror_mode": {
    "name": "ipython",
    "version": 3
   },
   "file_extension": ".py",
   "mimetype": "text/x-python",
   "name": "python",
   "nbconvert_exporter": "python",
   "pygments_lexer": "ipython3",
   "version": "3.6.1"
  }
 },
 "nbformat": 4,
 "nbformat_minor": 2
}
