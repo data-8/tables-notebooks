{
 "cells": [
  {
   "cell_type": "code",
   "execution_count": 1,
   "metadata": {
    "collapsed": false,
    "deletable": true,
    "editable": true
   },
   "outputs": [
    {
     "data": {
      "text/plain": [
       "'0.5.19'"
      ]
     },
     "execution_count": 1,
     "metadata": {},
     "output_type": "execute_result"
    }
   ],
   "source": [
    "# HIDDEN\n",
    "# For Tables reference see http://data8.org/datascience/tables.html\n",
    "# This useful nonsense should just go at the top of your notebook.\n",
    "from datascience import *\n",
    "%matplotlib inline\n",
    "import matplotlib.pyplot as plots\n",
    "import numpy as np\n",
    "plots.style.use('fivethirtyeight')\n",
    "plots.rc('lines', linewidth=2, color='r')\n",
    "from ipywidgets import interact\n",
    "import locale\n",
    "locale.setlocale( locale.LC_ALL, 'en_US.UTF-8' ) \n",
    "# datascience version number of last run of this notebook\n",
    "version.__version__"
   ]
  },
  {
   "cell_type": "code",
   "execution_count": 2,
   "metadata": {
    "collapsed": true,
    "deletable": true,
    "editable": true
   },
   "outputs": [],
   "source": [
    "import urllib.request as urlreq\n",
    "import re\n",
    "\n",
    "max_enroller = re.compile('\"maxEnroll\":[0123456789]*,')\n",
    "enroller = re.compile('\"enrolledCount\":[0123456789]*,')\n",
    "wait_lister = re.compile('\"waitlistedCount\":[0123456789]*,')\n",
    "def current_enrollment(schedule_url):\n",
    "    rdr = urlreq.urlopen(schedule_url)\n",
    "    page = rdr.read(100000).decode('utf-8')\n",
    "    max_enroll = int(max_enroller.search(page).group()[12:-1])\n",
    "    enrolled = int(enroller.search(page).group()[16:-1])\n",
    "    waitlisted = int(wait_lister.search(page).group()[18:-1])\n",
    "    return max_enroll, enrolled, waitlisted\n",
    "\n",
    "def lookup_row(row):\n",
    "    course, kind, url, desc = row\n",
    "    print(url)\n",
    "    limit, enroll, wait = current_enrollment(url)\n",
    "    return (course, desc, kind, enroll+wait, limit, enroll, wait)\n",
    "\n",
    "def lookup_courses(watch):\n",
    "    return Table([\"Course\", \"Description\", \"Kind\", \"Demand\", \"Limit\", \"Enrolled\", \"Waitlisted\"]).with_rows(\n",
    "        [lookup_row(row) for row in watch.rows])"
   ]
  },
  {
   "cell_type": "code",
   "execution_count": 3,
   "metadata": {
    "collapsed": false,
    "deletable": true,
    "editable": true
   },
   "outputs": [],
   "source": [
    "url_watch = Table([\"Course\", \"Kind\", \"URL\", \"Desc\"]).with_rows([\n",
    "    (\"Data 8\",   \"Backbone\",\"http://classes.berkeley.edu/content/2018-spring-stat-c8-001-lec-001\", \"Foundations of Data Science\"),\n",
    "    (\"Data 100\",   \"Backbone\",\"http://classes.berkeley.edu/content/2018-spring-compsci-c100-001-lec-001\", \"Principles and Techniques of DS\"),\n",
    "    (\"STAT 140\", \"Backbone\", \"http://classes.berkeley.edu/content/2018-spring-stat-140-001-lec-001\", \"Probability for Data Science\"),\n",
    "#\n",
    "    (\"COG SCI 88\", \"Connector\", \"http://classes.berkeley.edu/content/2018-spring-cogsci-88-001-lec-101b\", \"Data Science and the Mind\"),\n",
    "    (\"COMP SCI 88\",\"Connector\",\"http://classes.berkeley.edu/content/2018-spring-compsci-88-001-lec-001\", \"Program Structures for DS\"),\n",
    "    (\"GEOG 88\", \"Connector\", \"http://classes.berkeley.edu/content/2018-spring-geog-88-001-lec-001\", \"Data Science Application in Geography\"),\n",
    "    (\"LEGALST 88\", \"Connector\", \"http://classes.berkeley.edu/content/2018-spring-legalst-88-001-sem-001\", \"Crime and Punishment\"),    \n",
    "    (\"LS 88-1\", 'Connector', \"http://classes.berkeley.edu/content/2018-spring-ls-88-1-sem-1\", \"Children in the Developing World\"),\n",
    "    (\"LS 88-2\", 'Connector', \"http://classes.berkeley.edu/content/2018-spring-ls-88-2-sem-2\", \"Sports Analytics\"),    \n",
    "    (\"MCELLBI 88\", \"Connector\", \"http://classes.berkeley.edu/content/2018-spring-mcellbi-88-001-lec-001\", \"Immunotherapy of Cancer\"),\n",
    "    (\"Psych 88\", \"Connector\", \"http://classes.berkeley.edu/content/2018-spring-psych-88-001-lec-001\", \"Data Science for Cog Neuro\"),\n",
    "    (\"stat88\",\"Connector\",\"http://classes.berkeley.edu/content/2018-spring-stat-88-001-lec-001\", \"Probability and Mathematical Statistics in Data Science\"),\n",
    "    (\"stat 89b\",\"Connector\",\"http://classes.berkeley.edu/content/2018-spring-stat-89a-001-lec-001\", \"Linear Algebra for Data Science\"),\n",
    "    (\"UGBA 96-4\", \"Connector\", \"http://classes.berkeley.edu/content/2018-spring-ugba-96-004-lec-004\", \"Data & Decisions\"),\n",
    "    (\"UGBA 96-5\", \"Connector\", \"http://classes.berkeley.edu/content/2018-spring-ugba-96-005-lec-005\", \"Data & Decisions\"),\n",
    "#\n",
    "    (\"Info 188\", \"HCE\", \"http://classes.berkeley.edu/content/2018-spring-info-188-001-lec-001\", \"Behind the Data: Humans and Values\"),\n",
    "    (\"Hist c182\", \"HCE\", \"http://classes.berkeley.edu/content/2018-spring-history-c182c-001-lec-001\", \"Introduction to STS: Human Contexts and Ethics of Data\"),\n",
    "#\n",
    "    (\"Stat28\", \"Data-Enabled\", \"http://classes.berkeley.edu/content/2018-spring-stat-28-001-lec-001\", \"Statistical Methods for Data Science\"),\n",
    "    (\"CIVENG 98\", \"Data-Enabled\", \"http://classes.berkeley.edu/content/2018-spring-civeng-93-001-lec-001\",  \"Engineering Data Analysis\"),\n",
    "    (\"COGSCI 131\", \"Data-Enabled\", \"http://classes.berkeley.edu/content/2018-spring-cogsci-131-001-lec-001\", \"Computational Models of Cognition\"),\n",
    "    (\"COGSCI 190-1\", \"Data-Enabled\", \"http://classes.berkeley.edu/content/2018-spring-cogsci-190-001-sem-001\", \"Sensemaking and Organizing\"),\n",
    "    (\"COMPSCI 194-129\", \"Data-Enabled\", \"http://classes.berkeley.edu/content/2018-spring-compsci-194-129-lec-129\",  \"Designing, Visualizing and Understanding Deep Neural Networks\"),\n",
    "    (\"DEMOG 180\", \"Data-Enabled\", \"http://classes.berkeley.edu/content/2018-spring-demog-180-001-lec-001\",  \"Social Networks\"),\n",
    "    (\"LEGALST 190-2\", \"Data-Enabled\", \"http://classes.berkeley.edu/content/2018-spring-legalst-190-002-sem-002\",  \"Data, Prediction, and Law\"),\n",
    "    (\"PHYSICS 77\", \"Data-Enabled\", \"http://classes.berkeley.edu/content/2018-spring-physics-77-001-lec-001\",  \"Intro to Comp Techs in Physics \"),\n",
    "    (\"PSYCH 10\", \"Data-Enabled\", \"http://classes.berkeley.edu/content/2018-spring-psych-10-001-lec-001\",  \"Research & Data Analysis in Psych\"),\n",
    "    (\"PSYCH 101\", \"Data-Enabled\", \"http://classes.berkeley.edu/content/2018-spring-psych-101-001-lec-001\",  \"Research & Data Analysis in Psych\"),\n",
    "    (\"STAT 133\",\"Data-Enabled\",\"http://classes.berkeley.edu/content/2018-spring-stat-133-001-lec-001\", \"Concepts in Computing with Data\"),\n",
    "    (\"IEOR135\", \"Data-Enabled\",\"http://classes.berkeley.edu/content/2018-spring-indeng-135-001-lec-001\", \"Applied DS w Venture Applns\"),\n",
    "    (\"INFO 190-1\", \"Data-Enabled\", \"http://classes.berkeley.edu/content/2018-spring-info-190-001-sem-001\", \"Data Mining & Analytics\"),\n",
    "    (\"GEOG 187\", \"Data-Enabled\", \"http://classes.berkeley.edu/content/2018-spring-geog-187-001-lec-001\",  \"Geographic Info Analysis\"),\n",
    "    (\"ENVECON C118\", \"Data-Enabled\", \"http://classes.berkeley.edu/content/2018-spring-envecon-c118-001-lec-001\",  \"Intro Applied Econometrics\"),\n",
    "    (\"IAS C118\", \"Data-Enabled\", \"http://classes.berkeley.edu/content/2018-spring-ias-c118-001-lec-001\",  \"Intro Applied Econometrics\"),\n",
    "    (\"SOCIOL 106\", \"Data-Enabled\", \"http://classes.berkeley.edu/content/2018-spring-sociol-106-001-sem-001\",  \"Quant Sociological Methods\"),\n",
    "    (\"COMPSCI 189\",\"Data-Enabled\",\"http://classes.berkeley.edu/content/2018-spring-compsci-189-001-lec-001\", \"Intro to Machine Learning\"),\n",
    "    (\"STAT 154\", \"Data-Enabled\",\"http://classes.berkeley.edu/content/2018-spring-stat-154-001-lec-001\", \"Modern Statistical Prediction and Machine Learning\"),\n",
    "#  \n",
    "    (\"STAT 134\", \"Upper\",\"http://classes.berkeley.edu/content/2018-spring-stat-134-001-lec-001\", \"\"),\n",
    "    (\"CS 61A\", \"Lower\", \"http://classes.berkeley.edu/content/2018-spring-compsci-61a-001-lec-001\", \"\"),\n",
    "    (\"CS 61B\", \"Lower\", \"http://classes.berkeley.edu/content/2018-spring-compsci-61b-001-lec-001\", \"\"),\n",
    "    (\"CS 186\", \"Upper\", \"http://classes.berkeley.edu/content/2018-spring-compsci-186-001-lec-001\", \"\"),   \n",
    "])\n",
    "#url_watch.show()\n",
    "#lookup_courses(url_watch).show()"
   ]
  },
  {
   "cell_type": "code",
   "execution_count": 4,
   "metadata": {
    "collapsed": false
   },
   "outputs": [
    {
     "data": {
      "text/html": [
       "<table border=\"1\" class=\"dataframe\">\n",
       "    <thead>\n",
       "        <tr>\n",
       "            <th>Course</th> <th>Kind</th> <th>URL</th> <th>Desc</th>\n",
       "        </tr>\n",
       "    </thead>\n",
       "    <tbody>\n",
       "        <tr>\n",
       "            <td>Data 8     </td> <td>Backbone </td> <td>http://classes.berkeley.edu/content/2018-spring-stat-c8- ...</td> <td>Foundations of Data Science          </td>\n",
       "        </tr>\n",
       "    </tbody>\n",
       "        <tr>\n",
       "            <td>Data 100   </td> <td>Backbone </td> <td>http://classes.berkeley.edu/content/2018-spring-compsci- ...</td> <td>Principles and Techniques of DS      </td>\n",
       "        </tr>\n",
       "    </tbody>\n",
       "        <tr>\n",
       "            <td>STAT 140   </td> <td>Backbone </td> <td>http://classes.berkeley.edu/content/2018-spring-stat-140 ...</td> <td>Probability for Data Science         </td>\n",
       "        </tr>\n",
       "    </tbody>\n",
       "        <tr>\n",
       "            <td>COG SCI 88 </td> <td>Connector</td> <td>http://classes.berkeley.edu/content/2018-spring-cogsci-8 ...</td> <td>Data Science and the Mind            </td>\n",
       "        </tr>\n",
       "    </tbody>\n",
       "        <tr>\n",
       "            <td>COMP SCI 88</td> <td>Connector</td> <td>http://classes.berkeley.edu/content/2018-spring-compsci- ...</td> <td>Program Structures for DS            </td>\n",
       "        </tr>\n",
       "    </tbody>\n",
       "        <tr>\n",
       "            <td>GEOG 88    </td> <td>Connector</td> <td>http://classes.berkeley.edu/content/2018-spring-geog-88- ...</td> <td>Data Science Application in Geography</td>\n",
       "        </tr>\n",
       "    </tbody>\n",
       "        <tr>\n",
       "            <td>LEGALST 88 </td> <td>Connector</td> <td>http://classes.berkeley.edu/content/2018-spring-legalst- ...</td> <td>Crime and Punishment                 </td>\n",
       "        </tr>\n",
       "    </tbody>\n",
       "        <tr>\n",
       "            <td>LS 88-1    </td> <td>Connector</td> <td>http://classes.berkeley.edu/content/2018-spring-ls-88-1- ...</td> <td>Children in the Developing World     </td>\n",
       "        </tr>\n",
       "    </tbody>\n",
       "        <tr>\n",
       "            <td>LS 88-2    </td> <td>Connector</td> <td>http://classes.berkeley.edu/content/2018-spring-ls-88-2- ...</td> <td>Sports Analytics                     </td>\n",
       "        </tr>\n",
       "    </tbody>\n",
       "        <tr>\n",
       "            <td>MCELLBI 88 </td> <td>Connector</td> <td>http://classes.berkeley.edu/content/2018-spring-mcellbi- ...</td> <td>Immunotherapy of Cancer              </td>\n",
       "        </tr>\n",
       "    </tbody>\n",
       "</table>\n",
       "<p>... (30 rows omitted)</p"
      ],
      "text/plain": [
       "Course      | Kind      | URL                                                          | Desc\n",
       "Data 8      | Backbone  | http://classes.berkeley.edu/content/2018-spring-stat-c8- ... | Foundations of Data Science\n",
       "Data 100    | Backbone  | http://classes.berkeley.edu/content/2018-spring-compsci- ... | Principles and Techniques of DS\n",
       "STAT 140    | Backbone  | http://classes.berkeley.edu/content/2018-spring-stat-140 ... | Probability for Data Science\n",
       "COG SCI 88  | Connector | http://classes.berkeley.edu/content/2018-spring-cogsci-8 ... | Data Science and the Mind\n",
       "COMP SCI 88 | Connector | http://classes.berkeley.edu/content/2018-spring-compsci- ... | Program Structures for DS\n",
       "GEOG 88     | Connector | http://classes.berkeley.edu/content/2018-spring-geog-88- ... | Data Science Application in Geography\n",
       "LEGALST 88  | Connector | http://classes.berkeley.edu/content/2018-spring-legalst- ... | Crime and Punishment\n",
       "LS 88-1     | Connector | http://classes.berkeley.edu/content/2018-spring-ls-88-1- ... | Children in the Developing World\n",
       "LS 88-2     | Connector | http://classes.berkeley.edu/content/2018-spring-ls-88-2- ... | Sports Analytics\n",
       "MCELLBI 88  | Connector | http://classes.berkeley.edu/content/2018-spring-mcellbi- ... | Immunotherapy of Cancer\n",
       "... (30 rows omitted)"
      ]
     },
     "execution_count": 4,
     "metadata": {},
     "output_type": "execute_result"
    }
   ],
   "source": [
    "url_watch"
   ]
  },
  {
   "cell_type": "code",
   "execution_count": 5,
   "metadata": {
    "collapsed": false,
    "deletable": true,
    "editable": true
   },
   "outputs": [
    {
     "name": "stdout",
     "output_type": "stream",
     "text": [
      "http://classes.berkeley.edu/content/2018-spring-stat-c8-001-lec-001\n",
      "http://classes.berkeley.edu/content/2018-spring-compsci-c100-001-lec-001\n",
      "http://classes.berkeley.edu/content/2018-spring-stat-140-001-lec-001\n",
      "http://classes.berkeley.edu/content/2018-spring-cogsci-88-001-lec-101b\n",
      "http://classes.berkeley.edu/content/2018-spring-compsci-88-001-lec-001\n",
      "http://classes.berkeley.edu/content/2018-spring-geog-88-001-lec-001\n",
      "http://classes.berkeley.edu/content/2018-spring-legalst-88-001-sem-001\n",
      "http://classes.berkeley.edu/content/2018-spring-ls-88-1-sem-1\n",
      "http://classes.berkeley.edu/content/2018-spring-ls-88-2-sem-2\n",
      "http://classes.berkeley.edu/content/2018-spring-mcellbi-88-001-lec-001\n",
      "http://classes.berkeley.edu/content/2018-spring-psych-88-001-lec-001\n",
      "http://classes.berkeley.edu/content/2018-spring-stat-88-001-lec-001\n",
      "http://classes.berkeley.edu/content/2018-spring-stat-89a-001-lec-001\n",
      "http://classes.berkeley.edu/content/2018-spring-ugba-96-004-lec-004\n",
      "http://classes.berkeley.edu/content/2018-spring-ugba-96-005-lec-005\n",
      "http://classes.berkeley.edu/content/2018-spring-info-188-001-lec-001\n",
      "http://classes.berkeley.edu/content/2018-spring-history-c182c-001-lec-001\n",
      "http://classes.berkeley.edu/content/2018-spring-stat-28-001-lec-001\n",
      "http://classes.berkeley.edu/content/2018-spring-civeng-93-001-lec-001\n",
      "http://classes.berkeley.edu/content/2018-spring-cogsci-131-001-lec-001\n",
      "http://classes.berkeley.edu/content/2018-spring-cogsci-190-001-sem-001\n",
      "http://classes.berkeley.edu/content/2018-spring-compsci-194-129-lec-129\n",
      "http://classes.berkeley.edu/content/2018-spring-demog-180-001-lec-001\n",
      "http://classes.berkeley.edu/content/2018-spring-legalst-190-002-sem-002\n",
      "http://classes.berkeley.edu/content/2018-spring-physics-77-001-lec-001\n",
      "http://classes.berkeley.edu/content/2018-spring-psych-10-001-lec-001\n",
      "http://classes.berkeley.edu/content/2018-spring-psych-101-001-lec-001\n",
      "http://classes.berkeley.edu/content/2018-spring-stat-133-001-lec-001\n",
      "http://classes.berkeley.edu/content/2018-spring-indeng-135-001-lec-001\n",
      "http://classes.berkeley.edu/content/2018-spring-info-190-001-sem-001\n",
      "http://classes.berkeley.edu/content/2018-spring-geog-187-001-lec-001\n",
      "http://classes.berkeley.edu/content/2018-spring-envecon-c118-001-lec-001\n",
      "http://classes.berkeley.edu/content/2018-spring-ias-c118-001-lec-001\n",
      "http://classes.berkeley.edu/content/2018-spring-sociol-106-001-sem-001\n",
      "http://classes.berkeley.edu/content/2018-spring-compsci-189-001-lec-001\n",
      "http://classes.berkeley.edu/content/2018-spring-stat-154-001-lec-001\n",
      "http://classes.berkeley.edu/content/2018-spring-stat-134-001-lec-001\n",
      "http://classes.berkeley.edu/content/2018-spring-compsci-61a-001-lec-001\n",
      "http://classes.berkeley.edu/content/2018-spring-compsci-61b-001-lec-001\n",
      "http://classes.berkeley.edu/content/2018-spring-compsci-186-001-lec-001\n"
     ]
    }
   ],
   "source": [
    "# Execute this cell to get fetch the current enrollments from schedule\n",
    "current_enrollments = lookup_courses(url_watch)"
   ]
  },
  {
   "cell_type": "code",
   "execution_count": 8,
   "metadata": {
    "collapsed": false,
    "deletable": true,
    "editable": true
   },
   "outputs": [
    {
     "data": {
      "text/html": [
       "<table border=\"1\" class=\"dataframe\">\n",
       "    <thead>\n",
       "        <tr>\n",
       "            <th>Course</th> <th>Description</th> <th>Kind</th> <th>Demand</th> <th>Limit</th> <th>Enrolled</th> <th>Waitlisted</th> <th>Net Open</th> <th>Fill Ratio</th>\n",
       "        </tr>\n",
       "    </thead>\n",
       "    <tbody>\n",
       "        <tr>\n",
       "            <td>Data 8         </td> <td>Foundations of Data Science                                 </td> <td>Backbone    </td> <td>1,144 </td> <td>1,026</td> <td>1,023   </td> <td>121       </td> <td>-118    </td> <td>1.11501   </td>\n",
       "        </tr>\n",
       "    </tbody>\n",
       "        <tr>\n",
       "            <td>Data 100       </td> <td>Principles and Techniques of DS                             </td> <td>Backbone    </td> <td>665   </td> <td>600  </td> <td>600     </td> <td>65        </td> <td>-65     </td> <td>1.10833   </td>\n",
       "        </tr>\n",
       "    </tbody>\n",
       "        <tr>\n",
       "            <td>STAT 140       </td> <td>Probability for Data Science                                </td> <td>Backbone    </td> <td>129   </td> <td>120  </td> <td>118     </td> <td>11        </td> <td>-9      </td> <td>1.075     </td>\n",
       "        </tr>\n",
       "    </tbody>\n",
       "        <tr>\n",
       "            <td>COG SCI 88     </td> <td>Data Science and the Mind                                   </td> <td>Connector   </td> <td>34    </td> <td>25   </td> <td>25      </td> <td>9         </td> <td>-9      </td> <td>1.36      </td>\n",
       "        </tr>\n",
       "    </tbody>\n",
       "        <tr>\n",
       "            <td>COMP SCI 88    </td> <td>Program Structures for DS                                   </td> <td>Connector   </td> <td>137   </td> <td>112  </td> <td>112     </td> <td>25        </td> <td>-25     </td> <td>1.22321   </td>\n",
       "        </tr>\n",
       "    </tbody>\n",
       "        <tr>\n",
       "            <td>GEOG 88        </td> <td>Data Science Application in Geography                       </td> <td>Connector   </td> <td>23    </td> <td>30   </td> <td>23      </td> <td>0         </td> <td>7       </td> <td>0.766667  </td>\n",
       "        </tr>\n",
       "    </tbody>\n",
       "        <tr>\n",
       "            <td>LEGALST 88     </td> <td>Crime and Punishment                                        </td> <td>Connector   </td> <td>38    </td> <td>30   </td> <td>30      </td> <td>8         </td> <td>-8      </td> <td>1.26667   </td>\n",
       "        </tr>\n",
       "    </tbody>\n",
       "        <tr>\n",
       "            <td>LS 88-1        </td> <td>Children in the Developing World                            </td> <td>Connector   </td> <td>17    </td> <td>32   </td> <td>17      </td> <td>0         </td> <td>15      </td> <td>0.53125   </td>\n",
       "        </tr>\n",
       "    </tbody>\n",
       "        <tr>\n",
       "            <td>LS 88-2        </td> <td>Sports Analytics                                            </td> <td>Connector   </td> <td>38    </td> <td>32   </td> <td>32      </td> <td>6         </td> <td>-6      </td> <td>1.1875    </td>\n",
       "        </tr>\n",
       "    </tbody>\n",
       "        <tr>\n",
       "            <td>MCELLBI 88     </td> <td>Immunotherapy of Cancer                                     </td> <td>Connector   </td> <td>25    </td> <td>20   </td> <td>20      </td> <td>5         </td> <td>-5      </td> <td>1.25      </td>\n",
       "        </tr>\n",
       "    </tbody>\n",
       "        <tr>\n",
       "            <td>Psych 88       </td> <td>Data Science for Cog Neuro                                  </td> <td>Connector   </td> <td>10    </td> <td>30   </td> <td>10      </td> <td>0         </td> <td>20      </td> <td>0.333333  </td>\n",
       "        </tr>\n",
       "    </tbody>\n",
       "        <tr>\n",
       "            <td>stat88         </td> <td>Probability and Mathematical Statistics in Data Science     </td> <td>Connector   </td> <td>160   </td> <td>130  </td> <td>130     </td> <td>30        </td> <td>-30     </td> <td>1.23077   </td>\n",
       "        </tr>\n",
       "    </tbody>\n",
       "        <tr>\n",
       "            <td>stat 89b       </td> <td>Linear Algebra for Data Science                             </td> <td>Connector   </td> <td>31    </td> <td>50   </td> <td>31      </td> <td>0         </td> <td>19      </td> <td>0.62      </td>\n",
       "        </tr>\n",
       "    </tbody>\n",
       "        <tr>\n",
       "            <td>UGBA 96-4      </td> <td>Data & Decisions                                            </td> <td>Connector   </td> <td>71    </td> <td>62   </td> <td>61      </td> <td>10        </td> <td>-9      </td> <td>1.14516   </td>\n",
       "        </tr>\n",
       "    </tbody>\n",
       "        <tr>\n",
       "            <td>UGBA 96-5      </td> <td>Data & Decisions                                            </td> <td>Connector   </td> <td>69    </td> <td>62   </td> <td>62      </td> <td>7         </td> <td>-7      </td> <td>1.1129    </td>\n",
       "        </tr>\n",
       "    </tbody>\n",
       "        <tr>\n",
       "            <td>Info 188       </td> <td>Behind the Data: Humans and Values                          </td> <td>HCE         </td> <td>55    </td> <td>49   </td> <td>49      </td> <td>6         </td> <td>-6      </td> <td>1.12245   </td>\n",
       "        </tr>\n",
       "    </tbody>\n",
       "        <tr>\n",
       "            <td>Hist c182      </td> <td>Introduction to STS: Human Contexts and Ethics of Data      </td> <td>HCE         </td> <td>30    </td> <td>100  </td> <td>24      </td> <td>6         </td> <td>70      </td> <td>0.3       </td>\n",
       "        </tr>\n",
       "    </tbody>\n",
       "        <tr>\n",
       "            <td>Stat28         </td> <td>Statistical Methods for Data Science                        </td> <td>Data-Enabled</td> <td>25    </td> <td>60   </td> <td>25      </td> <td>0         </td> <td>35      </td> <td>0.416667  </td>\n",
       "        </tr>\n",
       "    </tbody>\n",
       "        <tr>\n",
       "            <td>CIVENG 98      </td> <td>Engineering Data Analysis                                   </td> <td>Data-Enabled</td> <td>60    </td> <td>68   </td> <td>55      </td> <td>5         </td> <td>8       </td> <td>0.882353  </td>\n",
       "        </tr>\n",
       "    </tbody>\n",
       "        <tr>\n",
       "            <td>COGSCI 131     </td> <td>Computational Models of Cognition                           </td> <td>Data-Enabled</td> <td>336   </td> <td>299  </td> <td>297     </td> <td>39        </td> <td>-37     </td> <td>1.12375   </td>\n",
       "        </tr>\n",
       "    </tbody>\n",
       "        <tr>\n",
       "            <td>COGSCI 190-1   </td> <td>Sensemaking and Organizing                                  </td> <td>Data-Enabled</td> <td>35    </td> <td>25   </td> <td>25      </td> <td>10        </td> <td>-10     </td> <td>1.4       </td>\n",
       "        </tr>\n",
       "    </tbody>\n",
       "        <tr>\n",
       "            <td>COMPSCI 194-129</td> <td>Designing, Visualizing and Understanding Deep Neural Net ...</td> <td>Data-Enabled</td> <td>210   </td> <td>108  </td> <td>108     </td> <td>102       </td> <td>-102    </td> <td>1.94444   </td>\n",
       "        </tr>\n",
       "    </tbody>\n",
       "        <tr>\n",
       "            <td>DEMOG 180      </td> <td>Social Networks                                             </td> <td>Data-Enabled</td> <td>40    </td> <td>100  </td> <td>40      </td> <td>0         </td> <td>60      </td> <td>0.4       </td>\n",
       "        </tr>\n",
       "    </tbody>\n",
       "        <tr>\n",
       "            <td>LEGALST 190-2  </td> <td>Data, Prediction, and Law                                   </td> <td>Data-Enabled</td> <td>17    </td> <td>30   </td> <td>17      </td> <td>0         </td> <td>13      </td> <td>0.566667  </td>\n",
       "        </tr>\n",
       "    </tbody>\n",
       "        <tr>\n",
       "            <td>PHYSICS 77     </td> <td>Intro to Comp Techs in Physics                              </td> <td>Data-Enabled</td> <td>49    </td> <td>58   </td> <td>49      </td> <td>0         </td> <td>9       </td> <td>0.844828  </td>\n",
       "        </tr>\n",
       "    </tbody>\n",
       "        <tr>\n",
       "            <td>PSYCH 10       </td> <td>Research & Data Analysis in Psych                           </td> <td>Data-Enabled</td> <td>44    </td> <td>40   </td> <td>40      </td> <td>4         </td> <td>-4      </td> <td>1.1       </td>\n",
       "        </tr>\n",
       "    </tbody>\n",
       "        <tr>\n",
       "            <td>PSYCH 101      </td> <td>Research & Data Analysis in Psych                           </td> <td>Data-Enabled</td> <td>184   </td> <td>175  </td> <td>170     </td> <td>14        </td> <td>-9      </td> <td>1.05143   </td>\n",
       "        </tr>\n",
       "    </tbody>\n",
       "        <tr>\n",
       "            <td>STAT 133       </td> <td>Concepts in Computing with Data                             </td> <td>Data-Enabled</td> <td>397   </td> <td>360  </td> <td>349     </td> <td>48        </td> <td>-37     </td> <td>1.10278   </td>\n",
       "        </tr>\n",
       "    </tbody>\n",
       "        <tr>\n",
       "            <td>IEOR135        </td> <td>Applied DS w Venture Applns                                 </td> <td>Data-Enabled</td> <td>112   </td> <td>90   </td> <td>90      </td> <td>22        </td> <td>-22     </td> <td>1.24444   </td>\n",
       "        </tr>\n",
       "    </tbody>\n",
       "        <tr>\n",
       "            <td>INFO 190-1     </td> <td>Data Mining & Analytics                                     </td> <td>Data-Enabled</td> <td>50    </td> <td>25   </td> <td>25      </td> <td>25        </td> <td>-25     </td> <td>2         </td>\n",
       "        </tr>\n",
       "    </tbody>\n",
       "        <tr>\n",
       "            <td>GEOG 187       </td> <td>Geographic Info Analysis                                    </td> <td>Data-Enabled</td> <td>76    </td> <td>60   </td> <td>60      </td> <td>16        </td> <td>-16     </td> <td>1.26667   </td>\n",
       "        </tr>\n",
       "    </tbody>\n",
       "        <tr>\n",
       "            <td>ENVECON C118   </td> <td>Intro Applied Econometrics                                  </td> <td>Data-Enabled</td> <td>99    </td> <td>110  </td> <td>78      </td> <td>21        </td> <td>11      </td> <td>0.9       </td>\n",
       "        </tr>\n",
       "    </tbody>\n",
       "        <tr>\n",
       "            <td>IAS C118       </td> <td>Intro Applied Econometrics                                  </td> <td>Data-Enabled</td> <td>16    </td> <td>16   </td> <td>15      </td> <td>1         </td> <td>0       </td> <td>1         </td>\n",
       "        </tr>\n",
       "    </tbody>\n",
       "        <tr>\n",
       "            <td>SOCIOL 106     </td> <td>Quant Sociological Methods                                  </td> <td>Data-Enabled</td> <td>20    </td> <td>25   </td> <td>20      </td> <td>0         </td> <td>5       </td> <td>0.8       </td>\n",
       "        </tr>\n",
       "    </tbody>\n",
       "        <tr>\n",
       "            <td>COMPSCI 189    </td> <td>Intro to Machine Learning                                   </td> <td>Data-Enabled</td> <td>536   </td> <td>400  </td> <td>400     </td> <td>136       </td> <td>-136    </td> <td>1.34      </td>\n",
       "        </tr>\n",
       "    </tbody>\n",
       "        <tr>\n",
       "            <td>STAT 154       </td> <td>Modern Statistical Prediction and Machine Learning          </td> <td>Data-Enabled</td> <td>86    </td> <td>70   </td> <td>70      </td> <td>16        </td> <td>-16     </td> <td>1.22857   </td>\n",
       "        </tr>\n",
       "    </tbody>\n",
       "        <tr>\n",
       "            <td>STAT 134       </td> <td>                                                            </td> <td>Upper       </td> <td>382   </td> <td>396  </td> <td>375     </td> <td>7         </td> <td>14      </td> <td>0.964646  </td>\n",
       "        </tr>\n",
       "    </tbody>\n",
       "        <tr>\n",
       "            <td>CS 61A         </td> <td>                                                            </td> <td>Lower       </td> <td>1,339 </td> <td>1,400</td> <td>1,332   </td> <td>7         </td> <td>61      </td> <td>0.956429  </td>\n",
       "        </tr>\n",
       "    </tbody>\n",
       "        <tr>\n",
       "            <td>CS 61B         </td> <td>                                                            </td> <td>Lower       </td> <td>1,451 </td> <td>1,350</td> <td>1,333   </td> <td>118       </td> <td>-101    </td> <td>1.07481   </td>\n",
       "        </tr>\n",
       "    </tbody>\n",
       "        <tr>\n",
       "            <td>CS 186         </td> <td>                                                            </td> <td>Upper       </td> <td>482   </td> <td>441  </td> <td>441     </td> <td>41        </td> <td>-41     </td> <td>1.09297   </td>\n",
       "        </tr>\n",
       "    </tbody>\n",
       "</table>"
      ],
      "text/plain": [
       "<IPython.core.display.HTML object>"
      ]
     },
     "metadata": {},
     "output_type": "display_data"
    }
   ],
   "source": [
    "current_enrollments['Net Open'] = current_enrollments['Limit'] - current_enrollments['Demand']\n",
    "current_enrollments['Fill Ratio'] = current_enrollments['Demand'] / current_enrollments['Limit']\n",
    "current_enrollments.show()"
   ]
  },
  {
   "cell_type": "code",
   "execution_count": 9,
   "metadata": {
    "collapsed": false
   },
   "outputs": [],
   "source": [
    "def summary_of_kind(kind, enrollments):\n",
    "    summary = enrollments.where('Kind', kind).drop(['Kind', 'Fill Ratio'])\n",
    "    summary.append(['Total', ''] +  [sum(summary[lbl]) for lbl in summary.labels[2:]])\n",
    "    summary['Fill Raio'] = summary['Demand'] / summary['Limit']\n",
    "    return summary"
   ]
  },
  {
   "cell_type": "code",
   "execution_count": 10,
   "metadata": {
    "collapsed": false
   },
   "outputs": [
    {
     "data": {
      "text/html": [
       "<table border=\"1\" class=\"dataframe\">\n",
       "    <thead>\n",
       "        <tr>\n",
       "            <th>Course</th> <th>Description</th> <th>Demand</th> <th>Limit</th> <th>Enrolled</th> <th>Waitlisted</th> <th>Net Open</th> <th>Fill Raio</th>\n",
       "        </tr>\n",
       "    </thead>\n",
       "    <tbody>\n",
       "        <tr>\n",
       "            <td>Data 8  </td> <td>Foundations of Data Science    </td> <td>1,144 </td> <td>1,026</td> <td>1,023   </td> <td>121       </td> <td>-118    </td> <td>1.11501  </td>\n",
       "        </tr>\n",
       "    </tbody>\n",
       "        <tr>\n",
       "            <td>Data 100</td> <td>Principles and Techniques of DS</td> <td>665   </td> <td>600  </td> <td>600     </td> <td>65        </td> <td>-65     </td> <td>1.10833  </td>\n",
       "        </tr>\n",
       "    </tbody>\n",
       "        <tr>\n",
       "            <td>STAT 140</td> <td>Probability for Data Science   </td> <td>129   </td> <td>120  </td> <td>118     </td> <td>11        </td> <td>-9      </td> <td>1.075    </td>\n",
       "        </tr>\n",
       "    </tbody>\n",
       "        <tr>\n",
       "            <td>Total   </td> <td>                               </td> <td>1,938 </td> <td>1,746</td> <td>1,741   </td> <td>197       </td> <td>-192    </td> <td>1.10997  </td>\n",
       "        </tr>\n",
       "    </tbody>\n",
       "</table>"
      ],
      "text/plain": [
       "<IPython.core.display.HTML object>"
      ]
     },
     "metadata": {},
     "output_type": "display_data"
    }
   ],
   "source": [
    "backbone = summary_of_kind('Backbone', current_enrollments)\n",
    "backbone.show()"
   ]
  },
  {
   "cell_type": "code",
   "execution_count": 11,
   "metadata": {
    "collapsed": false
   },
   "outputs": [
    {
     "data": {
      "text/html": [
       "<table border=\"1\" class=\"dataframe\">\n",
       "    <thead>\n",
       "        <tr>\n",
       "            <th>Course</th> <th>Description</th> <th>Demand</th> <th>Limit</th> <th>Enrolled</th> <th>Waitlisted</th> <th>Net Open</th> <th>Fill Raio</th>\n",
       "        </tr>\n",
       "    </thead>\n",
       "    <tbody>\n",
       "        <tr>\n",
       "            <td>COG SCI 88 </td> <td>Data Science and the Mind                              </td> <td>34    </td> <td>25   </td> <td>25      </td> <td>9         </td> <td>-9      </td> <td>1.36     </td>\n",
       "        </tr>\n",
       "    </tbody>\n",
       "        <tr>\n",
       "            <td>COMP SCI 88</td> <td>Program Structures for DS                              </td> <td>137   </td> <td>112  </td> <td>112     </td> <td>25        </td> <td>-25     </td> <td>1.22321  </td>\n",
       "        </tr>\n",
       "    </tbody>\n",
       "        <tr>\n",
       "            <td>GEOG 88    </td> <td>Data Science Application in Geography                  </td> <td>23    </td> <td>30   </td> <td>23      </td> <td>0         </td> <td>7       </td> <td>0.766667 </td>\n",
       "        </tr>\n",
       "    </tbody>\n",
       "        <tr>\n",
       "            <td>LEGALST 88 </td> <td>Crime and Punishment                                   </td> <td>38    </td> <td>30   </td> <td>30      </td> <td>8         </td> <td>-8      </td> <td>1.26667  </td>\n",
       "        </tr>\n",
       "    </tbody>\n",
       "        <tr>\n",
       "            <td>LS 88-1    </td> <td>Children in the Developing World                       </td> <td>17    </td> <td>32   </td> <td>17      </td> <td>0         </td> <td>15      </td> <td>0.53125  </td>\n",
       "        </tr>\n",
       "    </tbody>\n",
       "        <tr>\n",
       "            <td>LS 88-2    </td> <td>Sports Analytics                                       </td> <td>38    </td> <td>32   </td> <td>32      </td> <td>6         </td> <td>-6      </td> <td>1.1875   </td>\n",
       "        </tr>\n",
       "    </tbody>\n",
       "        <tr>\n",
       "            <td>MCELLBI 88 </td> <td>Immunotherapy of Cancer                                </td> <td>25    </td> <td>20   </td> <td>20      </td> <td>5         </td> <td>-5      </td> <td>1.25     </td>\n",
       "        </tr>\n",
       "    </tbody>\n",
       "        <tr>\n",
       "            <td>Psych 88   </td> <td>Data Science for Cog Neuro                             </td> <td>10    </td> <td>30   </td> <td>10      </td> <td>0         </td> <td>20      </td> <td>0.333333 </td>\n",
       "        </tr>\n",
       "    </tbody>\n",
       "        <tr>\n",
       "            <td>stat88     </td> <td>Probability and Mathematical Statistics in Data Science</td> <td>160   </td> <td>130  </td> <td>130     </td> <td>30        </td> <td>-30     </td> <td>1.23077  </td>\n",
       "        </tr>\n",
       "    </tbody>\n",
       "        <tr>\n",
       "            <td>stat 89b   </td> <td>Linear Algebra for Data Science                        </td> <td>31    </td> <td>50   </td> <td>31      </td> <td>0         </td> <td>19      </td> <td>0.62     </td>\n",
       "        </tr>\n",
       "    </tbody>\n",
       "        <tr>\n",
       "            <td>UGBA 96-4  </td> <td>Data & Decisions                                       </td> <td>71    </td> <td>62   </td> <td>61      </td> <td>10        </td> <td>-9      </td> <td>1.14516  </td>\n",
       "        </tr>\n",
       "    </tbody>\n",
       "        <tr>\n",
       "            <td>UGBA 96-5  </td> <td>Data & Decisions                                       </td> <td>69    </td> <td>62   </td> <td>62      </td> <td>7         </td> <td>-7      </td> <td>1.1129   </td>\n",
       "        </tr>\n",
       "    </tbody>\n",
       "        <tr>\n",
       "            <td>Total      </td> <td>                                                       </td> <td>653   </td> <td>615  </td> <td>553     </td> <td>100       </td> <td>-38     </td> <td>1.06179  </td>\n",
       "        </tr>\n",
       "    </tbody>\n",
       "</table>"
      ],
      "text/plain": [
       "<IPython.core.display.HTML object>"
      ]
     },
     "metadata": {},
     "output_type": "display_data"
    }
   ],
   "source": [
    "connector = summary_of_kind('Connector', current_enrollments)\n",
    "connector.show()"
   ]
  },
  {
   "cell_type": "code",
   "execution_count": 12,
   "metadata": {
    "collapsed": false
   },
   "outputs": [
    {
     "data": {
      "text/plain": [
       "0.5405669599217986"
      ]
     },
     "execution_count": 12,
     "metadata": {},
     "output_type": "execute_result"
    }
   ],
   "source": [
    "# Ratio connector to data 8 enrolled\n",
    "(connector.where('Course', 'Total')['Enrolled']/backbone.where('Course', 'Data 8')['Enrolled'])[0]"
   ]
  },
  {
   "cell_type": "code",
   "execution_count": 13,
   "metadata": {
    "collapsed": false
   },
   "outputs": [
    {
     "data": {
      "text/plain": [
       "0.57080419580419584"
      ]
     },
     "execution_count": 13,
     "metadata": {},
     "output_type": "execute_result"
    }
   ],
   "source": [
    "# Ratio connector to data 8 demand\n",
    "(connector.where('Course', 'Total')['Demand']/backbone.where('Course', 'Data 8')['Demand'])[0]"
   ]
  },
  {
   "cell_type": "code",
   "execution_count": 14,
   "metadata": {
    "collapsed": false
   },
   "outputs": [
    {
     "data": {
      "text/html": [
       "<table border=\"1\" class=\"dataframe\">\n",
       "    <thead>\n",
       "        <tr>\n",
       "            <th>Course</th> <th>Description</th> <th>Demand</th> <th>Limit</th> <th>Enrolled</th> <th>Waitlisted</th> <th>Net Open</th> <th>Fill Raio</th>\n",
       "        </tr>\n",
       "    </thead>\n",
       "    <tbody>\n",
       "        <tr>\n",
       "            <td>Info 188 </td> <td>Behind the Data: Humans and Values                    </td> <td>55    </td> <td>49   </td> <td>49      </td> <td>6         </td> <td>-6      </td> <td>1.12245  </td>\n",
       "        </tr>\n",
       "    </tbody>\n",
       "        <tr>\n",
       "            <td>Hist c182</td> <td>Introduction to STS: Human Contexts and Ethics of Data</td> <td>30    </td> <td>100  </td> <td>24      </td> <td>6         </td> <td>70      </td> <td>0.3      </td>\n",
       "        </tr>\n",
       "    </tbody>\n",
       "        <tr>\n",
       "            <td>Total    </td> <td>                                                      </td> <td>85    </td> <td>149  </td> <td>73      </td> <td>12        </td> <td>64      </td> <td>0.57047  </td>\n",
       "        </tr>\n",
       "    </tbody>\n",
       "</table>"
      ],
      "text/plain": [
       "Course    | Description                                            | Demand | Limit | Enrolled | Waitlisted | Net Open | Fill Raio\n",
       "Info 188  | Behind the Data: Humans and Values                     | 55     | 49    | 49       | 6          | -6       | 1.12245\n",
       "Hist c182 | Introduction to STS: Human Contexts and Ethics of Data | 30     | 100   | 24       | 6          | 70       | 0.3\n",
       "Total     |                                                        | 85     | 149   | 73       | 12         | 64       | 0.57047"
      ]
     },
     "execution_count": 14,
     "metadata": {},
     "output_type": "execute_result"
    }
   ],
   "source": [
    "summary_of_kind('HCE', current_enrollments)"
   ]
  },
  {
   "cell_type": "code",
   "execution_count": 19,
   "metadata": {
    "collapsed": false
   },
   "outputs": [
    {
     "data": {
      "text/html": [
       "<table border=\"1\" class=\"dataframe\">\n",
       "    <thead>\n",
       "        <tr>\n",
       "            <th>Course</th> <th>Description</th> <th>Demand</th> <th>Limit</th> <th>Enrolled</th> <th>Waitlisted</th> <th>Net Open</th> <th>Fill Raio</th>\n",
       "        </tr>\n",
       "    </thead>\n",
       "    <tbody>\n",
       "        <tr>\n",
       "            <td>Stat28         </td> <td>Statistical Methods for Data Science                        </td> <td>25    </td> <td>60   </td> <td>25      </td> <td>0         </td> <td>35      </td> <td>0.416667 </td>\n",
       "        </tr>\n",
       "    </tbody>\n",
       "        <tr>\n",
       "            <td>CIVENG 98      </td> <td>Engineering Data Analysis                                   </td> <td>60    </td> <td>68   </td> <td>55      </td> <td>5         </td> <td>8       </td> <td>0.882353 </td>\n",
       "        </tr>\n",
       "    </tbody>\n",
       "        <tr>\n",
       "            <td>COGSCI 131     </td> <td>Computational Models of Cognition                           </td> <td>336   </td> <td>299  </td> <td>297     </td> <td>39        </td> <td>-37     </td> <td>1.12375  </td>\n",
       "        </tr>\n",
       "    </tbody>\n",
       "        <tr>\n",
       "            <td>COGSCI 190-1   </td> <td>Sensemaking and Organizing                                  </td> <td>35    </td> <td>25   </td> <td>25      </td> <td>10        </td> <td>-10     </td> <td>1.4      </td>\n",
       "        </tr>\n",
       "    </tbody>\n",
       "        <tr>\n",
       "            <td>COMPSCI 194-129</td> <td>Designing, Visualizing and Understanding Deep Neural Net ...</td> <td>210   </td> <td>108  </td> <td>108     </td> <td>102       </td> <td>-102    </td> <td>1.94444  </td>\n",
       "        </tr>\n",
       "    </tbody>\n",
       "        <tr>\n",
       "            <td>DEMOG 180      </td> <td>Social Networks                                             </td> <td>40    </td> <td>100  </td> <td>40      </td> <td>0         </td> <td>60      </td> <td>0.4      </td>\n",
       "        </tr>\n",
       "    </tbody>\n",
       "        <tr>\n",
       "            <td>LEGALST 190-2  </td> <td>Data, Prediction, and Law                                   </td> <td>17    </td> <td>30   </td> <td>17      </td> <td>0         </td> <td>13      </td> <td>0.566667 </td>\n",
       "        </tr>\n",
       "    </tbody>\n",
       "        <tr>\n",
       "            <td>PHYSICS 77     </td> <td>Intro to Comp Techs in Physics                              </td> <td>49    </td> <td>58   </td> <td>49      </td> <td>0         </td> <td>9       </td> <td>0.844828 </td>\n",
       "        </tr>\n",
       "    </tbody>\n",
       "        <tr>\n",
       "            <td>PSYCH 10       </td> <td>Research & Data Analysis in Psych                           </td> <td>44    </td> <td>40   </td> <td>40      </td> <td>4         </td> <td>-4      </td> <td>1.1      </td>\n",
       "        </tr>\n",
       "    </tbody>\n",
       "        <tr>\n",
       "            <td>PSYCH 101      </td> <td>Research & Data Analysis in Psych                           </td> <td>184   </td> <td>175  </td> <td>170     </td> <td>14        </td> <td>-9      </td> <td>1.05143  </td>\n",
       "        </tr>\n",
       "    </tbody>\n",
       "        <tr>\n",
       "            <td>STAT 133       </td> <td>Concepts in Computing with Data                             </td> <td>397   </td> <td>360  </td> <td>349     </td> <td>48        </td> <td>-37     </td> <td>1.10278  </td>\n",
       "        </tr>\n",
       "    </tbody>\n",
       "        <tr>\n",
       "            <td>IEOR135        </td> <td>Applied DS w Venture Applns                                 </td> <td>112   </td> <td>90   </td> <td>90      </td> <td>22        </td> <td>-22     </td> <td>1.24444  </td>\n",
       "        </tr>\n",
       "    </tbody>\n",
       "        <tr>\n",
       "            <td>INFO 190-1     </td> <td>Data Mining & Analytics                                     </td> <td>50    </td> <td>25   </td> <td>25      </td> <td>25        </td> <td>-25     </td> <td>2        </td>\n",
       "        </tr>\n",
       "    </tbody>\n",
       "        <tr>\n",
       "            <td>GEOG 187       </td> <td>Geographic Info Analysis                                    </td> <td>76    </td> <td>60   </td> <td>60      </td> <td>16        </td> <td>-16     </td> <td>1.26667  </td>\n",
       "        </tr>\n",
       "    </tbody>\n",
       "        <tr>\n",
       "            <td>ENVECON C118   </td> <td>Intro Applied Econometrics                                  </td> <td>99    </td> <td>110  </td> <td>78      </td> <td>21        </td> <td>11      </td> <td>0.9      </td>\n",
       "        </tr>\n",
       "    </tbody>\n",
       "        <tr>\n",
       "            <td>IAS C118       </td> <td>Intro Applied Econometrics                                  </td> <td>16    </td> <td>16   </td> <td>15      </td> <td>1         </td> <td>0       </td> <td>1        </td>\n",
       "        </tr>\n",
       "    </tbody>\n",
       "        <tr>\n",
       "            <td>SOCIOL 106     </td> <td>Quant Sociological Methods                                  </td> <td>20    </td> <td>25   </td> <td>20      </td> <td>0         </td> <td>5       </td> <td>0.8      </td>\n",
       "        </tr>\n",
       "    </tbody>\n",
       "        <tr>\n",
       "            <td>COMPSCI 189    </td> <td>Intro to Machine Learning                                   </td> <td>536   </td> <td>400  </td> <td>400     </td> <td>136       </td> <td>-136    </td> <td>1.34     </td>\n",
       "        </tr>\n",
       "    </tbody>\n",
       "        <tr>\n",
       "            <td>STAT 154       </td> <td>Modern Statistical Prediction and Machine Learning          </td> <td>86    </td> <td>70   </td> <td>70      </td> <td>16        </td> <td>-16     </td> <td>1.22857  </td>\n",
       "        </tr>\n",
       "    </tbody>\n",
       "        <tr>\n",
       "            <td>Total          </td> <td>                                                            </td> <td>2,392 </td> <td>2,119</td> <td>1,933   </td> <td>459       </td> <td>-273    </td> <td>1.12883  </td>\n",
       "        </tr>\n",
       "    </tbody>\n",
       "</table>"
      ],
      "text/plain": [
       "<IPython.core.display.HTML object>"
      ]
     },
     "metadata": {},
     "output_type": "display_data"
    }
   ],
   "source": [
    "summary_of_kind('Data-Enabled', current_enrollments).show()"
   ]
  },
  {
   "cell_type": "code",
   "execution_count": 20,
   "metadata": {
    "collapsed": false,
    "deletable": true,
    "editable": true
   },
   "outputs": [
    {
     "data": {
      "text/html": [
       "<table border=\"1\" class=\"dataframe\">\n",
       "    <thead>\n",
       "        <tr>\n",
       "            <th>Kind</th> <th>Course sum</th> <th>Description sum</th> <th>Demand sum</th> <th>Limit sum</th> <th>Enrolled sum</th> <th>Waitlisted sum</th> <th>Net Open sum</th> <th>Fill Ratio sum</th>\n",
       "        </tr>\n",
       "    </thead>\n",
       "    <tbody>\n",
       "        <tr>\n",
       "            <td>Backbone    </td> <td>          </td> <td>               </td> <td>1,938     </td> <td>1,746    </td> <td>1,741       </td> <td>197           </td> <td>-192        </td> <td>3.29834       </td>\n",
       "        </tr>\n",
       "    </tbody>\n",
       "        <tr>\n",
       "            <td>Connector   </td> <td>          </td> <td>               </td> <td>653       </td> <td>615      </td> <td>553         </td> <td>100           </td> <td>-38         </td> <td>12.0275       </td>\n",
       "        </tr>\n",
       "    </tbody>\n",
       "        <tr>\n",
       "            <td>Data-Enabled</td> <td>          </td> <td>               </td> <td>2,392     </td> <td>2,119    </td> <td>1,933       </td> <td>459           </td> <td>-273        </td> <td>20.6126       </td>\n",
       "        </tr>\n",
       "    </tbody>\n",
       "        <tr>\n",
       "            <td>HCE         </td> <td>          </td> <td>               </td> <td>85        </td> <td>149      </td> <td>73          </td> <td>12            </td> <td>64          </td> <td>1.42245       </td>\n",
       "        </tr>\n",
       "    </tbody>\n",
       "        <tr>\n",
       "            <td>Lower       </td> <td>          </td> <td>               </td> <td>2,790     </td> <td>2,750    </td> <td>2,665       </td> <td>125           </td> <td>-40         </td> <td>2.03124       </td>\n",
       "        </tr>\n",
       "    </tbody>\n",
       "        <tr>\n",
       "            <td>Upper       </td> <td>          </td> <td>               </td> <td>864       </td> <td>837      </td> <td>816         </td> <td>48            </td> <td>-27         </td> <td>2.05762       </td>\n",
       "        </tr>\n",
       "    </tbody>\n",
       "</table>"
      ],
      "text/plain": [
       "Kind         | Course sum | Description sum | Demand sum | Limit sum | Enrolled sum | Waitlisted sum | Net Open sum | Fill Ratio sum\n",
       "Backbone     |            |                 | 1,938      | 1,746     | 1,741        | 197            | -192         | 3.29834\n",
       "Connector    |            |                 | 653        | 615       | 553          | 100            | -38          | 12.0275\n",
       "Data-Enabled |            |                 | 2,392      | 2,119     | 1,933        | 459            | -273         | 20.6126\n",
       "HCE          |            |                 | 85         | 149       | 73           | 12             | 64           | 1.42245\n",
       "Lower        |            |                 | 2,790      | 2,750     | 2,665        | 125            | -40          | 2.03124\n",
       "Upper        |            |                 | 864        | 837       | 816          | 48             | -27          | 2.05762"
      ]
     },
     "execution_count": 20,
     "metadata": {},
     "output_type": "execute_result"
    }
   ],
   "source": [
    "by_group = current_enrollments.group('Kind', collect=sum)\n",
    "by_group"
   ]
  },
  {
   "cell_type": "code",
   "execution_count": 21,
   "metadata": {
    "collapsed": false,
    "deletable": true,
    "editable": true
   },
   "outputs": [
    {
     "data": {
      "image/png": "[encoded data removed]",
      "text/plain": [
       "<matplotlib.figure.Figure at 0x1175a2240>"
      ]
     },
     "metadata": {},
     "output_type": "display_data"
    }
   ],
   "source": [
    "by_group.barh('Kind', 'Demand sum')"
   ]
  },
  {
   "cell_type": "code",
   "execution_count": 22,
   "metadata": {
    "collapsed": false,
    "deletable": true,
    "editable": true
   },
   "outputs": [
    {
     "data": {
      "text/plain": [
       "8722"
      ]
     },
     "execution_count": 22,
     "metadata": {},
     "output_type": "execute_result"
    }
   ],
   "source": [
    "sum(by_group['Demand sum'])"
   ]
  },
  {
   "cell_type": "code",
   "execution_count": null,
   "metadata": {
    "collapsed": true,
    "deletable": true,
    "editable": true
   },
   "outputs": [],
   "source": []
  }
 ],
 "metadata": {
  "anaconda-cloud": {},
  "kernelspec": {
   "display_name": "Python [default]",
   "language": "python",
   "name": "python3"
  },
  "language_info": {
   "codemirror_mode": {
    "name": "ipython",
    "version": 3
   },
   "file_extension": ".py",
   "mimetype": "text/x-python",
   "name": "python",
   "nbconvert_exporter": "python",
   "pygments_lexer": "ipython3",
   "version": "3.5.3"
  }
 },
 "nbformat": 4,
 "nbformat_minor": 2
}
