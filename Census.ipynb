{
 "cells": [
  {
   "cell_type": "markdown",
   "metadata": {
    "deletable": true,
    "editable": true
   },
   "source": [
    "# Wrangling data in Tables\n",
    "\n",
    "## David Culler\n",
    "\n",
    "This notebook illustrates several of the datascience tables methods for wrangling typical data.\n",
    "Here we use some simple census data.  Even that is pretty obscure.  We illustrate the process \n",
    "of going from raw data to a distilled form and then answer a simple question: \"How does the\n",
    "relative difference of males and females vary with age?\" The answer, there are bit more boys,\n",
    "but a LOT less old men."
   ]
  },
  {
   "cell_type": "code",
   "execution_count": null,
   "metadata": {
    "collapsed": false,
    "deletable": true,
    "editable": true
   },
   "outputs": [],
   "source": [
    "# HIDDEN\n",
    "from datascience import *\n",
    "%matplotlib inline\n",
    "import matplotlib.pyplot as plots\n",
    "plots.style.use('fivethirtyeight')"
   ]
  },
  {
   "cell_type": "markdown",
   "metadata": {
    "deletable": true,
    "editable": true
   },
   "source": [
    "Construct a raw table from a csv on the web"
   ]
  },
  {
   "cell_type": "code",
   "execution_count": null,
   "metadata": {
    "collapsed": false,
    "deletable": true,
    "editable": true
   },
   "outputs": [],
   "source": [
    "#census_url = 'http://www.census.gov/popest/data/national/asrh/2014/files/NC-EST2014-AGESEX-RES.csv'\n",
    "census_url = 'http://www2.census.gov/programs-surveys/popest/datasets/2010-2014/national/asrh/nc-est2014-agesex-res.csv'\n",
    "raw_census = Table.read_table(census_url)\n",
    "raw_census"
   ]
  },
  {
   "cell_type": "code",
   "execution_count": null,
   "metadata": {
    "collapsed": false,
    "deletable": true,
    "editable": true
   },
   "outputs": [],
   "source": [
    "Table.read_table('https://onlinecourses.science.psu.edu/stat501/sites/onlinecourses.science.psu.edu.stat501/files/data/birthsmokers.txt')"
   ]
  },
  {
   "cell_type": "markdown",
   "metadata": {
    "deletable": true,
    "editable": true
   },
   "source": [
    "## Stage 1: cleaning up columns and encodings\n",
    "\n",
    "As is often the case, the data you find is pretty ugly.  "
   ]
  },
  {
   "cell_type": "code",
   "execution_count": null,
   "metadata": {
    "collapsed": true,
    "deletable": true,
    "editable": true
   },
   "outputs": [],
   "source": [
    "# A simple tool to decode an encoding\n",
    "def categorize_sex(s):\n",
    "   return ['all','male','female'][s]"
   ]
  },
  {
   "cell_type": "code",
   "execution_count": null,
   "metadata": {
    "collapsed": false,
    "deletable": true,
    "editable": true
   },
   "outputs": [],
   "source": [
    "# Keep only what we need\n",
    "pre_census = raw_census.select(['SEX', 'AGE', 'CENSUS2010POP', 'POPESTIMATE2014'])\n",
    "# Clean up the column names\n",
    "pre_census.relabel('CENSUS2010POP','2010pop')\n",
    "pre_census.relabel('POPESTIMATE2014','2014est')\n",
    "# Decode the categories\n",
    "pre_census['CAT'] = pre_census.apply(categorize_sex, 'SEX')\n",
    "# Create a new clean table getting rid of what we can\n",
    "p2_census = pre_census.drop('SEX')\n",
    "p2_census.move_to_start('CAT')\n",
    "p2_census"
   ]
  },
  {
   "cell_type": "code",
   "execution_count": null,
   "metadata": {
    "collapsed": false,
    "deletable": true,
    "editable": true
   },
   "outputs": [],
   "source": [
    "p2_census.show()"
   ]
  },
  {
   "cell_type": "markdown",
   "metadata": {
    "deletable": true,
    "editable": true
   },
   "source": [
    "## Stage 2 Cleaning up rows\n",
    "\n",
    "The Census includes *special* rows that are the total of other rows by category."
   ]
  },
  {
   "cell_type": "code",
   "execution_count": null,
   "metadata": {
    "collapsed": false,
    "deletable": true,
    "editable": true
   },
   "outputs": [],
   "source": [
    "# How many people?\n",
    "total = p2_census.where('AGE',999)\n",
    "total"
   ]
  },
  {
   "cell_type": "code",
   "execution_count": null,
   "metadata": {
    "collapsed": false,
    "deletable": true,
    "editable": true
   },
   "outputs": [],
   "source": [
    "# Remove the rows that are totals of the other rows\n",
    "# Now we have a clean Table\n",
    "census = p2_census.where(p2_census['AGE'] < 999)"
   ]
  },
  {
   "cell_type": "markdown",
   "metadata": {
    "deletable": true,
    "editable": true
   },
   "source": [
    "## Stage 3: Transform 1 dimension to 2\n",
    "\n",
    "The natural form of the data is age X gender.  We could split the table and reassmeble it,\n",
    "but a better approach is to pivot."
   ]
  },
  {
   "cell_type": "code",
   "execution_count": null,
   "metadata": {
    "collapsed": true,
    "deletable": true,
    "editable": true
   },
   "outputs": [],
   "source": [
    "# Split it by gender into two tables\n",
    "male = census.where('CAT','male')\n",
    "female = census.where('CAT','female')"
   ]
  },
  {
   "cell_type": "code",
   "execution_count": null,
   "metadata": {
    "collapsed": false,
    "deletable": true,
    "editable": true
   },
   "outputs": [],
   "source": [
    "male"
   ]
  },
  {
   "cell_type": "code",
   "execution_count": null,
   "metadata": {
    "collapsed": false,
    "deletable": true,
    "editable": true
   },
   "outputs": [],
   "source": [
    "pop2010 = census.pivot('CAT','AGE','2010pop',sum)\n",
    "pop2010"
   ]
  },
  {
   "cell_type": "markdown",
   "metadata": {
    "deletable": true,
    "editable": true
   },
   "source": [
    "## Visualization\n",
    "\n",
    "Now we can easily visualize what's in this data."
   ]
  },
  {
   "cell_type": "code",
   "execution_count": null,
   "metadata": {
    "collapsed": false,
    "deletable": true,
    "editable": true
   },
   "outputs": [],
   "source": [
    "# The number of individuals by ages\n",
    "pop2010.plot('AGE',overlay=True)"
   ]
  },
  {
   "cell_type": "code",
   "execution_count": null,
   "metadata": {
    "collapsed": false,
    "deletable": true,
    "editable": true
   },
   "outputs": [],
   "source": [
    "pop2010['diff'] = pop2010['male'] - pop2010['female']\n",
    "pop2010.show()"
   ]
  },
  {
   "cell_type": "code",
   "execution_count": null,
   "metadata": {
    "collapsed": false,
    "deletable": true,
    "editable": true
   },
   "outputs": [],
   "source": [
    "# The difference in the genders by age\n",
    "pop2010.select(['AGE', 'diff']).bar('AGE')"
   ]
  },
  {
   "cell_type": "code",
   "execution_count": null,
   "metadata": {
    "collapsed": false,
    "deletable": true,
    "editable": true
   },
   "outputs": [],
   "source": [
    "pop2010['Rel Diff'] = pop2010['diff'] / pop2010['all']\n",
    "pop2010.set_format('Rel Diff', PercentFormatter)\n",
    "pop2010.show()"
   ]
  },
  {
   "cell_type": "code",
   "execution_count": null,
   "metadata": {
    "collapsed": false,
    "deletable": true,
    "editable": true
   },
   "outputs": [],
   "source": [
    "pop2010.select(['AGE', 'Rel Diff']).bar('AGE')"
   ]
  },
  {
   "cell_type": "code",
   "execution_count": null,
   "metadata": {
    "collapsed": false,
    "deletable": true,
    "editable": true
   },
   "outputs": [],
   "source": [
    "pop2010['Ratio F/M'] = pop2010['female'] / pop2010['male']\n",
    "pop2010.select(['AGE', 'Ratio F/M']).bar('AGE')"
   ]
  }
 ],
 "metadata": {
  "anaconda-cloud": {},
  "kernelspec": {
   "display_name": "Python [default]",
   "language": "python",
   "name": "python3"
  },
  "language_info": {
   "codemirror_mode": {
    "name": "ipython",
    "version": 3
   },
   "file_extension": ".py",
   "mimetype": "text/x-python",
   "name": "python",
   "nbconvert_exporter": "python",
   "pygments_lexer": "ipython3",
   "version": "3.5.3"
  }
 },
 "nbformat": 4,
 "nbformat_minor": 0
}
